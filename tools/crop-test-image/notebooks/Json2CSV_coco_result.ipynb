{
 "cells": [
  {
   "cell_type": "code",
   "execution_count": 58,
   "id": "c3eda57f",
   "metadata": {
    "code_folding": [
     0
    ]
   },
   "outputs": [],
   "source": [
    "# modules\n",
    "\n",
    "import json\n",
    "import pandas as pd\n",
    "import matplotlib.pyplot as plt\n",
    "from typing import List, Optional\n",
    "\n",
    "import seaborn as sns\n",
    "import scipy\n",
    "from tqdm import tqdm\n",
    "\n",
    "%matplotlib inline"
   ]
  },
  {
   "cell_type": "code",
   "execution_count": 82,
   "id": "df94e8e6",
   "metadata": {},
   "outputs": [],
   "source": [
    "with open('/home/hirano/work/Competition/Nishika_cable/CenterNet-HarDNet/exp/ctdet/new_twoclass/results.json') as f:\n",
    "    _test = json.load(f)"
   ]
  },
  {
   "cell_type": "code",
   "execution_count": 83,
   "id": "6f6cbb42",
   "metadata": {},
   "outputs": [],
   "source": [
    "test = pd.DataFrame(_test)"
   ]
  },
  {
   "cell_type": "code",
   "execution_count": 84,
   "id": "ea89bd3f",
   "metadata": {
    "scrolled": false
   },
   "outputs": [
    {
     "name": "stdout",
     "output_type": "stream",
     "text": [
      "<class 'pandas.core.frame.DataFrame'>\n",
      "RangeIndex: 12057 entries, 0 to 12056\n",
      "Data columns (total 4 columns):\n",
      " #   Column       Non-Null Count  Dtype  \n",
      "---  ------       --------------  -----  \n",
      " 0   image_id     12057 non-null  object \n",
      " 1   category_id  12057 non-null  int64  \n",
      " 2   bbox         12057 non-null  object \n",
      " 3   score        12057 non-null  float64\n",
      "dtypes: float64(1), int64(1), object(2)\n",
      "memory usage: 376.9+ KB\n"
     ]
    }
   ],
   "source": [
    "test.info()\n",
    "#test.describe()"
   ]
  },
  {
   "cell_type": "code",
   "execution_count": 85,
   "id": "8fe18483",
   "metadata": {},
   "outputs": [
    {
     "name": "stdout",
     "output_type": "stream",
     "text": [
      "検出数は12057個\n"
     ]
    }
   ],
   "source": [
    "over_num = len(test)\n",
    "print(f'検出数は{over_num}個')"
   ]
  },
  {
   "cell_type": "code",
   "execution_count": 86,
   "id": "21232424",
   "metadata": {},
   "outputs": [
    {
     "name": "stdout",
     "output_type": "stream",
     "text": [
      "8cfecd93    3\n",
      "44512bcb    3\n",
      "cdcaf888    3\n",
      "aa522a6b    3\n",
      "ea2c89be    3\n",
      "           ..\n",
      "f6543e95    3\n",
      "093434a3    3\n",
      "0d21ae12    3\n",
      "1158e7e1    3\n",
      "5b4afb8d    3\n",
      "Name: image_id, Length: 4019, dtype: int64\n"
     ]
    }
   ],
   "source": [
    "vc = test['image_id'].value_counts()\n",
    "print(vc)\n",
    "#print(type(vc))"
   ]
  },
  {
   "cell_type": "code",
   "execution_count": 87,
   "id": "081d1200",
   "metadata": {},
   "outputs": [
    {
     "data": {
      "text/html": [
       "<div>\n",
       "<style scoped>\n",
       "    .dataframe tbody tr th:only-of-type {\n",
       "        vertical-align: middle;\n",
       "    }\n",
       "\n",
       "    .dataframe tbody tr th {\n",
       "        vertical-align: top;\n",
       "    }\n",
       "\n",
       "    .dataframe thead th {\n",
       "        text-align: right;\n",
       "    }\n",
       "</style>\n",
       "<table border=\"1\" class=\"dataframe\">\n",
       "  <thead>\n",
       "    <tr style=\"text-align: right;\">\n",
       "      <th></th>\n",
       "      <th>image_id</th>\n",
       "      <th>category_id</th>\n",
       "      <th>bbox</th>\n",
       "      <th>score</th>\n",
       "    </tr>\n",
       "  </thead>\n",
       "  <tbody>\n",
       "  </tbody>\n",
       "</table>\n",
       "</div>"
      ],
      "text/plain": [
       "Empty DataFrame\n",
       "Columns: [image_id, category_id, bbox, score]\n",
       "Index: []"
      ]
     },
     "execution_count": 87,
     "metadata": {},
     "output_type": "execute_result"
    }
   ],
   "source": [
    "pd.set_option('display.max_rows', 110)\n",
    "test[test['image_id'] == \"fc2a469f\"]"
   ]
  },
  {
   "cell_type": "markdown",
   "id": "d1c647cd",
   "metadata": {},
   "source": [
    "マイナスの値を含む結果があるときは100以上の個数となっていそう"
   ]
  },
  {
   "cell_type": "markdown",
   "id": "5fa07b37",
   "metadata": {
    "heading_collapsed": true
   },
   "source": [
    "# しきい値判定してJson2csv"
   ]
  },
  {
   "cell_type": "code",
   "execution_count": 88,
   "id": "bfa77605",
   "metadata": {
    "hidden": true
   },
   "outputs": [],
   "source": [
    "# Scoreで上位順にソートする\n",
    "test = test.sort_values(by='score', ascending=False)"
   ]
  },
  {
   "cell_type": "code",
   "execution_count": 89,
   "id": "1d2a6a5f",
   "metadata": {
    "hidden": true
   },
   "outputs": [
    {
     "data": {
      "text/html": [
       "<div>\n",
       "<style scoped>\n",
       "    .dataframe tbody tr th:only-of-type {\n",
       "        vertical-align: middle;\n",
       "    }\n",
       "\n",
       "    .dataframe tbody tr th {\n",
       "        vertical-align: top;\n",
       "    }\n",
       "\n",
       "    .dataframe thead th {\n",
       "        text-align: right;\n",
       "    }\n",
       "</style>\n",
       "<table border=\"1\" class=\"dataframe\">\n",
       "  <thead>\n",
       "    <tr style=\"text-align: right;\">\n",
       "      <th></th>\n",
       "      <th>image_id</th>\n",
       "      <th>category_id</th>\n",
       "      <th>bbox</th>\n",
       "      <th>score</th>\n",
       "    </tr>\n",
       "  </thead>\n",
       "  <tbody>\n",
       "    <tr>\n",
       "      <th>5265</th>\n",
       "      <td>6a0a323d</td>\n",
       "      <td>1</td>\n",
       "      <td>[1320.44, 984.64, 404.38, 1275.57]</td>\n",
       "      <td>0.67</td>\n",
       "    </tr>\n",
       "    <tr>\n",
       "      <th>7257</th>\n",
       "      <td>9e3b6232</td>\n",
       "      <td>1</td>\n",
       "      <td>[1158.87, 1690.8, 876.5, 565.91]</td>\n",
       "      <td>0.67</td>\n",
       "    </tr>\n",
       "    <tr>\n",
       "      <th>3507</th>\n",
       "      <td>2794fbee</td>\n",
       "      <td>1</td>\n",
       "      <td>[927.83, 1891.76, 674.77, 217.7]</td>\n",
       "      <td>0.66</td>\n",
       "    </tr>\n",
       "    <tr>\n",
       "      <th>10545</th>\n",
       "      <td>41332273</td>\n",
       "      <td>1</td>\n",
       "      <td>[1010.68, 1646.08, 1074.13, 650.31]</td>\n",
       "      <td>0.66</td>\n",
       "    </tr>\n",
       "    <tr>\n",
       "      <th>9894</th>\n",
       "      <td>6b32c01a</td>\n",
       "      <td>1</td>\n",
       "      <td>[898.02, 1894.54, 732.88, 411.3]</td>\n",
       "      <td>0.66</td>\n",
       "    </tr>\n",
       "    <tr>\n",
       "      <th>...</th>\n",
       "      <td>...</td>\n",
       "      <td>...</td>\n",
       "      <td>...</td>\n",
       "      <td>...</td>\n",
       "    </tr>\n",
       "    <tr>\n",
       "      <th>10775</th>\n",
       "      <td>2c17079b</td>\n",
       "      <td>1</td>\n",
       "      <td>[-27.51, -24.3, 75.68, 75.19]</td>\n",
       "      <td>0.01</td>\n",
       "    </tr>\n",
       "    <tr>\n",
       "      <th>9506</th>\n",
       "      <td>b7b99ba7</td>\n",
       "      <td>1</td>\n",
       "      <td>[1617.7, 1225.46, 1024.28, 740.35]</td>\n",
       "      <td>0.01</td>\n",
       "    </tr>\n",
       "    <tr>\n",
       "      <th>3995</th>\n",
       "      <td>77c53fd8</td>\n",
       "      <td>1</td>\n",
       "      <td>[-57.09, 3963.12, 137.81, 109.72]</td>\n",
       "      <td>0.01</td>\n",
       "    </tr>\n",
       "    <tr>\n",
       "      <th>10772</th>\n",
       "      <td>a5a3f1cc</td>\n",
       "      <td>1</td>\n",
       "      <td>[772.47, 3934.15, 934.93, 94.01]</td>\n",
       "      <td>0.01</td>\n",
       "    </tr>\n",
       "    <tr>\n",
       "      <th>8264</th>\n",
       "      <td>25d114d4</td>\n",
       "      <td>1</td>\n",
       "      <td>[-30.6, 3967.28, 81.49, 106.02]</td>\n",
       "      <td>0.01</td>\n",
       "    </tr>\n",
       "  </tbody>\n",
       "</table>\n",
       "<p>12057 rows × 4 columns</p>\n",
       "</div>"
      ],
      "text/plain": [
       "       image_id  category_id                                 bbox  score\n",
       "5265   6a0a323d            1   [1320.44, 984.64, 404.38, 1275.57]   0.67\n",
       "7257   9e3b6232            1     [1158.87, 1690.8, 876.5, 565.91]   0.67\n",
       "3507   2794fbee            1     [927.83, 1891.76, 674.77, 217.7]   0.66\n",
       "10545  41332273            1  [1010.68, 1646.08, 1074.13, 650.31]   0.66\n",
       "9894   6b32c01a            1     [898.02, 1894.54, 732.88, 411.3]   0.66\n",
       "...         ...          ...                                  ...    ...\n",
       "10775  2c17079b            1        [-27.51, -24.3, 75.68, 75.19]   0.01\n",
       "9506   b7b99ba7            1   [1617.7, 1225.46, 1024.28, 740.35]   0.01\n",
       "3995   77c53fd8            1    [-57.09, 3963.12, 137.81, 109.72]   0.01\n",
       "10772  a5a3f1cc            1     [772.47, 3934.15, 934.93, 94.01]   0.01\n",
       "8264   25d114d4            1      [-30.6, 3967.28, 81.49, 106.02]   0.01\n",
       "\n",
       "[12057 rows x 4 columns]"
      ]
     },
     "execution_count": 89,
     "metadata": {},
     "output_type": "execute_result"
    }
   ],
   "source": [
    "test"
   ]
  },
  {
   "cell_type": "code",
   "execution_count": 90,
   "id": "0b2d7675",
   "metadata": {
    "hidden": true,
    "scrolled": true
   },
   "outputs": [
    {
     "data": {
      "text/html": [
       "<div>\n",
       "<style scoped>\n",
       "    .dataframe tbody tr th:only-of-type {\n",
       "        vertical-align: middle;\n",
       "    }\n",
       "\n",
       "    .dataframe tbody tr th {\n",
       "        vertical-align: top;\n",
       "    }\n",
       "\n",
       "    .dataframe thead th {\n",
       "        text-align: right;\n",
       "    }\n",
       "</style>\n",
       "<table border=\"1\" class=\"dataframe\">\n",
       "  <thead>\n",
       "    <tr style=\"text-align: right;\">\n",
       "      <th></th>\n",
       "      <th>image_id</th>\n",
       "      <th>category_id</th>\n",
       "      <th>bbox</th>\n",
       "      <th>score</th>\n",
       "    </tr>\n",
       "  </thead>\n",
       "  <tbody>\n",
       "  </tbody>\n",
       "</table>\n",
       "</div>"
      ],
      "text/plain": [
       "Empty DataFrame\n",
       "Columns: [image_id, category_id, bbox, score]\n",
       "Index: []"
      ]
     },
     "execution_count": 90,
     "metadata": {},
     "output_type": "execute_result"
    }
   ],
   "source": [
    "# Example\n",
    "test[test['image_id']=='fc2a469f']"
   ]
  },
  {
   "cell_type": "code",
   "execution_count": 91,
   "id": "606fc776",
   "metadata": {
    "hidden": true
   },
   "outputs": [],
   "source": [
    "image_ids = test['image_id'].unique()"
   ]
  },
  {
   "cell_type": "code",
   "execution_count": 92,
   "id": "d690bf0c",
   "metadata": {
    "hidden": true
   },
   "outputs": [
    {
     "data": {
      "text/plain": [
       "array(['6a0a323d', '9e3b6232', '2794fbee', ..., '8ede6b26', 'da70dfa4',\n",
       "       '8c244b37'], dtype=object)"
      ]
     },
     "execution_count": 92,
     "metadata": {},
     "output_type": "execute_result"
    }
   ],
   "source": [
    "image_ids"
   ]
  },
  {
   "cell_type": "code",
   "execution_count": 93,
   "id": "dbcfe797",
   "metadata": {
    "hidden": true
   },
   "outputs": [],
   "source": [
    "def check_include_minus(values:list):\n",
    "    for value in values:\n",
    "        if value < 0:\n",
    "            return True\n",
    "    return False"
   ]
  },
  {
   "cell_type": "code",
   "execution_count": 94,
   "id": "5715370d",
   "metadata": {
    "hidden": true
   },
   "outputs": [
    {
     "data": {
      "text/html": [
       "<div>\n",
       "<style scoped>\n",
       "    .dataframe tbody tr th:only-of-type {\n",
       "        vertical-align: middle;\n",
       "    }\n",
       "\n",
       "    .dataframe tbody tr th {\n",
       "        vertical-align: top;\n",
       "    }\n",
       "\n",
       "    .dataframe thead th {\n",
       "        text-align: right;\n",
       "    }\n",
       "</style>\n",
       "<table border=\"1\" class=\"dataframe\">\n",
       "  <thead>\n",
       "    <tr style=\"text-align: right;\">\n",
       "      <th></th>\n",
       "      <th>image_id</th>\n",
       "      <th>category_id</th>\n",
       "      <th>bbox</th>\n",
       "      <th>score</th>\n",
       "    </tr>\n",
       "  </thead>\n",
       "  <tbody>\n",
       "  </tbody>\n",
       "</table>\n",
       "</div>"
      ],
      "text/plain": [
       "Empty DataFrame\n",
       "Columns: [image_id, category_id, bbox, score]\n",
       "Index: []"
      ]
     },
     "execution_count": 94,
     "metadata": {},
     "output_type": "execute_result"
    }
   ],
   "source": [
    "test[test['image_id']=='822f0353'].head(2)"
   ]
  },
  {
   "cell_type": "code",
   "execution_count": 95,
   "id": "37a82525",
   "metadata": {
    "hidden": true,
    "scrolled": true
   },
   "outputs": [
    {
     "name": "stdout",
     "output_type": "stream",
     "text": [
      "HH\n",
      "HH\n",
      "HH\n",
      "8cfecd93    1\n",
      "b138c0b3    1\n",
      "d5b493c6    1\n",
      "81b18754    1\n",
      "d26fc733    1\n",
      "           ..\n",
      "782e82d6    1\n",
      "eaa0689a    1\n",
      "0d6f9709    1\n",
      "f42740c1    1\n",
      "5b4afb8d    1\n",
      "Name: image_id, Length: 4019, dtype: int64\n"
     ]
    }
   ],
   "source": [
    "df_tmp = None\n",
    "\n",
    "for idx in image_ids:\n",
    "    \n",
    "    #idx = image_ids[idx]\n",
    "    file_num = test[test['image_id']==idx].head(1)['bbox'].index[0]\n",
    "    bbox     = test[test['image_id']==idx].head(1)['bbox'][file_num]\n",
    "    \n",
    "    if check_include_minus(bbox):\n",
    "        print('HH')\n",
    "        df_tmp = pd.concat([df_tmp, test[test['image_id']==idx].head(2)[1:]], axis=0)\n",
    "    else:\n",
    "        df_tmp = pd.concat([df_tmp, test[test['image_id']==idx].head(1)], axis=0)\n",
    "\n",
    "print(df_tmp['image_id'].value_counts())"
   ]
  },
  {
   "cell_type": "code",
   "execution_count": 97,
   "id": "b0214ba4",
   "metadata": {
    "hidden": true
   },
   "outputs": [
    {
     "data": {
      "text/html": [
       "<div>\n",
       "<style scoped>\n",
       "    .dataframe tbody tr th:only-of-type {\n",
       "        vertical-align: middle;\n",
       "    }\n",
       "\n",
       "    .dataframe tbody tr th {\n",
       "        vertical-align: top;\n",
       "    }\n",
       "\n",
       "    .dataframe thead th {\n",
       "        text-align: right;\n",
       "    }\n",
       "</style>\n",
       "<table border=\"1\" class=\"dataframe\">\n",
       "  <thead>\n",
       "    <tr style=\"text-align: right;\">\n",
       "      <th></th>\n",
       "      <th>image_id</th>\n",
       "      <th>category_id</th>\n",
       "      <th>bbox</th>\n",
       "      <th>score</th>\n",
       "    </tr>\n",
       "  </thead>\n",
       "  <tbody>\n",
       "    <tr>\n",
       "      <th>5265</th>\n",
       "      <td>6a0a323d</td>\n",
       "      <td>1</td>\n",
       "      <td>[1320.44, 984.64, 404.38, 1275.57]</td>\n",
       "      <td>0.67</td>\n",
       "    </tr>\n",
       "    <tr>\n",
       "      <th>7257</th>\n",
       "      <td>9e3b6232</td>\n",
       "      <td>1</td>\n",
       "      <td>[1158.87, 1690.8, 876.5, 565.91]</td>\n",
       "      <td>0.67</td>\n",
       "    </tr>\n",
       "    <tr>\n",
       "      <th>3507</th>\n",
       "      <td>2794fbee</td>\n",
       "      <td>1</td>\n",
       "      <td>[927.83, 1891.76, 674.77, 217.7]</td>\n",
       "      <td>0.66</td>\n",
       "    </tr>\n",
       "    <tr>\n",
       "      <th>10545</th>\n",
       "      <td>41332273</td>\n",
       "      <td>1</td>\n",
       "      <td>[1010.68, 1646.08, 1074.13, 650.31]</td>\n",
       "      <td>0.66</td>\n",
       "    </tr>\n",
       "    <tr>\n",
       "      <th>9894</th>\n",
       "      <td>6b32c01a</td>\n",
       "      <td>1</td>\n",
       "      <td>[898.02, 1894.54, 732.88, 411.3]</td>\n",
       "      <td>0.66</td>\n",
       "    </tr>\n",
       "    <tr>\n",
       "      <th>...</th>\n",
       "      <td>...</td>\n",
       "      <td>...</td>\n",
       "      <td>...</td>\n",
       "      <td>...</td>\n",
       "    </tr>\n",
       "    <tr>\n",
       "      <th>8886</th>\n",
       "      <td>f8646a25</td>\n",
       "      <td>1</td>\n",
       "      <td>[1600.69, 2108.22, 227.49, 211.56]</td>\n",
       "      <td>0.05</td>\n",
       "    </tr>\n",
       "    <tr>\n",
       "      <th>8304</th>\n",
       "      <td>9b21b03d</td>\n",
       "      <td>1</td>\n",
       "      <td>[369.56, 1830.57, 145.47, 90.65]</td>\n",
       "      <td>0.05</td>\n",
       "    </tr>\n",
       "    <tr>\n",
       "      <th>9815</th>\n",
       "      <td>8ede6b26</td>\n",
       "      <td>1</td>\n",
       "      <td>[1241.17, 44.25, 978.33, 852.95]</td>\n",
       "      <td>0.05</td>\n",
       "    </tr>\n",
       "    <tr>\n",
       "      <th>10887</th>\n",
       "      <td>da70dfa4</td>\n",
       "      <td>1</td>\n",
       "      <td>[0.3, 1.32, 29.75, 36.02]</td>\n",
       "      <td>0.05</td>\n",
       "    </tr>\n",
       "    <tr>\n",
       "      <th>10098</th>\n",
       "      <td>8c244b37</td>\n",
       "      <td>1</td>\n",
       "      <td>[519.09, 2881.17, 409.99, 191.81]</td>\n",
       "      <td>0.04</td>\n",
       "    </tr>\n",
       "  </tbody>\n",
       "</table>\n",
       "<p>4019 rows × 4 columns</p>\n",
       "</div>"
      ],
      "text/plain": [
       "       image_id  category_id                                 bbox  score\n",
       "5265   6a0a323d            1   [1320.44, 984.64, 404.38, 1275.57]   0.67\n",
       "7257   9e3b6232            1     [1158.87, 1690.8, 876.5, 565.91]   0.67\n",
       "3507   2794fbee            1     [927.83, 1891.76, 674.77, 217.7]   0.66\n",
       "10545  41332273            1  [1010.68, 1646.08, 1074.13, 650.31]   0.66\n",
       "9894   6b32c01a            1     [898.02, 1894.54, 732.88, 411.3]   0.66\n",
       "...         ...          ...                                  ...    ...\n",
       "8886   f8646a25            1   [1600.69, 2108.22, 227.49, 211.56]   0.05\n",
       "8304   9b21b03d            1     [369.56, 1830.57, 145.47, 90.65]   0.05\n",
       "9815   8ede6b26            1     [1241.17, 44.25, 978.33, 852.95]   0.05\n",
       "10887  da70dfa4            1            [0.3, 1.32, 29.75, 36.02]   0.05\n",
       "10098  8c244b37            1    [519.09, 2881.17, 409.99, 191.81]   0.04\n",
       "\n",
       "[4019 rows x 4 columns]"
      ]
     },
     "execution_count": 97,
     "metadata": {},
     "output_type": "execute_result"
    }
   ],
   "source": [
    "df_tmp"
   ]
  },
  {
   "cell_type": "code",
   "execution_count": 98,
   "id": "9086cdc0",
   "metadata": {
    "hidden": true
   },
   "outputs": [
    {
     "data": {
      "text/plain": [
       "\"\\ndf_tmp = None\\n\\nfor i in tqdm(range(0, len(image_ids))):    \\n    \\n    idx = image_ids[i]\\n    file_num = test[test['image_id']==idx].head(1)['bbox'].index[0]\\n    bbox     = test[test['image_id']==idx].head(1)['bbox'][file_num]\\n    #print(idx, file_num, bbox, check_include_minus(bbox))\\n    \\n    if check_include_minus(bbox):\\n        print(i)\\n        break\\n        df_tmp = pd.concat([df_tmp, test[test['image_id']==idx].head(2)[1:]], axis=0)\\n    else:\\n        break\\n        print(i)\\n        df_tmp = pd.concat([df_tmp, test[test['image_id']==idx].head(1)], axis=0)\\n    #break\\n\\nprint(df_tmp['image_id'].value_counts())\\n\""
      ]
     },
     "execution_count": 98,
     "metadata": {},
     "output_type": "execute_result"
    }
   ],
   "source": [
    "\"\"\"\n",
    "df_tmp = None\n",
    "\n",
    "for i in tqdm(range(0, len(image_ids))):    \n",
    "    \n",
    "    idx = image_ids[i]\n",
    "    file_num = test[test['image_id']==idx].head(1)['bbox'].index[0]\n",
    "    bbox     = test[test['image_id']==idx].head(1)['bbox'][file_num]\n",
    "    #print(idx, file_num, bbox, check_include_minus(bbox))\n",
    "    \n",
    "    if check_include_minus(bbox):\n",
    "        print(i)\n",
    "        break\n",
    "        df_tmp = pd.concat([df_tmp, test[test['image_id']==idx].head(2)[1:]], axis=0)\n",
    "    else:\n",
    "        break\n",
    "        print(i)\n",
    "        df_tmp = pd.concat([df_tmp, test[test['image_id']==idx].head(1)], axis=0)\n",
    "    #break\n",
    "\n",
    "print(df_tmp['image_id'].value_counts())\n",
    "\"\"\""
   ]
  },
  {
   "cell_type": "code",
   "execution_count": 99,
   "id": "cd6b441e",
   "metadata": {
    "hidden": true
   },
   "outputs": [],
   "source": [
    "df_tmp.to_csv('../annotations/result_new_twoclass_trainall.csv')"
   ]
  },
  {
   "cell_type": "code",
   "execution_count": 51,
   "id": "68b8582b",
   "metadata": {
    "hidden": true
   },
   "outputs": [],
   "source": [
    "#id_names = set(test2['image_id']) - set(test['image_id'])\n",
    "#print(len(id_names))"
   ]
  },
  {
   "cell_type": "markdown",
   "id": "c41b0840",
   "metadata": {
    "hidden": true
   },
   "source": [
    "## Train"
   ]
  },
  {
   "cell_type": "code",
   "execution_count": 4,
   "id": "be8b0fa7",
   "metadata": {
    "hidden": true
   },
   "outputs": [],
   "source": [
    "with open('../annotations/results_train_all.json') as f:\n",
    "    _train_all = json.load(f)\n",
    "\n",
    "train_all = pd.DataFrame(_train_all)"
   ]
  },
  {
   "cell_type": "code",
   "execution_count": 5,
   "id": "45036173",
   "metadata": {
    "hidden": true
   },
   "outputs": [
    {
     "data": {
      "text/html": [
       "<div>\n",
       "<style scoped>\n",
       "    .dataframe tbody tr th:only-of-type {\n",
       "        vertical-align: middle;\n",
       "    }\n",
       "\n",
       "    .dataframe tbody tr th {\n",
       "        vertical-align: top;\n",
       "    }\n",
       "\n",
       "    .dataframe thead th {\n",
       "        text-align: right;\n",
       "    }\n",
       "</style>\n",
       "<table border=\"1\" class=\"dataframe\">\n",
       "  <thead>\n",
       "    <tr style=\"text-align: right;\">\n",
       "      <th></th>\n",
       "      <th>image_id</th>\n",
       "      <th>category_id</th>\n",
       "      <th>bbox</th>\n",
       "      <th>score</th>\n",
       "    </tr>\n",
       "  </thead>\n",
       "  <tbody>\n",
       "    <tr>\n",
       "      <th>0</th>\n",
       "      <td>2f71963a</td>\n",
       "      <td>1</td>\n",
       "      <td>[1031.4, 1689.82, 560.52, 364.7]</td>\n",
       "      <td>0.51</td>\n",
       "    </tr>\n",
       "    <tr>\n",
       "      <th>1</th>\n",
       "      <td>2f71963a</td>\n",
       "      <td>1</td>\n",
       "      <td>[1035.4, 1701.33, 551.68, 339.51]</td>\n",
       "      <td>0.09</td>\n",
       "    </tr>\n",
       "    <tr>\n",
       "      <th>2</th>\n",
       "      <td>2f71963a</td>\n",
       "      <td>1</td>\n",
       "      <td>[1031.65, 1693.27, 559.78, 357.78]</td>\n",
       "      <td>0.01</td>\n",
       "    </tr>\n",
       "    <tr>\n",
       "      <th>3</th>\n",
       "      <td>2f71963a</td>\n",
       "      <td>1</td>\n",
       "      <td>[-9.97, -18.64, 43.35, 69.38]</td>\n",
       "      <td>0.01</td>\n",
       "    </tr>\n",
       "    <tr>\n",
       "      <th>4</th>\n",
       "      <td>2f71963a</td>\n",
       "      <td>2</td>\n",
       "      <td>[1031.65, 1693.27, 559.78, 357.78]</td>\n",
       "      <td>0.02</td>\n",
       "    </tr>\n",
       "    <tr>\n",
       "      <th>...</th>\n",
       "      <td>...</td>\n",
       "      <td>...</td>\n",
       "      <td>...</td>\n",
       "      <td>...</td>\n",
       "    </tr>\n",
       "    <tr>\n",
       "      <th>402066</th>\n",
       "      <td>6a175db8</td>\n",
       "      <td>14</td>\n",
       "      <td>[567.33, 773.56, 1736.41, 1715.49]</td>\n",
       "      <td>0.01</td>\n",
       "    </tr>\n",
       "    <tr>\n",
       "      <th>402067</th>\n",
       "      <td>6a175db8</td>\n",
       "      <td>14</td>\n",
       "      <td>[582.03, 904.4, 1659.89, 1632.55]</td>\n",
       "      <td>0.01</td>\n",
       "    </tr>\n",
       "    <tr>\n",
       "      <th>402068</th>\n",
       "      <td>6a175db8</td>\n",
       "      <td>15</td>\n",
       "      <td>[1033.6, 917.81, 1780.33, 1609.13]</td>\n",
       "      <td>0.02</td>\n",
       "    </tr>\n",
       "    <tr>\n",
       "      <th>402069</th>\n",
       "      <td>6a175db8</td>\n",
       "      <td>15</td>\n",
       "      <td>[615.48, 902.84, 1638.39, 1634.98]</td>\n",
       "      <td>0.01</td>\n",
       "    </tr>\n",
       "    <tr>\n",
       "      <th>402070</th>\n",
       "      <td>6a175db8</td>\n",
       "      <td>15</td>\n",
       "      <td>[1281.8, 1457.19, 768.68, 1274.36]</td>\n",
       "      <td>0.00</td>\n",
       "    </tr>\n",
       "  </tbody>\n",
       "</table>\n",
       "<p>402071 rows × 4 columns</p>\n",
       "</div>"
      ],
      "text/plain": [
       "        image_id  category_id                                bbox  score\n",
       "0       2f71963a            1    [1031.4, 1689.82, 560.52, 364.7]   0.51\n",
       "1       2f71963a            1   [1035.4, 1701.33, 551.68, 339.51]   0.09\n",
       "2       2f71963a            1  [1031.65, 1693.27, 559.78, 357.78]   0.01\n",
       "3       2f71963a            1       [-9.97, -18.64, 43.35, 69.38]   0.01\n",
       "4       2f71963a            2  [1031.65, 1693.27, 559.78, 357.78]   0.02\n",
       "...          ...          ...                                 ...    ...\n",
       "402066  6a175db8           14  [567.33, 773.56, 1736.41, 1715.49]   0.01\n",
       "402067  6a175db8           14   [582.03, 904.4, 1659.89, 1632.55]   0.01\n",
       "402068  6a175db8           15  [1033.6, 917.81, 1780.33, 1609.13]   0.02\n",
       "402069  6a175db8           15  [615.48, 902.84, 1638.39, 1634.98]   0.01\n",
       "402070  6a175db8           15  [1281.8, 1457.19, 768.68, 1274.36]   0.00\n",
       "\n",
       "[402071 rows x 4 columns]"
      ]
     },
     "execution_count": 5,
     "metadata": {},
     "output_type": "execute_result"
    }
   ],
   "source": [
    "train_all"
   ]
  },
  {
   "cell_type": "code",
   "execution_count": 6,
   "id": "171cc630",
   "metadata": {
    "hidden": true
   },
   "outputs": [],
   "source": [
    "train_all = train_all.sort_values(by='score', ascending=False)"
   ]
  },
  {
   "cell_type": "code",
   "execution_count": 7,
   "id": "f9e6829c",
   "metadata": {
    "hidden": true
   },
   "outputs": [
    {
     "name": "stdout",
     "output_type": "stream",
     "text": [
      "4019\n"
     ]
    }
   ],
   "source": [
    "image_ids = train_all['image_id'].unique()\n",
    "print(len(image_ids))"
   ]
  },
  {
   "cell_type": "code",
   "execution_count": 16,
   "id": "50aa949a",
   "metadata": {
    "hidden": true
   },
   "outputs": [],
   "source": [
    "import numpy as np\n",
    "def as_list_bbox(bbox: str):\n",
    "    return tuple(np.array(bbox.replace(\"[\", \"\").replace(\"]\", \"\").split(\",\"), dtype=np.float32))"
   ]
  },
  {
   "cell_type": "code",
   "execution_count": 15,
   "id": "34e91bd0",
   "metadata": {
    "hidden": true
   },
   "outputs": [],
   "source": [
    "def check_include_minus(values:list):\n",
    "    for value in values:\n",
    "        if value < 0:\n",
    "            return True\n",
    "    return False"
   ]
  },
  {
   "cell_type": "code",
   "execution_count": 57,
   "id": "05709b53",
   "metadata": {
    "hidden": true
   },
   "outputs": [],
   "source": [
    "#idx = train_all[train_all['image_id']==\"b978553d\"].head(1)['bbox'].index[0]\n",
    "#print(idx)\n",
    "#tmp = train_all[train_all['image_id']==\"b978553d\"].head(1)['bbox'][idx]\n",
    "#print(tmp)\n",
    "#check_include_minus(tmp)"
   ]
  },
  {
   "cell_type": "code",
   "execution_count": 73,
   "id": "6fc52179",
   "metadata": {
    "hidden": true
   },
   "outputs": [
    {
     "data": {
      "text/plain": [
       "111665"
      ]
     },
     "execution_count": 73,
     "metadata": {},
     "output_type": "execute_result"
    }
   ],
   "source": [
    "train_all[train_all['image_id']=='b978553d'].index[1]"
   ]
  },
  {
   "cell_type": "code",
   "execution_count": 91,
   "id": "d3ce032b",
   "metadata": {
    "hidden": true
   },
   "outputs": [
    {
     "data": {
      "text/html": [
       "<div>\n",
       "<style scoped>\n",
       "    .dataframe tbody tr th:only-of-type {\n",
       "        vertical-align: middle;\n",
       "    }\n",
       "\n",
       "    .dataframe tbody tr th {\n",
       "        vertical-align: top;\n",
       "    }\n",
       "\n",
       "    .dataframe thead th {\n",
       "        text-align: right;\n",
       "    }\n",
       "</style>\n",
       "<table border=\"1\" class=\"dataframe\">\n",
       "  <thead>\n",
       "    <tr style=\"text-align: right;\">\n",
       "      <th></th>\n",
       "      <th>image_id</th>\n",
       "      <th>category_id</th>\n",
       "      <th>bbox</th>\n",
       "      <th>score</th>\n",
       "    </tr>\n",
       "  </thead>\n",
       "  <tbody>\n",
       "    <tr>\n",
       "      <th>111665</th>\n",
       "      <td>b978553d</td>\n",
       "      <td>5</td>\n",
       "      <td>[216.85, 659.5, 318.57, 380.69]</td>\n",
       "      <td>0.23</td>\n",
       "    </tr>\n",
       "  </tbody>\n",
       "</table>\n",
       "</div>"
      ],
      "text/plain": [
       "        image_id  category_id                             bbox  score\n",
       "111665  b978553d            5  [216.85, 659.5, 318.57, 380.69]   0.23"
      ]
     },
     "execution_count": 91,
     "metadata": {},
     "output_type": "execute_result"
    }
   ],
   "source": [
    "train_all[train_all['image_id']=='b978553d'].head(2)[1:]"
   ]
  },
  {
   "cell_type": "code",
   "execution_count": 94,
   "id": "caabb8e0",
   "metadata": {
    "hidden": true
   },
   "outputs": [
    {
     "name": "stderr",
     "output_type": "stream",
     "text": [
      "100%|██████████| 4019/4019 [06:20<00:00, 10.56it/s]\n"
     ]
    }
   ],
   "source": [
    "df_tmp = None\n",
    "\n",
    "#for idx in tqdm(image_ids):\n",
    "for i in tqdm(range(0, len(image_ids))):    \n",
    "    idx = image_ids[i]\n",
    "    #print(idx, test[test['image_id']==idx].head(3))\n",
    "    \n",
    "    file_num = train_all[train_all['image_id']==idx].head(1)['bbox'].index[0]\n",
    "    bbox     = train_all[train_all['image_id']==idx].head(1)['bbox'][file_num]\n",
    "    #print(idx, file_num, bbox, check_include_minus(bbox))\n",
    "    if check_include_minus(bbox):\n",
    "        df_tmp = pd.concat([df_tmp, train_all[train_all['image_id']==idx].head(2)[1:]], axis=0)\n",
    "    else:\n",
    "        df_tmp = pd.concat([df_tmp, train_all[train_all['image_id']==idx].head(1)], axis=0)\n",
    "    #break\n",
    "\n",
    "#print(df_tmp['image_id'].value_counts())"
   ]
  },
  {
   "cell_type": "code",
   "execution_count": 95,
   "id": "3e3e4e45",
   "metadata": {
    "hidden": true
   },
   "outputs": [],
   "source": [
    "df_tmp.to_csv('../annotations/result_train_all_extracted.csv')"
   ]
  },
  {
   "cell_type": "code",
   "execution_count": null,
   "id": "31c6ca04",
   "metadata": {
    "hidden": true
   },
   "outputs": [],
   "source": []
  }
 ],
 "metadata": {
  "kernelspec": {
   "display_name": "Python 3 (ipykernel)",
   "language": "python",
   "name": "python3"
  },
  "language_info": {
   "codemirror_mode": {
    "name": "ipython",
    "version": 3
   },
   "file_extension": ".py",
   "mimetype": "text/x-python",
   "name": "python",
   "nbconvert_exporter": "python",
   "pygments_lexer": "ipython3",
   "version": "3.8.10"
  },
  "toc": {
   "base_numbering": 1,
   "nav_menu": {},
   "number_sections": true,
   "sideBar": true,
   "skip_h1_title": false,
   "title_cell": "Table of Contents",
   "title_sidebar": "Contents",
   "toc_cell": false,
   "toc_position": {},
   "toc_section_display": true,
   "toc_window_display": false
  }
 },
 "nbformat": 4,
 "nbformat_minor": 5
}
