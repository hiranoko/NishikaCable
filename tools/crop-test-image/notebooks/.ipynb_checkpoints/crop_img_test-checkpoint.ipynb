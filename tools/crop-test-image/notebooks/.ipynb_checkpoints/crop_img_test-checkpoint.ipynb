{
 "cells": [
  {
   "cell_type": "code",
   "execution_count": 25,
   "id": "3dd7794d",
   "metadata": {
    "code_folding": [
     0
    ]
   },
   "outputs": [],
   "source": [
    "# modules\n",
    "\n",
    "import os\n",
    "import cv2\n",
    "import csv\n",
    "import numpy as np\n",
    "import matplotlib.pyplot as plt\n",
    "import glob\n",
    "from tqdm import tqdm\n",
    "import pandas as pd"
   ]
  },
  {
   "cell_type": "code",
   "execution_count": 26,
   "id": "de9e9f28",
   "metadata": {
    "code_folding": [
     1,
     5,
     15
    ]
   },
   "outputs": [],
   "source": [
    "# Utils\n",
    "def as_list_bbox(bbox: str):\n",
    "    #return tuple(np.array(bbox.replace(\"[\", \"\").replace(\"]\", \"\").split(\",\"), dtype=np.float32))\n",
    "    return list(np.array(bbox.replace(\"[\", \"\").replace(\"]\", \"\").split(\",\"), dtype=np.float32))\n",
    "\n",
    "def crop_bbox_img(img, bbox):\n",
    "    '''\n",
    "    LeftTop_RightBottom\n",
    "    '''\n",
    "    x_min = int(bbox[0])\n",
    "    y_min = int(bbox[1])\n",
    "    x_max = int(bbox[0]+bbox[2])\n",
    "    y_max = int(bbox[1]+bbox[3])\n",
    "    return img[y_min:y_max,x_min:x_max,:]\n",
    "\n",
    "def crop_square_img(img, bbox, scale=1.2):\n",
    "    height, width, ch = img.shape\n",
    "    length = max(bbox[2:4])*scale\n",
    "    x = int(bbox[0]+bbox[2]//2)\n",
    "    y = int(bbox[1]+bbox[3]//2)\n",
    "    #print(x, y)\n",
    "    # Center\n",
    "    x_min = int(x-length//2)\n",
    "    y_min = int(y-length//2)\n",
    "    x_max = int(x+length//2)\n",
    "    y_max = int(y+length//2)\n",
    "    return img[y_min:y_max,x_min:x_max,:]"
   ]
  },
  {
   "cell_type": "markdown",
   "id": "051e1fda",
   "metadata": {},
   "source": [
    "# New two class"
   ]
  },
  {
   "cell_type": "markdown",
   "id": "437b3c04",
   "metadata": {},
   "source": [
    "## Test"
   ]
  },
  {
   "cell_type": "code",
   "execution_count": 44,
   "id": "c5e93bc5",
   "metadata": {},
   "outputs": [
    {
     "data": {
      "text/html": [
       "<div>\n",
       "<style scoped>\n",
       "    .dataframe tbody tr th:only-of-type {\n",
       "        vertical-align: middle;\n",
       "    }\n",
       "\n",
       "    .dataframe tbody tr th {\n",
       "        vertical-align: top;\n",
       "    }\n",
       "\n",
       "    .dataframe thead th {\n",
       "        text-align: right;\n",
       "    }\n",
       "</style>\n",
       "<table border=\"1\" class=\"dataframe\">\n",
       "  <thead>\n",
       "    <tr style=\"text-align: right;\">\n",
       "      <th></th>\n",
       "      <th>Unnamed: 0</th>\n",
       "      <th>image_id</th>\n",
       "      <th>category_id</th>\n",
       "      <th>bbox</th>\n",
       "      <th>score</th>\n",
       "    </tr>\n",
       "  </thead>\n",
       "  <tbody>\n",
       "    <tr>\n",
       "      <th>0</th>\n",
       "      <td>4005</td>\n",
       "      <td>c7ee488d</td>\n",
       "      <td>1</td>\n",
       "      <td>[2025.62, 1092.14, 631.48, 1058.71]</td>\n",
       "      <td>0.66</td>\n",
       "    </tr>\n",
       "    <tr>\n",
       "      <th>1</th>\n",
       "      <td>798</td>\n",
       "      <td>dbf38014</td>\n",
       "      <td>1</td>\n",
       "      <td>[1236.91, 1650.7, 434.68, 762.66]</td>\n",
       "      <td>0.66</td>\n",
       "    </tr>\n",
       "    <tr>\n",
       "      <th>2</th>\n",
       "      <td>1446</td>\n",
       "      <td>2f6543dc</td>\n",
       "      <td>1</td>\n",
       "      <td>[1066.3, 1777.58, 964.66, 518.81]</td>\n",
       "      <td>0.63</td>\n",
       "    </tr>\n",
       "  </tbody>\n",
       "</table>\n",
       "</div>"
      ],
      "text/plain": [
       "   Unnamed: 0  image_id  category_id                                 bbox  \\\n",
       "0        4005  c7ee488d            1  [2025.62, 1092.14, 631.48, 1058.71]   \n",
       "1         798  dbf38014            1    [1236.91, 1650.7, 434.68, 762.66]   \n",
       "2        1446  2f6543dc            1    [1066.3, 1777.58, 964.66, 518.81]   \n",
       "\n",
       "   score  \n",
       "0   0.66  \n",
       "1   0.66  \n",
       "2   0.63  "
      ]
     },
     "execution_count": 44,
     "metadata": {},
     "output_type": "execute_result"
    }
   ],
   "source": [
    "test = pd.read_csv('../annotations/result_new_twoclass.csv')\n",
    "test.head(3)"
   ]
  },
  {
   "cell_type": "code",
   "execution_count": 45,
   "id": "70d5ba7c",
   "metadata": {},
   "outputs": [
    {
     "name": "stdout",
     "output_type": "stream",
     "text": [
      "2200\n"
     ]
    }
   ],
   "source": [
    "image_ids = test['image_id'].unique()\n",
    "print(len(image_ids))"
   ]
  },
  {
   "cell_type": "code",
   "execution_count": 46,
   "id": "fdec6cd7",
   "metadata": {},
   "outputs": [
    {
     "data": {
      "text/html": [
       "<div>\n",
       "<style scoped>\n",
       "    .dataframe tbody tr th:only-of-type {\n",
       "        vertical-align: middle;\n",
       "    }\n",
       "\n",
       "    .dataframe tbody tr th {\n",
       "        vertical-align: top;\n",
       "    }\n",
       "\n",
       "    .dataframe thead th {\n",
       "        text-align: right;\n",
       "    }\n",
       "</style>\n",
       "<table border=\"1\" class=\"dataframe\">\n",
       "  <thead>\n",
       "    <tr style=\"text-align: right;\">\n",
       "      <th></th>\n",
       "      <th>Unnamed: 0</th>\n",
       "      <th>image_id</th>\n",
       "      <th>category_id</th>\n",
       "      <th>bbox</th>\n",
       "      <th>score</th>\n",
       "    </tr>\n",
       "  </thead>\n",
       "  <tbody>\n",
       "    <tr>\n",
       "      <th>0</th>\n",
       "      <td>4005</td>\n",
       "      <td>c7ee488d</td>\n",
       "      <td>1</td>\n",
       "      <td>[2025.62, 1092.14, 631.48, 1058.71]</td>\n",
       "      <td>0.66</td>\n",
       "    </tr>\n",
       "    <tr>\n",
       "      <th>1</th>\n",
       "      <td>798</td>\n",
       "      <td>dbf38014</td>\n",
       "      <td>1</td>\n",
       "      <td>[1236.91, 1650.7, 434.68, 762.66]</td>\n",
       "      <td>0.66</td>\n",
       "    </tr>\n",
       "    <tr>\n",
       "      <th>2</th>\n",
       "      <td>1446</td>\n",
       "      <td>2f6543dc</td>\n",
       "      <td>1</td>\n",
       "      <td>[1066.3, 1777.58, 964.66, 518.81]</td>\n",
       "      <td>0.63</td>\n",
       "    </tr>\n",
       "    <tr>\n",
       "      <th>3</th>\n",
       "      <td>882</td>\n",
       "      <td>3b853121</td>\n",
       "      <td>1</td>\n",
       "      <td>[917.09, 1873.96, 981.59, 320.8]</td>\n",
       "      <td>0.63</td>\n",
       "    </tr>\n",
       "    <tr>\n",
       "      <th>4</th>\n",
       "      <td>5451</td>\n",
       "      <td>a72464fb</td>\n",
       "      <td>1</td>\n",
       "      <td>[1353.17, 1302.45, 664.75, 391.06]</td>\n",
       "      <td>0.63</td>\n",
       "    </tr>\n",
       "    <tr>\n",
       "      <th>...</th>\n",
       "      <td>...</td>\n",
       "      <td>...</td>\n",
       "      <td>...</td>\n",
       "      <td>...</td>\n",
       "      <td>...</td>\n",
       "    </tr>\n",
       "    <tr>\n",
       "      <th>2195</th>\n",
       "      <td>324</td>\n",
       "      <td>666f3094</td>\n",
       "      <td>1</td>\n",
       "      <td>[448.96, 9.85, 542.09, 586.79]</td>\n",
       "      <td>0.13</td>\n",
       "    </tr>\n",
       "    <tr>\n",
       "      <th>2196</th>\n",
       "      <td>4174</td>\n",
       "      <td>822f0353</td>\n",
       "      <td>1</td>\n",
       "      <td>[14.67, 17.54, 653.54, 560.8]</td>\n",
       "      <td>0.06</td>\n",
       "    </tr>\n",
       "    <tr>\n",
       "      <th>2197</th>\n",
       "      <td>3789</td>\n",
       "      <td>5226202f</td>\n",
       "      <td>1</td>\n",
       "      <td>[1280.76, 2476.78, 576.9, 435.86]</td>\n",
       "      <td>0.10</td>\n",
       "    </tr>\n",
       "    <tr>\n",
       "      <th>2198</th>\n",
       "      <td>5205</td>\n",
       "      <td>72a10470</td>\n",
       "      <td>1</td>\n",
       "      <td>[1318.62, 1011.66, 1736.23, 1662.21]</td>\n",
       "      <td>0.09</td>\n",
       "    </tr>\n",
       "    <tr>\n",
       "      <th>2199</th>\n",
       "      <td>1488</td>\n",
       "      <td>49d47c56</td>\n",
       "      <td>1</td>\n",
       "      <td>[707.04, 1713.43, 408.55, 328.69]</td>\n",
       "      <td>0.08</td>\n",
       "    </tr>\n",
       "  </tbody>\n",
       "</table>\n",
       "<p>2200 rows × 5 columns</p>\n",
       "</div>"
      ],
      "text/plain": [
       "      Unnamed: 0  image_id  category_id                                  bbox  \\\n",
       "0           4005  c7ee488d            1   [2025.62, 1092.14, 631.48, 1058.71]   \n",
       "1            798  dbf38014            1     [1236.91, 1650.7, 434.68, 762.66]   \n",
       "2           1446  2f6543dc            1     [1066.3, 1777.58, 964.66, 518.81]   \n",
       "3            882  3b853121            1      [917.09, 1873.96, 981.59, 320.8]   \n",
       "4           5451  a72464fb            1    [1353.17, 1302.45, 664.75, 391.06]   \n",
       "...          ...       ...          ...                                   ...   \n",
       "2195         324  666f3094            1        [448.96, 9.85, 542.09, 586.79]   \n",
       "2196        4174  822f0353            1         [14.67, 17.54, 653.54, 560.8]   \n",
       "2197        3789  5226202f            1     [1280.76, 2476.78, 576.9, 435.86]   \n",
       "2198        5205  72a10470            1  [1318.62, 1011.66, 1736.23, 1662.21]   \n",
       "2199        1488  49d47c56            1     [707.04, 1713.43, 408.55, 328.69]   \n",
       "\n",
       "      score  \n",
       "0      0.66  \n",
       "1      0.66  \n",
       "2      0.63  \n",
       "3      0.63  \n",
       "4      0.63  \n",
       "...     ...  \n",
       "2195   0.13  \n",
       "2196   0.06  \n",
       "2197   0.10  \n",
       "2198   0.09  \n",
       "2199   0.08  \n",
       "\n",
       "[2200 rows x 5 columns]"
      ]
     },
     "execution_count": 46,
     "metadata": {},
     "output_type": "execute_result"
    }
   ],
   "source": [
    "test"
   ]
  },
  {
   "cell_type": "code",
   "execution_count": 58,
   "id": "68b726b9",
   "metadata": {
    "code_folding": []
   },
   "outputs": [],
   "source": [
    "# 可視化用\n",
    "count = 0\n",
    "for index, row in test.iterrows():\n",
    "    count += 1\n",
    "    if count == 2193:\n",
    "        img = cv2.imread('../../input/test/{}.jpg'.format(row['image_id']))\n",
    "        bbox = as_list_bbox(row['bbox'])\n",
    "        score = row['score']\n",
    "        break\n",
    "        dst = crop_square_img(img, bbox)[:, :, ::-1]\n",
    "        \n",
    "        print(index, bbox, score, row['image_id'])\n",
    "        plt.imshow(dst[:, :, ::-1])\n",
    "        #plt.show()\n",
    "    \n",
    "#plt.imshow(crop_bbox_img(img, bbox)[:, :, ::-1])"
   ]
  },
  {
   "cell_type": "code",
   "execution_count": 49,
   "id": "282f8c9c",
   "metadata": {},
   "outputs": [
    {
     "name": "stderr",
     "output_type": "stream",
     "text": [
      "100%|█████████▉| 2196/2200 [05:52<00:00,  6.23it/s]\n"
     ]
    },
    {
     "ename": "error",
     "evalue": "OpenCV(4.5.3) /tmp/pip-req-build-f51eratu/opencv/modules/imgcodecs/src/loadsave.cpp:803: error: (-215:Assertion failed) !_img.empty() in function 'imwrite'\n",
     "output_type": "error",
     "traceback": [
      "\u001b[0;31m---------------------------------------------------------------------------\u001b[0m",
      "\u001b[0;31merror\u001b[0m                                     Traceback (most recent call last)",
      "\u001b[0;32m<ipython-input-49-bd4160a34f18>\u001b[0m in \u001b[0;36m<module>\u001b[0;34m\u001b[0m\n\u001b[1;32m     12\u001b[0m     \u001b[0;32mtry\u001b[0m\u001b[0;34m:\u001b[0m\u001b[0;34m\u001b[0m\u001b[0;34m\u001b[0m\u001b[0m\n\u001b[0;32m---> 13\u001b[0;31m         \u001b[0mcv2\u001b[0m\u001b[0;34m.\u001b[0m\u001b[0mimwrite\u001b[0m\u001b[0;34m(\u001b[0m\u001b[0;34m'../images/twoclass_test/{}.jpg'\u001b[0m\u001b[0;34m.\u001b[0m\u001b[0mformat\u001b[0m\u001b[0;34m(\u001b[0m\u001b[0mimg_name\u001b[0m\u001b[0;34m)\u001b[0m\u001b[0;34m,\u001b[0m \u001b[0mcrop_square_img\u001b[0m\u001b[0;34m(\u001b[0m\u001b[0mimg\u001b[0m\u001b[0;34m,\u001b[0m \u001b[0mbbox\u001b[0m\u001b[0;34m,\u001b[0m \u001b[0mscale\u001b[0m\u001b[0;34m=\u001b[0m\u001b[0;36m1.2\u001b[0m\u001b[0;34m)\u001b[0m\u001b[0;34m)\u001b[0m\u001b[0;34m\u001b[0m\u001b[0;34m\u001b[0m\u001b[0m\n\u001b[0m\u001b[1;32m     14\u001b[0m     \u001b[0;32mexcept\u001b[0m\u001b[0;34m:\u001b[0m\u001b[0;34m\u001b[0m\u001b[0;34m\u001b[0m\u001b[0m\n",
      "\u001b[0;31merror\u001b[0m: OpenCV(4.5.3) /tmp/pip-req-build-f51eratu/opencv/modules/imgcodecs/src/loadsave.cpp:803: error: (-215:Assertion failed) !_img.empty() in function 'imwrite'\n",
      "\nDuring handling of the above exception, another exception occurred:\n",
      "\u001b[0;31merror\u001b[0m                                     Traceback (most recent call last)",
      "\u001b[0;32m<ipython-input-49-bd4160a34f18>\u001b[0m in \u001b[0;36m<module>\u001b[0;34m\u001b[0m\n\u001b[1;32m     13\u001b[0m         \u001b[0mcv2\u001b[0m\u001b[0;34m.\u001b[0m\u001b[0mimwrite\u001b[0m\u001b[0;34m(\u001b[0m\u001b[0;34m'../images/twoclass_test/{}.jpg'\u001b[0m\u001b[0;34m.\u001b[0m\u001b[0mformat\u001b[0m\u001b[0;34m(\u001b[0m\u001b[0mimg_name\u001b[0m\u001b[0;34m)\u001b[0m\u001b[0;34m,\u001b[0m \u001b[0mcrop_square_img\u001b[0m\u001b[0;34m(\u001b[0m\u001b[0mimg\u001b[0m\u001b[0;34m,\u001b[0m \u001b[0mbbox\u001b[0m\u001b[0;34m,\u001b[0m \u001b[0mscale\u001b[0m\u001b[0;34m=\u001b[0m\u001b[0;36m1.2\u001b[0m\u001b[0;34m)\u001b[0m\u001b[0;34m)\u001b[0m\u001b[0;34m\u001b[0m\u001b[0;34m\u001b[0m\u001b[0m\n\u001b[1;32m     14\u001b[0m     \u001b[0;32mexcept\u001b[0m\u001b[0;34m:\u001b[0m\u001b[0;34m\u001b[0m\u001b[0;34m\u001b[0m\u001b[0m\n\u001b[0;32m---> 15\u001b[0;31m         \u001b[0mcv2\u001b[0m\u001b[0;34m.\u001b[0m\u001b[0mimwrite\u001b[0m\u001b[0;34m(\u001b[0m\u001b[0;34m'../images/twoclass_test/{}.jpg'\u001b[0m\u001b[0;34m.\u001b[0m\u001b[0mformat\u001b[0m\u001b[0;34m(\u001b[0m\u001b[0mimg_name\u001b[0m\u001b[0;34m)\u001b[0m\u001b[0;34m,\u001b[0m \u001b[0mcrop_square_img\u001b[0m\u001b[0;34m(\u001b[0m\u001b[0mimg\u001b[0m\u001b[0;34m,\u001b[0m \u001b[0mbbox\u001b[0m\u001b[0;34m,\u001b[0m \u001b[0mscale\u001b[0m\u001b[0;34m=\u001b[0m\u001b[0;36m1.0\u001b[0m\u001b[0;34m)\u001b[0m\u001b[0;34m)\u001b[0m\u001b[0;34m\u001b[0m\u001b[0;34m\u001b[0m\u001b[0m\n\u001b[0m\u001b[1;32m     16\u001b[0m \u001b[0;34m\u001b[0m\u001b[0m\n\u001b[1;32m     17\u001b[0m     \u001b[0;31m#break\u001b[0m\u001b[0;34m\u001b[0m\u001b[0;34m\u001b[0m\u001b[0;34m\u001b[0m\u001b[0m\n",
      "\u001b[0;31merror\u001b[0m: OpenCV(4.5.3) /tmp/pip-req-build-f51eratu/opencv/modules/imgcodecs/src/loadsave.cpp:803: error: (-215:Assertion failed) !_img.empty() in function 'imwrite'\n"
     ]
    }
   ],
   "source": [
    "for i in tqdm(range(0, len(image_ids))):\n",
    "    img_name = image_ids[i]\n",
    "    \n",
    "    #print(str(i).zfill(4), img_name)\n",
    "    bbox = as_list_bbox(test[test['image_id']==img_name]['bbox'][i])\n",
    "    score = test[test['image_id']==img_name]['score'][i]\n",
    "    img = cv2.imread('../../input/test/{}.jpg'.format(img_name))\n",
    "    \n",
    "    cv2.imwrite('../images/twoclass_test/{}.jpg'.format(img_name), crop_bbox_img(img, bbox))\n",
    "    \n",
    "    try:\n",
    "        cv2.imwrite('../images/twoclass_test/{}.jpg'.format(img_name), crop_square_img(img, bbox, scale=1.2))\n",
    "    except:\n",
    "        cv2.imwrite('../images/twoclass_test/{}.jpg'.format(img_name), crop_square_img(img, bbox, scale=1.0))\n",
    "        \n",
    "    #break"
   ]
  },
  {
   "cell_type": "code",
   "execution_count": 55,
   "id": "5a815117",
   "metadata": {},
   "outputs": [
    {
     "name": "stdout",
     "output_type": "stream",
     "text": [
      "2197 5226202f\n",
      "2198 72a10470\n",
      "2199 49d47c56\n"
     ]
    }
   ],
   "source": [
    "#for i in tqdm(range(0, len(image_ids))):\n",
    "for i in range(2197, 2200):\n",
    "    img_name = image_ids[i]\n",
    "    \n",
    "    print(str(i).zfill(4), img_name)\n",
    "    bbox = as_list_bbox(test[test['image_id']==img_name]['bbox'][i])\n",
    "    score = test[test['image_id']==img_name]['score'][i]\n",
    "    img = cv2.imread('../../input/test/{}.jpg'.format(img_name))\n",
    "    \n",
    "    #cv2.imwrite('../images/twoclass_test/{}.jpg'.format(img_name), crop_bbox_img(img, bbox))\n",
    "    \n",
    "    try:\n",
    "        cv2.imwrite('../images/twoclass_test/{}.jpg'.format(img_name), crop_square_img(img, bbox, scale=1.2))\n",
    "    except:\n",
    "        cv2.imwrite('../images/twoclass_test/{}.jpg'.format(img_name), crop_square_img(img, bbox, scale=1.0))\n",
    "    #except:\n",
    "    #    print(\"SS\")\n",
    "        \n",
    "    #break"
   ]
  },
  {
   "cell_type": "code",
   "execution_count": 57,
   "id": "0b3efd9e",
   "metadata": {},
   "outputs": [
    {
     "name": "stdout",
     "output_type": "stream",
     "text": [
      "2196 822f0353\n"
     ]
    },
    {
     "data": {
      "text/plain": [
       "True"
      ]
     },
     "execution_count": 57,
     "metadata": {},
     "output_type": "execute_result"
    }
   ],
   "source": [
    "i = 2196\n",
    "img_name = image_ids[i]\n",
    "\n",
    "print(str(i).zfill(4), img_name)\n",
    "bbox = as_list_bbox(test[test['image_id']==img_name]['bbox'][i])\n",
    "score = test[test['image_id']==img_name]['score'][i]\n",
    "img = cv2.imread('../../input/test/{}.jpg'.format(img_name))\n",
    "\n",
    "cv2.imwrite('../images/twoclass_test/{}.jpg'.format(img_name), img)\n",
    "\n",
    "#try:\n",
    "#    cv2.imwrite('../images/twoclass_test/{}.jpg'.format(img_name), crop_square_img(img, bbox, scale=1.2))\n",
    "#except:\n",
    "#    cv2.imwrite('../images/twoclass_test/{}.jpg'.format(img_name), crop_square_img(img, bbox, scale=1.0))\n",
    "#except:\n",
    "#    print(\"SS\")\n",
    "\n",
    "#break"
   ]
  },
  {
   "cell_type": "markdown",
   "id": "9158fe7e",
   "metadata": {},
   "source": [
    "## Train"
   ]
  },
  {
   "cell_type": "code",
   "execution_count": 62,
   "id": "d7f512e4",
   "metadata": {},
   "outputs": [
    {
     "name": "stdout",
     "output_type": "stream",
     "text": [
      "4019\n"
     ]
    }
   ],
   "source": [
    "train = pd.read_csv('../annotations/result_new_twoclass_trainall.csv')\n",
    "image_ids = train['image_id'].unique()\n",
    "print(len(image_ids))"
   ]
  },
  {
   "cell_type": "code",
   "execution_count": 66,
   "id": "2316b7cb",
   "metadata": {},
   "outputs": [
    {
     "name": "stderr",
     "output_type": "stream",
     "text": [
      "100%|█████████▉| 4016/4019 [08:18<00:00,  8.06it/s]\n"
     ]
    },
    {
     "ename": "error",
     "evalue": "OpenCV(4.5.3) /tmp/pip-req-build-f51eratu/opencv/modules/imgcodecs/src/loadsave.cpp:803: error: (-215:Assertion failed) !_img.empty() in function 'imwrite'\n",
     "output_type": "error",
     "traceback": [
      "\u001b[0;31m---------------------------------------------------------------------------\u001b[0m",
      "\u001b[0;31merror\u001b[0m                                     Traceback (most recent call last)",
      "\u001b[0;32m<ipython-input-66-956af18de5c3>\u001b[0m in \u001b[0;36m<module>\u001b[0;34m\u001b[0m\n\u001b[1;32m      9\u001b[0m     \u001b[0;32mtry\u001b[0m\u001b[0;34m:\u001b[0m\u001b[0;34m\u001b[0m\u001b[0;34m\u001b[0m\u001b[0m\n\u001b[0;32m---> 10\u001b[0;31m         \u001b[0mcv2\u001b[0m\u001b[0;34m.\u001b[0m\u001b[0mimwrite\u001b[0m\u001b[0;34m(\u001b[0m\u001b[0;34m'../images/twoclass_test/{}.jpg'\u001b[0m\u001b[0;34m.\u001b[0m\u001b[0mformat\u001b[0m\u001b[0;34m(\u001b[0m\u001b[0mimg_name\u001b[0m\u001b[0;34m)\u001b[0m\u001b[0;34m,\u001b[0m \u001b[0mcrop_square_img\u001b[0m\u001b[0;34m(\u001b[0m\u001b[0mimg\u001b[0m\u001b[0;34m,\u001b[0m \u001b[0mbbox\u001b[0m\u001b[0;34m,\u001b[0m \u001b[0mscale\u001b[0m\u001b[0;34m=\u001b[0m\u001b[0;36m1.2\u001b[0m\u001b[0;34m)\u001b[0m\u001b[0;34m)\u001b[0m\u001b[0;34m\u001b[0m\u001b[0;34m\u001b[0m\u001b[0m\n\u001b[0m\u001b[1;32m     11\u001b[0m     \u001b[0;32mexcept\u001b[0m\u001b[0;34m:\u001b[0m\u001b[0;34m\u001b[0m\u001b[0;34m\u001b[0m\u001b[0m\n",
      "\u001b[0;31merror\u001b[0m: OpenCV(4.5.3) /tmp/pip-req-build-f51eratu/opencv/modules/imgcodecs/src/loadsave.cpp:803: error: (-215:Assertion failed) !_img.empty() in function 'imwrite'\n",
      "\nDuring handling of the above exception, another exception occurred:\n",
      "\u001b[0;31merror\u001b[0m                                     Traceback (most recent call last)",
      "\u001b[0;32m<ipython-input-66-956af18de5c3>\u001b[0m in \u001b[0;36m<module>\u001b[0;34m\u001b[0m\n\u001b[1;32m     11\u001b[0m     \u001b[0;32mexcept\u001b[0m\u001b[0;34m:\u001b[0m\u001b[0;34m\u001b[0m\u001b[0;34m\u001b[0m\u001b[0m\n\u001b[1;32m     12\u001b[0m         \u001b[0;31m#miss_imgs.append(i)\u001b[0m\u001b[0;34m\u001b[0m\u001b[0;34m\u001b[0m\u001b[0;34m\u001b[0m\u001b[0m\n\u001b[0;32m---> 13\u001b[0;31m         \u001b[0mcv2\u001b[0m\u001b[0;34m.\u001b[0m\u001b[0mimwrite\u001b[0m\u001b[0;34m(\u001b[0m\u001b[0;34m'../images/twoclass_test/{}.jpg'\u001b[0m\u001b[0;34m.\u001b[0m\u001b[0mformat\u001b[0m\u001b[0;34m(\u001b[0m\u001b[0mimg_name\u001b[0m\u001b[0;34m)\u001b[0m\u001b[0;34m,\u001b[0m \u001b[0mcrop_square_img\u001b[0m\u001b[0;34m(\u001b[0m\u001b[0mimg\u001b[0m\u001b[0;34m,\u001b[0m \u001b[0mbbox\u001b[0m\u001b[0;34m,\u001b[0m \u001b[0mscale\u001b[0m\u001b[0;34m=\u001b[0m\u001b[0;36m1.0\u001b[0m\u001b[0;34m)\u001b[0m\u001b[0;34m)\u001b[0m\u001b[0;34m\u001b[0m\u001b[0;34m\u001b[0m\u001b[0m\n\u001b[0m",
      "\u001b[0;31merror\u001b[0m: OpenCV(4.5.3) /tmp/pip-req-build-f51eratu/opencv/modules/imgcodecs/src/loadsave.cpp:803: error: (-215:Assertion failed) !_img.empty() in function 'imwrite'\n"
     ]
    }
   ],
   "source": [
    "for i in tqdm(range(0, len(image_ids))):\n",
    "    img_name = image_ids[i]\n",
    "    \n",
    "    bbox = as_list_bbox(train[train['image_id']==img_name]['bbox'][i])\n",
    "    score = test[test['image_id']==img_name]['score'][i]\n",
    "    img = cv2.imread('../../CenterNet-HarDNet/data/coco/train_all2017/{}.jpg'.format(img_name))\n",
    "    \n",
    "    try:\n",
    "        cv2.imwrite('../images/twoclass_test/{}.jpg'.format(img_name), crop_square_img(img, bbox, scale=1.2))\n",
    "    except:\n",
    "        #miss_imgs.append(i)\n",
    "        cv2.imwrite('../images/twoclass_test/{}.jpg'.format(img_name), crop_square_img(img, bbox, scale=1.0))"
   ]
  },
  {
   "cell_type": "code",
   "execution_count": 69,
   "id": "242b5c63",
   "metadata": {},
   "outputs": [],
   "source": [
    "for i in range(4018, 4019):\n",
    "    img_name = image_ids[i]\n",
    "    \n",
    "    bbox = as_list_bbox(train[train['image_id']==img_name]['bbox'][i])\n",
    "    score = test[test['image_id']==img_name]['score'][i]\n",
    "    img = cv2.imread('../../CenterNet-HarDNet/data/coco/train_all2017/{}.jpg'.format(img_name))\n",
    "    \n",
    "    try:\n",
    "        cv2.imwrite('../images/twoclass_test/{}.jpg'.format(img_name), crop_square_img(img, bbox, scale=1.2))\n",
    "    except:\n",
    "        #miss_imgs.append(i)\n",
    "        cv2.imwrite('../images/twoclass_test/{}.jpg'.format(img_name), crop_square_img(img, bbox, scale=1.0))"
   ]
  },
  {
   "cell_type": "markdown",
   "id": "96cf67bb",
   "metadata": {},
   "source": [
    "切り出せないものは、そのまま保存"
   ]
  },
  {
   "cell_type": "code",
   "execution_count": 72,
   "id": "288e7b86",
   "metadata": {},
   "outputs": [
    {
     "data": {
      "text/plain": [
       "True"
      ]
     },
     "execution_count": 72,
     "metadata": {},
     "output_type": "execute_result"
    }
   ],
   "source": [
    "i = 4016\n",
    "img_name = image_ids[i]\n",
    "bbox = as_list_bbox(train[train['image_id']==img_name]['bbox'][i])\n",
    "score = test[test['image_id']==img_name]['score'][i]\n",
    "img = cv2.imread('../../CenterNet-HarDNet/data/coco/train_all2017/{}.jpg'.format(img_name))\n",
    "cv2.imwrite('../images/twoclass_test/{}.jpg'.format(img_name), img)"
   ]
  },
  {
   "cell_type": "code",
   "execution_count": 73,
   "id": "e12fcc6d",
   "metadata": {},
   "outputs": [
    {
     "data": {
      "text/plain": [
       "True"
      ]
     },
     "execution_count": 73,
     "metadata": {},
     "output_type": "execute_result"
    }
   ],
   "source": [
    "i = 4017\n",
    "img_name = image_ids[i]\n",
    "bbox = as_list_bbox(train[train['image_id']==img_name]['bbox'][i])\n",
    "score = test[test['image_id']==img_name]['score'][i]\n",
    "img = cv2.imread('../../CenterNet-HarDNet/data/coco/train_all2017/{}.jpg'.format(img_name))\n",
    "cv2.imwrite('../images/twoclass_test/{}.jpg'.format(img_name), img)"
   ]
  },
  {
   "cell_type": "code",
   "execution_count": 75,
   "id": "f24215ea",
   "metadata": {},
   "outputs": [
    {
     "data": {
      "text/plain": [
       "'da70dfa4'"
      ]
     },
     "execution_count": 75,
     "metadata": {},
     "output_type": "execute_result"
    }
   ],
   "source": [
    "image_ids[4017]"
   ]
  },
  {
   "cell_type": "markdown",
   "id": "a656c5bd",
   "metadata": {
    "heading_collapsed": true
   },
   "source": [
    "# Test trim"
   ]
  },
  {
   "cell_type": "code",
   "execution_count": 78,
   "id": "916acd15",
   "metadata": {
    "hidden": true
   },
   "outputs": [
    {
     "data": {
      "text/html": [
       "<div>\n",
       "<style scoped>\n",
       "    .dataframe tbody tr th:only-of-type {\n",
       "        vertical-align: middle;\n",
       "    }\n",
       "\n",
       "    .dataframe tbody tr th {\n",
       "        vertical-align: top;\n",
       "    }\n",
       "\n",
       "    .dataframe thead th {\n",
       "        text-align: right;\n",
       "    }\n",
       "</style>\n",
       "<table border=\"1\" class=\"dataframe\">\n",
       "  <thead>\n",
       "    <tr style=\"text-align: right;\">\n",
       "      <th></th>\n",
       "      <th>Unnamed: 0</th>\n",
       "      <th>image_id</th>\n",
       "      <th>category_id</th>\n",
       "      <th>bbox</th>\n",
       "      <th>score</th>\n",
       "    </tr>\n",
       "  </thead>\n",
       "  <tbody>\n",
       "    <tr>\n",
       "      <th>0</th>\n",
       "      <td>148880</td>\n",
       "      <td>7c1f689c</td>\n",
       "      <td>3</td>\n",
       "      <td>[282.95, 1142.23, 1267.55, 438.32]</td>\n",
       "      <td>0.79</td>\n",
       "    </tr>\n",
       "    <tr>\n",
       "      <th>1</th>\n",
       "      <td>29426</td>\n",
       "      <td>3b853121</td>\n",
       "      <td>3</td>\n",
       "      <td>[492.69, 1277.77, 950.78, 285.48]</td>\n",
       "      <td>0.78</td>\n",
       "    </tr>\n",
       "    <tr>\n",
       "      <th>2</th>\n",
       "      <td>152173</td>\n",
       "      <td>30ec1ae0</td>\n",
       "      <td>3</td>\n",
       "      <td>[264.03, 1157.01, 1240.7, 451.76]</td>\n",
       "      <td>0.77</td>\n",
       "    </tr>\n",
       "  </tbody>\n",
       "</table>\n",
       "</div>"
      ],
      "text/plain": [
       "   Unnamed: 0  image_id  category_id                                bbox  \\\n",
       "0      148880  7c1f689c            3  [282.95, 1142.23, 1267.55, 438.32]   \n",
       "1       29426  3b853121            3   [492.69, 1277.77, 950.78, 285.48]   \n",
       "2      152173  30ec1ae0            3   [264.03, 1157.01, 1240.7, 451.76]   \n",
       "\n",
       "   score  \n",
       "0   0.79  \n",
       "1   0.78  \n",
       "2   0.77  "
      ]
     },
     "execution_count": 78,
     "metadata": {},
     "output_type": "execute_result"
    }
   ],
   "source": [
    "test = pd.read_csv('../annotations/result_test_extracted_trim.csv')\n",
    "test.head(3)"
   ]
  },
  {
   "cell_type": "code",
   "execution_count": 79,
   "id": "210e943a",
   "metadata": {
    "hidden": true,
    "scrolled": true
   },
   "outputs": [
    {
     "name": "stdout",
     "output_type": "stream",
     "text": [
      "2200\n"
     ]
    }
   ],
   "source": [
    "image_ids = test['image_id'].unique()\n",
    "print(len(image_ids))"
   ]
  },
  {
   "cell_type": "code",
   "execution_count": 80,
   "id": "6d600a02",
   "metadata": {
    "hidden": true,
    "scrolled": false
   },
   "outputs": [
    {
     "name": "stdout",
     "output_type": "stream",
     "text": [
      "0 (282.95, 1142.23, 1267.55, 438.32) 0.79 7c1f689c\n"
     ]
    },
    {
     "data": {
      "text/plain": [
       "<matplotlib.image.AxesImage at 0x7feb0a816df0>"
      ]
     },
     "execution_count": 80,
     "metadata": {},
     "output_type": "execute_result"
    },
    {
     "data": {
      "image/png": "[encoded data removed]",
      "text/plain": [
       "<Figure size 432x288 with 1 Axes>"
      ]
     },
     "metadata": {
      "needs_background": "light"
     },
     "output_type": "display_data"
    }
   ],
   "source": [
    "for index, row in test.iterrows():\n",
    "    img = cv2.imread('../test2017_trim/{}.jpg'.format(row['image_id']))\n",
    "    bbox = as_list_bbox(row['bbox'])\n",
    "    score = row['score']\n",
    "    print(index, bbox, score, row['image_id'])\n",
    "    break\n",
    "    \n",
    "#plt.imshow(crop_bbox_img(img, bbox)[:, :, ::-1])\n",
    "plt.imshow(crop_square_img(img, bbox)[:, :, ::-1])\n",
    "#plt.imshow(img[:, :, ::-1])"
   ]
  },
  {
   "cell_type": "code",
   "execution_count": 81,
   "id": "80a3a5f7",
   "metadata": {
    "hidden": true
   },
   "outputs": [],
   "source": [
    "# Output DIR\n",
    "os.makedirs(\"../images/test_square_trim\", exist_ok=True)\n",
    "os.makedirs(\"../images/test_bbox_trim\", exist_ok=True)"
   ]
  },
  {
   "cell_type": "code",
   "execution_count": 83,
   "id": "214c7719",
   "metadata": {
    "hidden": true,
    "scrolled": false
   },
   "outputs": [
    {
     "data": {
      "text/plain": [
       "<matplotlib.image.AxesImage at 0x7feb0a634700>"
      ]
     },
     "execution_count": 83,
     "metadata": {},
     "output_type": "execute_result"
    },
    {
     "data": {
      "image/png": "[encoded data removed]",
      "text/plain": [
       "<Figure size 432x288 with 1 Axes>"
      ]
     },
     "metadata": {
      "needs_background": "light"
     },
     "output_type": "display_data"
    }
   ],
   "source": [
    "plt.imshow(img[:,:,::-1])"
   ]
  },
  {
   "cell_type": "code",
   "execution_count": 92,
   "id": "a6c286a1",
   "metadata": {
    "hidden": true
   },
   "outputs": [
    {
     "data": {
      "text/plain": [
       "[398.39, 972.07, 942.37, 1259.82]"
      ]
     },
     "execution_count": 92,
     "metadata": {},
     "output_type": "execute_result"
    }
   ],
   "source": [
    "bbox"
   ]
  },
  {
   "cell_type": "code",
   "execution_count": 91,
   "id": "61f77a1e",
   "metadata": {
    "hidden": true
   },
   "outputs": [
    {
     "name": "stdout",
     "output_type": "stream",
     "text": [
      "2003 d7209b90\n",
      "2004 be4f4b16\n",
      "2005 457ee5fe\n",
      "2006 068cdb9d\n",
      "2007 7eadb7d2\n",
      "2008 81792906\n",
      "2009 b6f62d20\n",
      "2010 f30c80f1\n",
      "2011 cd73a9a0\n",
      "2012 b0cd949d\n",
      "2013 aad043be\n",
      "2014 bbc3c7b6\n",
      "2015 d85681b5\n",
      "2016 f33486ef\n",
      "2017 ce5080cd\n",
      "2018 b4eed301\n",
      "2019 abf24b75\n",
      "2020 14c4aee2\n",
      "2021 01795803\n",
      "2022 4f6a7e2f\n",
      "2023 1bb007cb\n",
      "2024 b6be463f\n",
      "2025 e0b48ed8\n",
      "2026 eb1e5e26\n",
      "2027 1c17de6f\n",
      "2028 8597f1e3\n",
      "2029 e20229ca\n",
      "2030 3dfcfacb\n",
      "2031 ba846ba4\n",
      "2032 08f28a84\n",
      "2033 953d8233\n",
      "2034 5b5307b0\n",
      "2035 3348e5b3\n",
      "2036 f4067a1e\n",
      "2037 8d02a62f\n",
      "2038 3217efb0\n",
      "2039 7110606e\n",
      "2040 901e2b7d\n",
      "2041 b933ddb1\n",
      "2042 690c4db0\n",
      "2043 65a98449\n",
      "2044 680adeb3\n",
      "2045 f283264f\n",
      "2046 b5994595\n",
      "2047 7536db66\n",
      "2048 df8b2c37\n",
      "2049 f1bdeb1b\n",
      "2050 1f66c04d\n",
      "2051 05e76bca\n",
      "2052 b343a2a7\n",
      "2053 eb72d6ef\n",
      "2054 7e84b706\n",
      "2055 2616d2c0\n",
      "2056 9e0b0488\n",
      "2057 39cff4eb\n",
      "2058 19c378fd\n",
      "2059 0ca98f2e\n",
      "2060 a6e5dbd0\n",
      "2061 0b0829e2\n",
      "2062 e8001139\n",
      "2063 5c0af5de\n",
      "2064 f6b74a4f\n",
      "2065 f49b714c\n",
      "2066 d6402063\n",
      "2067 8c35b2b8\n",
      "2068 7c520a66\n",
      "2069 653ed7af\n",
      "2070 3050fd91\n",
      "2071 00e5004a\n",
      "2072 7c5665f1\n",
      "2073 ea37901e\n",
      "2074 6653d55e\n",
      "2075 54409a01\n",
      "2076 e69ce6d9\n",
      "2077 f223bccd\n",
      "2078 9fec633b\n",
      "2079 4c5438f4\n",
      "2080 f8195487\n",
      "2081 d93823eb\n",
      "2082 e4431691\n",
      "0.6499999999999997\n",
      "2083 2708ef40\n",
      "2084 0cf9d026\n",
      "2085 25b79982\n",
      "2086 bf9ee4aa\n",
      "2087 b996521b\n",
      "2088 c1f330d0\n",
      "2089 3093cd4a\n",
      "2090 9e558a7d\n",
      "2091 be02ac56\n",
      "2092 710835b5\n",
      "2093 d77ce114\n",
      "2094 dd077522\n",
      "2095 9c46766f\n",
      "2096 c230d021\n",
      "2097 618da674\n",
      "2098 d364771e\n",
      "2099 7e66cb9f\n",
      "2100 666f3094\n",
      "2101 4d378aa7\n",
      "2102 8f8f2b1c\n",
      "2103 f9bd7f60\n",
      "2104 4d872d8a\n",
      "2105 2834127a\n",
      "2106 f1e8e940\n",
      "2107 c5752834\n",
      "2108 913de178\n",
      "2109 c98a4af1\n",
      "2110 dda65809\n",
      "2111 2f7f15d0\n",
      "2112 715fcf64\n",
      "2113 9ff47ad1\n",
      "2114 423e18a4\n",
      "2115 05d6627d\n",
      "2116 d07c4ea8\n",
      "2117 05f336ad\n",
      "2118 bb596efa\n",
      "2119 f709f755\n",
      "2120 2fb67def\n",
      "2121 db757b73\n",
      "2122 0f20d3c0\n",
      "2123 0ee05bd8\n",
      "2124 186ae1f9\n",
      "2125 d235f7a2\n",
      "2126 d8e18974\n",
      "2127 ab873c41\n",
      "2128 297219e7\n",
      "2129 a2331271\n",
      "2130 e8f98f01\n",
      "2131 6d19021e\n",
      "2132 fe5df0a3\n",
      "2133 a45b15cf\n",
      "2134 3d21fff7\n",
      "2135 3b078d53\n",
      "2136 0db00718\n",
      "2137 8d1dea6a\n",
      "2138 42254207\n",
      "2139 55db199d\n",
      "2140 b2c2eaf2\n",
      "2141 5a138a4d\n",
      "2142 03c56bfe\n",
      "2143 baf23cd1\n",
      "2144 1c879757\n",
      "2145 d02601af\n",
      "2146 995862ef\n",
      "2147 42f168c6\n",
      "2148 6ef1e690\n",
      "2149 e27661c7\n",
      "2150 a4f49fe2\n",
      "2151 c4876de4\n",
      "2152 969d5bc8\n",
      "2153 3420f655\n",
      "2154 ddc761bb\n",
      "2155 b0500d3f\n",
      "2156 219e8b25\n",
      "2157 5e018bd9\n",
      "2158 4ed6af94\n",
      "2159 49d47c56\n",
      "2160 90c246a8\n",
      "2161 97fdcbef\n",
      "2162 5a21a541\n",
      "2163 c9d7406a\n",
      "2164 dc3d5831\n",
      "2165 94e43b53\n",
      "2166 75cab247\n",
      "2167 935ba38a\n",
      "2168 3cf72f96\n",
      "2169 39019499\n",
      "2170 e3d3d4ae\n",
      "2171 7bd100e9\n",
      "2172 6b7439e6\n",
      "0.8999999999999999\n",
      "2173 1c8b434d\n",
      "2174 0f133b8f\n",
      "2175 ac30b832\n",
      "2176 ea4e7741\n",
      "2177 9a560c41\n",
      "2178 c992765e\n",
      "2179 fbb0acfb\n",
      "2180 db3aa4aa\n",
      "2181 4acff813\n",
      "2182 b1cba450\n",
      "2183 384856b6\n",
      "2184 6ff718c7\n",
      "2185 0d8b669d\n",
      "2186 f0a6eead\n",
      "2187 8a993b22\n",
      "2188 b24b2956\n",
      "2189 abf4bee3\n",
      "2190 848e3fb8\n",
      "2191 e02a547a\n",
      "2192 3c29c2a1\n",
      "2193 822f0353\n",
      "2194 b630babc\n",
      "2195 8f97bed7\n",
      "0.95\n",
      "2196 5226202f\n",
      "2197 72a10470\n",
      "2198 2ab5e84f\n",
      "0.8499999999999999\n",
      "2199 04529e7d\n"
     ]
    }
   ],
   "source": [
    "for i in range(2003, len(image_ids)):\n",
    "#for i in range(1900, 2000):\n",
    "    img_name = image_ids[i]\n",
    "    \n",
    "    print(str(i).zfill(4), img_name)\n",
    "    bbox = as_list_bbox(test[test['image_id']==img_name]['bbox'][i])\n",
    "    \n",
    "    if(bbox[0] < 0):\n",
    "        bbox[0] = 0\n",
    "    \n",
    "    score = test[test['image_id']==img_name]['score'][i]\n",
    "    img = cv2.imread('../test2017_trim/{}.jpg'.format(img_name))\n",
    "    \n",
    "    cv2.imwrite('../images/test_bbox_trim/{}.jpg'.format(img_name), crop_bbox_img(img, bbox))\n",
    "    \n",
    "    scale_coef = 1.0\n",
    "    while True:\n",
    "        if(crop_square_img(img, bbox, scale=scale_coef).shape[0] != 0 and crop_square_img(img, bbox, scale=scale_coef).shape[1] != 0):\n",
    "            cv2.imwrite('../images/test_square_trim/{}.jpg'.format(img_name), crop_square_img(img, bbox, scale=scale_coef))\n",
    "            if(scale_coef != 1.0):\n",
    "                print(scale_coef)\n",
    "            break\n",
    "        else:\n",
    "            scale_coef -= 0.05\n",
    "        #except:\n",
    "        #    cv2.imwrite('../images/test_square_trim/{}.jpg'.format(img_name), crop_square_img(img, bbox, scale=1.0))\n",
    "        \n",
    "    #break"
   ]
  },
  {
   "cell_type": "markdown",
   "id": "86c06291",
   "metadata": {
    "heading_collapsed": true
   },
   "source": [
    "# Test"
   ]
  },
  {
   "cell_type": "code",
   "execution_count": 90,
   "id": "31c8755e",
   "metadata": {
    "hidden": true
   },
   "outputs": [],
   "source": [
    "test = pd.read_csv('../result_test_extracted.csv')"
   ]
  },
  {
   "cell_type": "code",
   "execution_count": 91,
   "id": "87dbb947",
   "metadata": {
    "hidden": true,
    "scrolled": true
   },
   "outputs": [
    {
     "data": {
      "text/html": [
       "<div>\n",
       "<style scoped>\n",
       "    .dataframe tbody tr th:only-of-type {\n",
       "        vertical-align: middle;\n",
       "    }\n",
       "\n",
       "    .dataframe tbody tr th {\n",
       "        vertical-align: top;\n",
       "    }\n",
       "\n",
       "    .dataframe thead th {\n",
       "        text-align: right;\n",
       "    }\n",
       "</style>\n",
       "<table border=\"1\" class=\"dataframe\">\n",
       "  <thead>\n",
       "    <tr style=\"text-align: right;\">\n",
       "      <th></th>\n",
       "      <th>Unnamed: 0</th>\n",
       "      <th>image_id</th>\n",
       "      <th>category_id</th>\n",
       "      <th>bbox</th>\n",
       "      <th>score</th>\n",
       "    </tr>\n",
       "  </thead>\n",
       "  <tbody>\n",
       "    <tr>\n",
       "      <th>0</th>\n",
       "      <td>29429</td>\n",
       "      <td>3b853121</td>\n",
       "      <td>3</td>\n",
       "      <td>[935.58, 1866.76, 946.32, 327.8]</td>\n",
       "      <td>0.79</td>\n",
       "    </tr>\n",
       "    <tr>\n",
       "      <th>1</th>\n",
       "      <td>103048</td>\n",
       "      <td>71d98554</td>\n",
       "      <td>3</td>\n",
       "      <td>[737.37, 1896.55, 959.4, 340.98]</td>\n",
       "      <td>0.79</td>\n",
       "    </tr>\n",
       "    <tr>\n",
       "      <th>2</th>\n",
       "      <td>99429</td>\n",
       "      <td>9852ea41</td>\n",
       "      <td>14</td>\n",
       "      <td>[1086.21, 1736.3, 972.26, 651.72]</td>\n",
       "      <td>0.78</td>\n",
       "    </tr>\n",
       "    <tr>\n",
       "      <th>3</th>\n",
       "      <td>161737</td>\n",
       "      <td>fb95c287</td>\n",
       "      <td>10</td>\n",
       "      <td>[782.66, 2054.17, 770.08, 348.3]</td>\n",
       "      <td>0.78</td>\n",
       "    </tr>\n",
       "    <tr>\n",
       "      <th>4</th>\n",
       "      <td>158670</td>\n",
       "      <td>a63219c6</td>\n",
       "      <td>3</td>\n",
       "      <td>[910.63, 2527.93, 1039.46, 335.57]</td>\n",
       "      <td>0.77</td>\n",
       "    </tr>\n",
       "  </tbody>\n",
       "</table>\n",
       "</div>"
      ],
      "text/plain": [
       "   Unnamed: 0  image_id  category_id                                bbox  \\\n",
       "0       29429  3b853121            3    [935.58, 1866.76, 946.32, 327.8]   \n",
       "1      103048  71d98554            3    [737.37, 1896.55, 959.4, 340.98]   \n",
       "2       99429  9852ea41           14   [1086.21, 1736.3, 972.26, 651.72]   \n",
       "3      161737  fb95c287           10    [782.66, 2054.17, 770.08, 348.3]   \n",
       "4      158670  a63219c6            3  [910.63, 2527.93, 1039.46, 335.57]   \n",
       "\n",
       "   score  \n",
       "0   0.79  \n",
       "1   0.79  \n",
       "2   0.78  \n",
       "3   0.78  \n",
       "4   0.77  "
      ]
     },
     "execution_count": 91,
     "metadata": {},
     "output_type": "execute_result"
    }
   ],
   "source": [
    "test.head()"
   ]
  },
  {
   "cell_type": "code",
   "execution_count": 92,
   "id": "3f53ca8e",
   "metadata": {
    "hidden": true
   },
   "outputs": [
    {
     "name": "stdout",
     "output_type": "stream",
     "text": [
      "2200\n"
     ]
    }
   ],
   "source": [
    "image_ids = test['image_id'].unique()\n",
    "print(len(image_ids))"
   ]
  },
  {
   "cell_type": "code",
   "execution_count": 115,
   "id": "a00cf885",
   "metadata": {
    "hidden": true,
    "scrolled": true
   },
   "outputs": [
    {
     "name": "stdout",
     "output_type": "stream",
     "text": [
      "0 (935.58, 1866.76, 946.32, 327.8) 0.79 3b853121\n"
     ]
    }
   ],
   "source": [
    "for index, row in test.iterrows():\n",
    "    img = cv2.imread('../../input/test/{}.jpg'.format(row['image_id']))\n",
    "    bbox = as_list_bbox(row['bbox'])\n",
    "    score = row['score']\n",
    "    print(index, bbox, score, row['image_id'])\n",
    "    break\n",
    "    \n",
    "#plt.imshow(crop_bbox_img(img, bbox)[:, :, ::-1])\n",
    "plt.imshow(crop_square_img(img, bbox)[:, :, ::-1])\n",
    "#plt.imshow(img[:, :, ::-1])"
   ]
  },
  {
   "cell_type": "code",
   "execution_count": 146,
   "id": "6df93889",
   "metadata": {
    "hidden": true,
    "scrolled": false
   },
   "outputs": [
    {
     "name": "stderr",
     "output_type": "stream",
     "text": [
      "  0%|          | 0/2200 [00:00<?, ?it/s]"
     ]
    },
    {
     "name": "stdout",
     "output_type": "stream",
     "text": [
      "3b853121\n"
     ]
    },
    {
     "name": "stderr",
     "output_type": "stream",
     "text": [
      "\n"
     ]
    },
    {
     "ename": "error",
     "evalue": "OpenCV(4.5.3) /tmp/pip-req-build-f51eratu/opencv/modules/imgcodecs/src/loadsave.cpp:803: error: (-215:Assertion failed) !_img.empty() in function 'imwrite'\n",
     "output_type": "error",
     "traceback": [
      "\u001b[0;31m---------------------------------------------------------------------------\u001b[0m",
      "\u001b[0;31merror\u001b[0m                                     Traceback (most recent call last)",
      "\u001b[0;32m<ipython-input-146-f2f1dbb91cb4>\u001b[0m in \u001b[0;36m<module>\u001b[0;34m\u001b[0m\n\u001b[1;32m      6\u001b[0m \u001b[0;34m\u001b[0m\u001b[0m\n\u001b[1;32m      7\u001b[0m     \u001b[0mcv2\u001b[0m\u001b[0;34m.\u001b[0m\u001b[0mimwrite\u001b[0m\u001b[0;34m(\u001b[0m\u001b[0;34m'../output_bbox_img/{}.jpg'\u001b[0m\u001b[0;34m.\u001b[0m\u001b[0mformat\u001b[0m\u001b[0;34m(\u001b[0m\u001b[0mimg_name\u001b[0m\u001b[0;34m)\u001b[0m\u001b[0;34m,\u001b[0m \u001b[0mcrop_bbox_img\u001b[0m\u001b[0;34m(\u001b[0m\u001b[0mimg\u001b[0m\u001b[0;34m,\u001b[0m \u001b[0mbbox\u001b[0m\u001b[0;34m)\u001b[0m\u001b[0;34m)\u001b[0m\u001b[0;34m\u001b[0m\u001b[0;34m\u001b[0m\u001b[0m\n\u001b[0;32m----> 8\u001b[0;31m     \u001b[0mcv2\u001b[0m\u001b[0;34m.\u001b[0m\u001b[0mimwrite\u001b[0m\u001b[0;34m(\u001b[0m\u001b[0;34m'../output_square_img/{}.jpg'\u001b[0m\u001b[0;34m.\u001b[0m\u001b[0mformat\u001b[0m\u001b[0;34m(\u001b[0m\u001b[0mimg_name\u001b[0m\u001b[0;34m)\u001b[0m\u001b[0;34m,\u001b[0m \u001b[0mcrop_square_img\u001b[0m\u001b[0;34m(\u001b[0m\u001b[0mimg\u001b[0m\u001b[0;34m,\u001b[0m \u001b[0mbbox\u001b[0m\u001b[0;34m)\u001b[0m\u001b[0;34m)\u001b[0m\u001b[0;34m\u001b[0m\u001b[0;34m\u001b[0m\u001b[0m\n\u001b[0m\u001b[1;32m      9\u001b[0m     \u001b[0;32mbreak\u001b[0m\u001b[0;34m\u001b[0m\u001b[0;34m\u001b[0m\u001b[0m\n",
      "\u001b[0;31merror\u001b[0m: OpenCV(4.5.3) /tmp/pip-req-build-f51eratu/opencv/modules/imgcodecs/src/loadsave.cpp:803: error: (-215:Assertion failed) !_img.empty() in function 'imwrite'\n"
     ]
    }
   ],
   "source": [
    "# 途中でエラー\n",
    "for index, row in tqdm(test.iterrows()):\n",
    "    img_name = row['image_id']\n",
    "    bbox = as_list_bbox(row['bbox'])\n",
    "    score = row['score']\n",
    "    img = cv2.imread('../../input/test/{}.jpg'.format(img_name))\n",
    "    \n",
    "    cv2.imwrite('../output_bbox_img/{}.jpg'.format(img_name), crop_bbox_img(img, bbox))\n",
    "    cv2.imwrite('../output_square_img/{}.jpg'.format(img_name), crop_square_img(img, bbox))\n",
    "    #break"
   ]
  },
  {
   "cell_type": "code",
   "execution_count": 160,
   "id": "32855489",
   "metadata": {
    "hidden": true
   },
   "outputs": [],
   "source": [
    "# Output DIR\n",
    "os.makedirs(\"../output_bbox_img\", exist_ok=True)\n",
    "os.makedirs(\"../output_square_img\", exist_ok=True)"
   ]
  },
  {
   "cell_type": "code",
   "execution_count": 177,
   "id": "4c70a2b8",
   "metadata": {
    "hidden": true
   },
   "outputs": [
    {
     "name": "stdout",
     "output_type": "stream",
     "text": [
      "2000 dc3d5831\n",
      "2001 45404587\n",
      "2002 d0f1fb55\n",
      "2003 3050fd91\n",
      "2004 4d378aa7\n",
      "2005 835159c5\n",
      "2006 d9adc0ef\n",
      "2007 971a4152\n",
      "2008 46d4b8ad\n",
      "2009 6653d55e\n",
      "2010 d6402063\n",
      "2011 5825f1c4\n",
      "2012 bbc3c7b6\n",
      "2013 63498969\n",
      "2014 bec24002\n",
      "2015 7ab1ea74\n",
      "2016 9da8d94e\n",
      "2017 03c56bfe\n",
      "2018 6b77edc6\n",
      "2019 3dfcfacb\n",
      "2020 d93823eb\n",
      "2021 42f168c6\n",
      "2022 f3e0a597\n",
      "2023 dda65809\n",
      "2024 4d872d8a\n",
      "2025 59aba8fe\n",
      "2026 d85681b5\n",
      "2027 97afd113\n",
      "2028 0bf85f8f\n",
      "2029 b343a2a7\n",
      "2030 8597f1e3\n",
      "2031 8770edb5\n",
      "2032 e0b48ed8\n",
      "2033 39cff4eb\n",
      "2034 9c46766f\n",
      "2035 0ee05bd8\n",
      "2036 20e8507c\n",
      "2037 81792906\n",
      "2038 41231026\n",
      "2039 d38e2c5c\n",
      "2040 42254207\n",
      "2041 cb7f423e\n",
      "2042 c98a4af1\n",
      "2043 6b454452\n",
      "2044 562ead91\n",
      "2045 111c4e19\n",
      "2046 a2331271\n",
      "2047 eb72d6ef\n",
      "2048 7c5665f1\n",
      "2049 b933ddb1\n",
      "2050 d77ce114\n",
      "2051 6ff718c7\n",
      "2052 8a65d2c8\n",
      "2053 1dce0fde\n",
      "2054 653ed7af\n",
      "2055 1c17de6f\n",
      "2056 20bf93b6\n",
      "2057 05f336ad\n",
      "2058 6ef1e690\n",
      "2059 f4e91412\n",
      "2060 068cdb9d\n",
      "2061 bb596efa\n",
      "2062 0cf9d026\n",
      "2063 715fcf64\n",
      "2064 db757b73\n",
      "2065 bf163743\n",
      "2066 8f8f2b1c\n",
      "2067 55db199d\n",
      "2068 ef7402ce\n",
      "2069 c5752834\n",
      "2070 7110606e\n",
      "2071 be42a510\n",
      "2072 5a21a541\n",
      "2073 4f125385\n",
      "2074 75cab247\n",
      "2075 f8195487\n",
      "2076 25992676\n",
      "2077 a6e5dbd0\n",
      "2078 eb1e5e26\n",
      "2079 ba846ba4\n",
      "2080 d7209b90\n",
      "2081 2f7f15d0\n",
      "2082 f56ec1c0\n",
      "2083 c4876de4\n",
      "2084 05e76bca\n",
      "2085 3d21fff7\n",
      "2086 e69ce6d9\n",
      "2087 ce5080cd\n",
      "2088 c03b82e3\n",
      "2089 71a0b1ec\n",
      "2090 df8b2c37\n",
      "2091 0f133b8f\n",
      "2092 5e018bd9\n",
      "2093 c1f330d0\n",
      "2094 423e18a4\n",
      "2095 b6be463f\n",
      "2096 7c520a66\n",
      "2097 666f3094\n",
      "2098 e20229ca\n",
      "2099 b1cba450\n",
      "2100 05d6627d\n",
      "2101 953d8233\n",
      "2102 70e759ac\n",
      "2103 08f28a84\n",
      "2104 2386159a\n",
      "2105 b996521b\n",
      "2106 2e80f496\n",
      "2107 ab873c41\n",
      "2108 c4be3389\n",
      "2109 ddc761bb\n",
      "2110 f223bccd\n",
      "2111 c992765e\n",
      "2112 5a138a4d\n",
      "2113 0d8b669d\n",
      "2114 2fb67def\n",
      "2115 186ae1f9\n",
      "2116 5c0af5de\n",
      "2117 fe5df0a3\n",
      "2118 d02601af\n",
      "2119 54409a01\n",
      "2120 cd73a9a0\n",
      "2121 c9d7406a\n",
      "2122 f283264f\n",
      "2123 3093cd4a\n",
      "2124 8f49fe8a\n",
      "2125 ea37901e\n",
      "2126 b5994595\n",
      "2127 4acff813\n",
      "2128 2708ef40\n",
      "2129 fbb0acfb\n",
      "2130 4c5438f4\n",
      "2131 f4067a1e\n",
      "2132 79f0a467\n",
      "2133 8c35b2b8\n",
      "2134 01795803\n",
      "2135 995862ef\n",
      "2136 00e5004a\n",
      "2137 d6a49362\n",
      "2138 b0500d3f\n",
      "2139 e228f346\n",
      "2140 cdbfcca6\n",
      "2141 9a560c41\n",
      "2142 969d5bc8\n",
      "2143 e27661c7\n",
      "2144 4a93457c\n",
      "2145 e8f98f01\n",
      "2146 9fec633b\n",
      "2147 0b0829e2\n",
      "2148 d8e18974\n",
      "2149 90c246a8\n",
      "2150 10388a13\n",
      "2151 d07c4ea8\n",
      "2152 f709f755\n",
      "2153 680adeb3\n",
      "2154 710835b5\n",
      "2155 baf23cd1\n",
      "2156 935ba38a\n",
      "2157 f1e8e940\n",
      "2158 db3aa4aa\n",
      "2159 a04f132c\n",
      "2160 abf4bee3\n",
      "2161 7bd100e9\n",
      "2162 97fdcbef\n",
      "2163 219e8b25\n",
      "2164 674ae383\n",
      "2165 a4f49fe2\n",
      "2166 913de178\n",
      "2167 618da674\n",
      "2168 e69d287e\n",
      "2169 0f20d3c0\n",
      "2170 39019499\n",
      "2171 d5815b3c\n",
      "2172 3350f551\n",
      "2173 e3d3d4ae\n",
      "2174 ac30b832\n",
      "2175 848e3fb8\n",
      "2176 6d19021e\n",
      "2177 822f0353\n",
      "2178 6b7439e6\n",
      "2179 7e66cb9f\n",
      "2180 3cf72f96\n",
      "2181 2616d2c0\n",
      "2182 e83a778e\n",
      "2183 ea4e7741\n",
      "2184 3420f655\n",
      "2185 2834127a\n",
      "2186 72a10470\n",
      "2187 b24b2956\n",
      "2188 e02a547a\n",
      "2189 2ab5e84f\n",
      "2190 3c29c2a1\n",
      "2191 f0a6eead\n",
      "2192 8f97bed7\n",
      "2193 49d47c56\n",
      "2194 8a993b22\n",
      "2195 384856b6\n",
      "2196 94e43b53\n",
      "2197 5226202f\n",
      "2198 04529e7d\n",
      "2199 65a98449\n"
     ]
    }
   ],
   "source": [
    "for i in range(2000, len(image_ids)):\n",
    "#for i in range(1900, 2000):\n",
    "    img_name = image_ids[i]\n",
    "    \n",
    "    print(str(i).zfill(4), img_name)\n",
    "    bbox = as_list_bbox(test[test['image_id']==img_name]['bbox'][i])\n",
    "    score = test[test['image_id']==img_name]['score'][i]\n",
    "    img = cv2.imread('../../input/test/{}.jpg'.format(img_name))\n",
    "    \n",
    "    cv2.imwrite('../output_bbox_img/{}.jpg'.format(img_name), crop_bbox_img(img, bbox))\n",
    "    \n",
    "    try:\n",
    "        cv2.imwrite('../output_square_img/{}.jpg'.format(img_name), crop_square_img(img, bbox, scale=1.2))\n",
    "    except:\n",
    "        cv2.imwrite('../output_square_img/{}.jpg'.format(img_name), crop_square_img(img, bbox, scale=1.0))\n",
    "        \n",
    "    #break"
   ]
  },
  {
   "cell_type": "code",
   "execution_count": 158,
   "id": "caaa57f5",
   "metadata": {
    "hidden": true
   },
   "outputs": [
    {
     "data": {
      "text/plain": [
       "1    [737.37, 1896.55, 959.4, 340.98]\n",
       "Name: bbox, dtype: object"
      ]
     },
     "execution_count": 158,
     "metadata": {},
     "output_type": "execute_result"
    }
   ],
   "source": [
    "test[test['image_id']==img_name]['bbox']"
   ]
  },
  {
   "cell_type": "code",
   "execution_count": 151,
   "id": "ad6693e2",
   "metadata": {
    "hidden": true
   },
   "outputs": [
    {
     "data": {
      "text/plain": [
       "'[935.58, 1866.76, 946.32, 327.8]'"
      ]
     },
     "execution_count": 151,
     "metadata": {},
     "output_type": "execute_result"
    }
   ],
   "source": []
  },
  {
   "cell_type": "code",
   "execution_count": 147,
   "id": "37dd66ee",
   "metadata": {
    "hidden": true
   },
   "outputs": [
    {
     "data": {
      "text/plain": [
       "<matplotlib.image.AxesImage at 0x7fc802f175b0>"
      ]
     },
     "execution_count": 147,
     "metadata": {},
     "output_type": "execute_result"
    },
    {
     "data": {
      "image/png": "[encoded data removed]",
      "text/plain": [
       "<Figure size 432x288 with 1 Axes>"
      ]
     },
     "metadata": {
      "needs_background": "light"
     },
     "output_type": "display_data"
    }
   ],
   "source": [
    "plt.imshow(img)"
   ]
  },
  {
   "cell_type": "markdown",
   "id": "aab9984b",
   "metadata": {
    "heading_collapsed": true
   },
   "source": [
    "# Train_all"
   ]
  },
  {
   "cell_type": "code",
   "execution_count": 15,
   "id": "518f80f3",
   "metadata": {
    "hidden": true
   },
   "outputs": [],
   "source": [
    "train_all = pd.read_csv('../annotations/result_train_all_extracted.csv')"
   ]
  },
  {
   "cell_type": "code",
   "execution_count": 16,
   "id": "06619b8a",
   "metadata": {
    "hidden": true
   },
   "outputs": [
    {
     "data": {
      "text/html": [
       "<div>\n",
       "<style scoped>\n",
       "    .dataframe tbody tr th:only-of-type {\n",
       "        vertical-align: middle;\n",
       "    }\n",
       "\n",
       "    .dataframe tbody tr th {\n",
       "        vertical-align: top;\n",
       "    }\n",
       "\n",
       "    .dataframe thead th {\n",
       "        text-align: right;\n",
       "    }\n",
       "</style>\n",
       "<table border=\"1\" class=\"dataframe\">\n",
       "  <thead>\n",
       "    <tr style=\"text-align: right;\">\n",
       "      <th></th>\n",
       "      <th>Unnamed: 0</th>\n",
       "      <th>image_id</th>\n",
       "      <th>category_id</th>\n",
       "      <th>bbox</th>\n",
       "      <th>score</th>\n",
       "    </tr>\n",
       "  </thead>\n",
       "  <tbody>\n",
       "    <tr>\n",
       "      <th>0</th>\n",
       "      <td>66892</td>\n",
       "      <td>52144ce7</td>\n",
       "      <td>10</td>\n",
       "      <td>[1175.41, 1875.69, 558.05, 321.88]</td>\n",
       "      <td>0.87</td>\n",
       "    </tr>\n",
       "    <tr>\n",
       "      <th>1</th>\n",
       "      <td>142673</td>\n",
       "      <td>fe2592b4</td>\n",
       "      <td>3</td>\n",
       "      <td>[1028.78, 1641.9, 889.76, 327.69]</td>\n",
       "      <td>0.84</td>\n",
       "    </tr>\n",
       "    <tr>\n",
       "      <th>2</th>\n",
       "      <td>230772</td>\n",
       "      <td>be5220c4</td>\n",
       "      <td>10</td>\n",
       "      <td>[991.47, 2587.21, 541.06, 340.39]</td>\n",
       "      <td>0.84</td>\n",
       "    </tr>\n",
       "    <tr>\n",
       "      <th>3</th>\n",
       "      <td>177234</td>\n",
       "      <td>b567edd3</td>\n",
       "      <td>10</td>\n",
       "      <td>[941.95, 1712.16, 548.55, 276.14]</td>\n",
       "      <td>0.83</td>\n",
       "    </tr>\n",
       "    <tr>\n",
       "      <th>4</th>\n",
       "      <td>48424</td>\n",
       "      <td>c8bcb9ad</td>\n",
       "      <td>3</td>\n",
       "      <td>[564.58, 1637.77, 1117.72, 487.13]</td>\n",
       "      <td>0.83</td>\n",
       "    </tr>\n",
       "    <tr>\n",
       "      <th>...</th>\n",
       "      <td>...</td>\n",
       "      <td>...</td>\n",
       "      <td>...</td>\n",
       "      <td>...</td>\n",
       "      <td>...</td>\n",
       "    </tr>\n",
       "    <tr>\n",
       "      <th>4014</th>\n",
       "      <td>365305</td>\n",
       "      <td>bf31e612</td>\n",
       "      <td>9</td>\n",
       "      <td>[5.47, 213.89, 283.82, 163.49]</td>\n",
       "      <td>0.06</td>\n",
       "    </tr>\n",
       "    <tr>\n",
       "      <th>4015</th>\n",
       "      <td>201055</td>\n",
       "      <td>74f71382</td>\n",
       "      <td>11</td>\n",
       "      <td>[883.0, 2010.18, 1046.98, 1040.41]</td>\n",
       "      <td>0.04</td>\n",
       "    </tr>\n",
       "    <tr>\n",
       "      <th>4016</th>\n",
       "      <td>77515</td>\n",
       "      <td>0f96adff</td>\n",
       "      <td>12</td>\n",
       "      <td>[1506.3, 1634.99, 309.99, 407.95]</td>\n",
       "      <td>0.04</td>\n",
       "    </tr>\n",
       "    <tr>\n",
       "      <th>4017</th>\n",
       "      <td>327318</td>\n",
       "      <td>8ede6b26</td>\n",
       "      <td>11</td>\n",
       "      <td>[911.01, 975.17, 604.49, 571.63]</td>\n",
       "      <td>0.03</td>\n",
       "    </tr>\n",
       "    <tr>\n",
       "      <th>4018</th>\n",
       "      <td>363053</td>\n",
       "      <td>da70dfa4</td>\n",
       "      <td>1</td>\n",
       "      <td>[23.47, 132.55, 65.54, 37.2]</td>\n",
       "      <td>0.03</td>\n",
       "    </tr>\n",
       "  </tbody>\n",
       "</table>\n",
       "<p>4019 rows × 5 columns</p>\n",
       "</div>"
      ],
      "text/plain": [
       "      Unnamed: 0  image_id  category_id                                bbox  \\\n",
       "0          66892  52144ce7           10  [1175.41, 1875.69, 558.05, 321.88]   \n",
       "1         142673  fe2592b4            3   [1028.78, 1641.9, 889.76, 327.69]   \n",
       "2         230772  be5220c4           10   [991.47, 2587.21, 541.06, 340.39]   \n",
       "3         177234  b567edd3           10   [941.95, 1712.16, 548.55, 276.14]   \n",
       "4          48424  c8bcb9ad            3  [564.58, 1637.77, 1117.72, 487.13]   \n",
       "...          ...       ...          ...                                 ...   \n",
       "4014      365305  bf31e612            9      [5.47, 213.89, 283.82, 163.49]   \n",
       "4015      201055  74f71382           11  [883.0, 2010.18, 1046.98, 1040.41]   \n",
       "4016       77515  0f96adff           12   [1506.3, 1634.99, 309.99, 407.95]   \n",
       "4017      327318  8ede6b26           11    [911.01, 975.17, 604.49, 571.63]   \n",
       "4018      363053  da70dfa4            1        [23.47, 132.55, 65.54, 37.2]   \n",
       "\n",
       "      score  \n",
       "0      0.87  \n",
       "1      0.84  \n",
       "2      0.84  \n",
       "3      0.83  \n",
       "4      0.83  \n",
       "...     ...  \n",
       "4014   0.06  \n",
       "4015   0.04  \n",
       "4016   0.04  \n",
       "4017   0.03  \n",
       "4018   0.03  \n",
       "\n",
       "[4019 rows x 5 columns]"
      ]
     },
     "execution_count": 16,
     "metadata": {},
     "output_type": "execute_result"
    }
   ],
   "source": [
    "train_all"
   ]
  },
  {
   "cell_type": "code",
   "execution_count": 17,
   "id": "cbebd406",
   "metadata": {
    "hidden": true
   },
   "outputs": [
    {
     "name": "stdout",
     "output_type": "stream",
     "text": [
      "4019\n"
     ]
    }
   ],
   "source": [
    "image_ids = train_all['image_id'].unique()\n",
    "print(len(image_ids))"
   ]
  },
  {
   "cell_type": "code",
   "execution_count": 18,
   "id": "9908e4c8",
   "metadata": {
    "hidden": true
   },
   "outputs": [],
   "source": [
    "# Output DIR\n",
    "os.makedirs(\"../train_bbox_img\", exist_ok=True)\n",
    "os.makedirs(\"../train_square_img\", exist_ok=True)"
   ]
  },
  {
   "cell_type": "code",
   "execution_count": 21,
   "id": "ff140b3a",
   "metadata": {
    "hidden": true,
    "scrolled": true
   },
   "outputs": [
    {
     "name": "stdout",
     "output_type": "stream",
     "text": [
      "3636 b978553d\n",
      "3637 dfcd920f\n",
      "3638 45614290\n",
      "3639 058d5d43\n",
      "3640 e316e58e\n",
      "3641 2abaca49\n",
      "3642 a0646536\n",
      "3643 34ff3bb3\n",
      "3644 1dba9a5b\n",
      "3645 f462d26a\n",
      "3646 51283fa3\n",
      "3647 22a2fa7d\n",
      "3648 e2fa8f5b\n",
      "3649 03d0925a\n",
      "3650 ab4bf58f\n",
      "3651 e0f1d28e\n",
      "3652 fc71d51a\n",
      "3653 b20a51d1\n",
      "3654 aebed4b1\n",
      "3655 cc55b4c2\n",
      "3656 343e4608\n",
      "3657 1b36cd79\n",
      "3658 82bd3b63\n",
      "3659 5933b0b3\n",
      "3660 18285264\n",
      "3661 fed1a952\n",
      "3662 80e107ee\n",
      "3663 14a79e51\n",
      "3664 00476816\n",
      "3665 313cd30d\n",
      "3666 9fa4354c\n",
      "3667 f7f9097c\n",
      "3668 87269b28\n",
      "3669 1edbc8c5\n",
      "3670 cb2dca9d\n",
      "3671 2c7faf8d\n",
      "3672 4f6ceab7\n",
      "3673 80dd61da\n",
      "3674 fd47ac3c\n",
      "3675 7c1aade3\n",
      "3676 e41e141d\n",
      "3677 3b05cf67\n",
      "3678 ffb3b559\n",
      "3679 e0b372a8\n",
      "3680 6b3c238e\n",
      "3681 16cea6df\n",
      "3682 3045ad03\n",
      "3683 da9570a2\n",
      "3684 882555fb\n",
      "3685 29b72132\n",
      "3686 92abb80a\n",
      "3687 52a6eb68\n",
      "3688 5ad0e75a\n",
      "3689 1db01826\n",
      "3690 c08ee2a2\n",
      "3691 550438f1\n",
      "3692 c1fcf0cd\n",
      "3693 905daf4b\n",
      "3694 b17c4387\n",
      "3695 75868569\n",
      "3696 a96956b0\n",
      "3697 99cf15ac\n",
      "3698 03b07ca8\n",
      "3699 210c4b3f\n",
      "3700 6e04efee\n",
      "3701 fccb6362\n",
      "3702 f1ee529e\n",
      "3703 7123d367\n",
      "3704 5ca1f742\n",
      "3705 1706be6c\n",
      "3706 bb551a7a\n",
      "3707 c4f9fcfb\n",
      "3708 da26b77b\n",
      "3709 f04ac0af\n",
      "3710 ffe8cdb5\n",
      "3711 3a892eea\n",
      "3712 e5ce886c\n",
      "3713 da1b5fe2\n",
      "3714 6cb6d4b2\n",
      "3715 55fdec96\n",
      "3716 bb3d93da\n",
      "3717 def76dbc\n",
      "3718 479de61e\n",
      "3719 6beb5eb7\n",
      "3720 96bb293a\n",
      "3721 ca306090\n",
      "3722 71181f5d\n",
      "3723 159ea0a6\n",
      "3724 e7303ad8\n",
      "3725 50182d9d\n",
      "3726 6739d7f3\n",
      "3727 49a57aab\n",
      "3728 08b25a1f\n",
      "3729 04222ea3\n",
      "3730 2a649680\n",
      "3731 1d83fef6\n",
      "3732 c6d537e1\n",
      "3733 43a70ba6\n",
      "3734 47f6c8c4\n",
      "3735 43d24458\n",
      "3736 1cac2e47\n",
      "3737 f2069c4f\n",
      "3738 5078bca8\n",
      "3739 09957ae4\n",
      "3740 75ab3e0a\n",
      "3741 bcd7ddda\n",
      "3742 6bcaea98\n",
      "3743 731d65cd\n",
      "3744 4aeb7ad6\n",
      "3745 c426adae\n",
      "3746 c31e589a\n",
      "3747 44246e7c\n",
      "3748 17c7f8a2\n",
      "3749 0d8be8cf\n",
      "3750 0f0ae0e1\n",
      "3751 baf64c5b\n",
      "3752 ce1f9e5f\n",
      "3753 4aa7c75f\n",
      "3754 e1638e7a\n",
      "3755 096500d4\n",
      "3756 5e9c1dc3\n",
      "3757 72dbc1d0\n",
      "3758 19e639b0\n",
      "3759 055f7894\n",
      "3760 f1ed082f\n",
      "3761 09b48c75\n",
      "3762 dcdc240c\n",
      "3763 32ea6aa8\n",
      "3764 96e85c9f\n",
      "3765 d62e1c29\n",
      "3766 d029fa3a\n",
      "3767 2d98306a\n",
      "3768 6220b303\n",
      "3769 3c15285c\n",
      "3770 e133553e\n",
      "3771 a5081fc7\n",
      "3772 a5ae3f2d\n",
      "3773 7385cae6\n",
      "3774 fad2f10e\n",
      "3775 fc70db0a\n",
      "3776 739b312a\n",
      "3777 0cf10a71\n",
      "3778 f6103ca1\n",
      "3779 02c0b7bc\n",
      "3780 87a08ac7\n",
      "3781 7b78859b\n",
      "3782 0b06d2ff\n",
      "3783 62f73707\n",
      "3784 158a323a\n",
      "3785 4ae939e7\n",
      "3786 f36e2794\n",
      "3787 26d1c63c\n",
      "3788 38fc9516\n",
      "3789 5c3dafc2\n",
      "3790 3957deaf\n",
      "3791 864995ea\n",
      "3792 193dfde4\n",
      "3793 38879b63\n",
      "3794 c1bf9243\n",
      "3795 7f7e4d7e\n",
      "3796 5313e5bf\n",
      "3797 2730a07b\n",
      "3798 ab254fbd\n",
      "3799 9f919160\n",
      "3800 70c023a7\n",
      "3801 778761ba\n",
      "3802 d09827d9\n",
      "3803 f58a468c\n",
      "3804 75a92952\n",
      "3805 99f32aaf\n",
      "3806 cf52b737\n",
      "3807 1a09807a\n",
      "3808 33743b03\n",
      "3809 02560826\n",
      "3810 1e0b605f\n",
      "3811 5f60288f\n",
      "3812 b4a9c08c\n",
      "3813 8f496fee\n",
      "3814 7ddcb477\n",
      "3815 d4126e09\n",
      "3816 6606753e\n",
      "3817 9c93522c\n",
      "3818 2920b948\n",
      "3819 74a86f62\n",
      "3820 e52522a5\n",
      "3821 a5d78811\n",
      "3822 816d797f\n",
      "3823 ea650242\n",
      "3824 f8818b67\n",
      "3825 6e8d1a94\n",
      "3826 bfbbc7d8\n",
      "3827 8e28c5eb\n",
      "3828 822fb7b5\n",
      "3829 baffc540\n",
      "3830 9f22a07e\n",
      "3831 7e5cb842\n",
      "3832 2c5ae076\n",
      "3833 b7375a47\n",
      "3834 5b7fb45e\n",
      "3835 2cec8cf0\n",
      "3836 c6ff2896\n",
      "3837 a6706398\n",
      "3838 2fad7ac7\n",
      "3839 cb7593a6\n",
      "3840 600b4cdf\n",
      "3841 0bb298c1\n",
      "3842 adde7bf0\n",
      "3843 6d271914\n",
      "3844 0a1954a4\n",
      "3845 b3e9ff4f\n",
      "3846 8c004c94\n",
      "3847 67863833\n",
      "3848 24075b27\n",
      "3849 197fadbf\n",
      "3850 24975a89\n",
      "3851 4495c083\n",
      "3852 4e893a5e\n",
      "3853 a165b612\n",
      "3854 95d41ec8\n",
      "3855 9e7ff86f\n",
      "3856 90d441ee\n",
      "3857 ef1d1c50\n",
      "3858 a01939fb\n",
      "3859 fde14d5b\n",
      "3860 4e102767\n",
      "3861 833d6983\n",
      "3862 9b8f2fa4\n",
      "3863 5a4213df\n",
      "3864 e3ff67a0\n",
      "3865 972356a4\n",
      "3866 2b8ae454\n",
      "3867 c89fe5b7\n",
      "3868 df8e9474\n",
      "3869 27bc6c51\n",
      "3870 b0ab628c\n",
      "3871 5fe46e04\n",
      "3872 ff9511e0\n",
      "3873 58aec6ba\n",
      "3874 2fead305\n",
      "3875 3223a266\n",
      "3876 f035af22\n",
      "3877 d12a4891\n",
      "3878 c21c1a4d\n",
      "3879 a1e93f34\n",
      "3880 d6a40317\n",
      "3881 b0981fa4\n",
      "3882 dae89e11\n",
      "3883 eaf89db7\n",
      "3884 21bc59f9\n",
      "3885 a72c3d51\n",
      "3886 8ceb744f\n",
      "3887 4e49800f\n",
      "3888 1cea97c2\n",
      "3889 5c0b1ae7\n",
      "3890 1e12c1e0\n",
      "3891 5447175c\n",
      "3892 f0571d12\n",
      "3893 0038263c\n",
      "3894 fb1548ce\n",
      "3895 955dfe16\n",
      "3896 f00f2e7b\n",
      "3897 27c07c5d\n",
      "3898 7c1b5e20\n",
      "3899 88a8b05b\n",
      "3900 ff2fbb2c\n",
      "3901 35041ec2\n",
      "3902 777abbc1\n",
      "3903 894a8d01\n",
      "3904 79b50932\n",
      "3905 f15223dc\n",
      "3906 65193e04\n",
      "3907 56a5ec9c\n",
      "3908 0be057bb\n",
      "3909 67d9df3b\n",
      "3910 1500feef\n",
      "3911 3fbb234d\n",
      "3912 97b3e84b\n",
      "3913 0920e5e9\n",
      "3914 c567607d\n",
      "3915 e1cbed0e\n",
      "3916 34451041\n",
      "3917 6a175db8\n",
      "3918 7cabc7e0\n",
      "3919 df4865fc\n",
      "3920 f6e2d4fb\n",
      "3921 7ac25d5d\n",
      "3922 903a4207\n",
      "3923 b1537e61\n",
      "3924 6c663502\n",
      "3925 fad763a2\n",
      "3926 c13ed907\n",
      "3927 9988ad0a\n",
      "3928 c699c245\n",
      "3929 1dffd68e\n",
      "3930 c5d27af2\n",
      "3931 c29ee91a\n",
      "3932 82555dab\n",
      "3933 3734cb2a\n",
      "3934 fc516b2c\n",
      "3935 48cdb267\n",
      "3936 b1627623\n",
      "3937 ace0a219\n",
      "3938 de3ab843\n",
      "3939 d08553fb\n",
      "3940 7b9b5571\n",
      "3941 b8dab8a0\n",
      "3942 94cfdb2c\n",
      "3943 a306c73f\n",
      "3944 0d21ae12\n",
      "3945 c363831c\n",
      "3946 ec5ed4cd\n",
      "3947 971787b1\n",
      "3948 8bba5b9b\n",
      "3949 44735af7\n",
      "3950 18bf4882\n",
      "3951 02cca380\n",
      "3952 a73b320d\n",
      "3953 27478279\n",
      "3954 835d5e83\n",
      "3955 dab6e467\n",
      "3956 92023261\n",
      "3957 edee29f8\n",
      "3958 ef3eaba7\n",
      "3959 89a2b0db\n",
      "3960 4657bf5f\n",
      "3961 48708652\n",
      "3962 85987aa6\n",
      "3963 fa9b1cc5\n",
      "3964 408311ba\n",
      "3965 f8646a25\n",
      "3966 b543b2a3\n",
      "3967 c324b7cb\n",
      "3968 580811fa\n",
      "3969 6c0b64d1\n",
      "3970 5c17cac5\n",
      "3971 b93e56ae\n",
      "3972 9ff84766\n",
      "3973 377ac4e9\n",
      "3974 5dbb51ba\n",
      "3975 d3024984\n",
      "3976 5b12bb4e\n",
      "3977 c775788b\n",
      "3978 6bc53897\n",
      "3979 388c2eaf\n",
      "3980 de744131\n",
      "3981 bcac371b\n",
      "3982 f3457dab\n",
      "3983 7b2c21ea\n",
      "3984 556ea1b2\n",
      "3985 b346a1b3\n",
      "3986 b2d0bf51\n",
      "3987 bb60bd01\n",
      "3988 8f4e3ac8\n",
      "3989 240e1a3f\n",
      "3990 c5d4a63d\n",
      "3991 52ed8fba\n",
      "3992 c838df53\n",
      "3993 93f7fb79\n",
      "3994 2ced184d\n",
      "3995 e1fee01e\n",
      "3996 a5a2b61e\n",
      "3997 d4e33e29\n",
      "3998 7d4a2503\n",
      "3999 562545a2\n",
      "4000 52018340\n",
      "4001 230ad27c\n",
      "4002 6ffbae9a\n",
      "4003 e9f6fab3\n",
      "4004 02ede7e8\n",
      "4005 b2382de3\n",
      "4006 0337d6fc\n",
      "4007 c864021c\n",
      "4008 27d719c7\n",
      "4009 97623535\n",
      "4010 9b21b03d\n",
      "4011 c403741c\n",
      "4012 815106ad\n",
      "4013 8c244b37\n",
      "4014 bf31e612\n",
      "4015 74f71382\n",
      "4016 0f96adff\n",
      "4017 8ede6b26\n",
      "4018 da70dfa4\n"
     ]
    }
   ],
   "source": [
    "#for i in range(0, len(image_ids)):\n",
    "for i in range(3636, len(image_ids)):\n",
    "\n",
    "    img_name = image_ids[i]\n",
    "    print(str(i).zfill(4), img_name)\n",
    "    \n",
    "    bbox = as_list_bbox(train_all[train_all['image_id']==img_name]['bbox'][i])\n",
    "    score = train_all[train_all['image_id']==img_name]['score'][i]\n",
    "    img = cv2.imread('../../CenterNet-HarDNet/data/coco/train_all2017/{}.jpg'.format(img_name))\n",
    "    \n",
    "    cv2.imwrite('../images/train_bbox/{}.jpg'.format(img_name), crop_bbox_img(img, bbox))\n",
    "    \n",
    "    try:\n",
    "        cv2.imwrite('../images/train_square/{}.jpg'.format(img_name), crop_square_img(img, bbox, scale=1.2))\n",
    "    except:\n",
    "        cv2.imwrite('../images/train_square/{}.jpg'.format(img_name), crop_square_img(img, bbox, scale=1.0))\n",
    "        \n",
    "    #break"
   ]
  },
  {
   "cell_type": "code",
   "execution_count": 11,
   "id": "478bc94e",
   "metadata": {
    "hidden": true
   },
   "outputs": [],
   "source": [
    "x_min = int(bbox[0])\n",
    "y_min = int(bbox[1])\n",
    "x_max = int(bbox[0]+bbox[2])\n",
    "y_max = int(bbox[1]+bbox[3])"
   ]
  },
  {
   "cell_type": "code",
   "execution_count": 13,
   "id": "f453eb7b",
   "metadata": {
    "hidden": true
   },
   "outputs": [
    {
     "data": {
      "text/plain": [
       "(-5.5, 727.85, 153.22, 126.15)"
      ]
     },
     "execution_count": 13,
     "metadata": {},
     "output_type": "execute_result"
    }
   ],
   "source": [
    "bbox"
   ]
  },
  {
   "cell_type": "code",
   "execution_count": 10,
   "id": "61ae5195",
   "metadata": {
    "hidden": true
   },
   "outputs": [
    {
     "ename": "ValueError",
     "evalue": "zero-size array to reduction operation minimum which has no identity",
     "output_type": "error",
     "traceback": [
      "\u001b[0;31m---------------------------------------------------------------------------\u001b[0m",
      "\u001b[0;31mValueError\u001b[0m                                Traceback (most recent call last)",
      "\u001b[0;32m<ipython-input-10-e14ceefa4c1e>\u001b[0m in \u001b[0;36m<module>\u001b[0;34m\u001b[0m\n\u001b[0;32m----> 1\u001b[0;31m \u001b[0mplt\u001b[0m\u001b[0;34m.\u001b[0m\u001b[0mimshow\u001b[0m\u001b[0;34m(\u001b[0m\u001b[0mcrop_bbox_img\u001b[0m\u001b[0;34m(\u001b[0m\u001b[0mimg\u001b[0m\u001b[0;34m,\u001b[0m \u001b[0mbbox\u001b[0m\u001b[0;34m)\u001b[0m\u001b[0;34m)\u001b[0m\u001b[0;34m\u001b[0m\u001b[0;34m\u001b[0m\u001b[0m\n\u001b[0m",
      "\u001b[0;32m~/anaconda3/lib/python3.8/site-packages/matplotlib/pyplot.py\u001b[0m in \u001b[0;36mimshow\u001b[0;34m(X, cmap, norm, aspect, interpolation, alpha, vmin, vmax, origin, extent, filternorm, filterrad, resample, url, data, **kwargs)\u001b[0m\n\u001b[1;32m   2722\u001b[0m         \u001b[0mfilternorm\u001b[0m\u001b[0;34m=\u001b[0m\u001b[0;32mTrue\u001b[0m\u001b[0;34m,\u001b[0m \u001b[0mfilterrad\u001b[0m\u001b[0;34m=\u001b[0m\u001b[0;36m4.0\u001b[0m\u001b[0;34m,\u001b[0m \u001b[0mresample\u001b[0m\u001b[0;34m=\u001b[0m\u001b[0;32mNone\u001b[0m\u001b[0;34m,\u001b[0m \u001b[0murl\u001b[0m\u001b[0;34m=\u001b[0m\u001b[0;32mNone\u001b[0m\u001b[0;34m,\u001b[0m\u001b[0;34m\u001b[0m\u001b[0;34m\u001b[0m\u001b[0m\n\u001b[1;32m   2723\u001b[0m         data=None, **kwargs):\n\u001b[0;32m-> 2724\u001b[0;31m     __ret = gca().imshow(\n\u001b[0m\u001b[1;32m   2725\u001b[0m         \u001b[0mX\u001b[0m\u001b[0;34m,\u001b[0m \u001b[0mcmap\u001b[0m\u001b[0;34m=\u001b[0m\u001b[0mcmap\u001b[0m\u001b[0;34m,\u001b[0m \u001b[0mnorm\u001b[0m\u001b[0;34m=\u001b[0m\u001b[0mnorm\u001b[0m\u001b[0;34m,\u001b[0m \u001b[0maspect\u001b[0m\u001b[0;34m=\u001b[0m\u001b[0maspect\u001b[0m\u001b[0;34m,\u001b[0m\u001b[0;34m\u001b[0m\u001b[0;34m\u001b[0m\u001b[0m\n\u001b[1;32m   2726\u001b[0m         \u001b[0minterpolation\u001b[0m\u001b[0;34m=\u001b[0m\u001b[0minterpolation\u001b[0m\u001b[0;34m,\u001b[0m \u001b[0malpha\u001b[0m\u001b[0;34m=\u001b[0m\u001b[0malpha\u001b[0m\u001b[0;34m,\u001b[0m \u001b[0mvmin\u001b[0m\u001b[0;34m=\u001b[0m\u001b[0mvmin\u001b[0m\u001b[0;34m,\u001b[0m\u001b[0;34m\u001b[0m\u001b[0;34m\u001b[0m\u001b[0m\n",
      "\u001b[0;32m~/anaconda3/lib/python3.8/site-packages/matplotlib/__init__.py\u001b[0m in \u001b[0;36minner\u001b[0;34m(ax, data, *args, **kwargs)\u001b[0m\n\u001b[1;32m   1445\u001b[0m     \u001b[0;32mdef\u001b[0m \u001b[0minner\u001b[0m\u001b[0;34m(\u001b[0m\u001b[0max\u001b[0m\u001b[0;34m,\u001b[0m \u001b[0;34m*\u001b[0m\u001b[0margs\u001b[0m\u001b[0;34m,\u001b[0m \u001b[0mdata\u001b[0m\u001b[0;34m=\u001b[0m\u001b[0;32mNone\u001b[0m\u001b[0;34m,\u001b[0m \u001b[0;34m**\u001b[0m\u001b[0mkwargs\u001b[0m\u001b[0;34m)\u001b[0m\u001b[0;34m:\u001b[0m\u001b[0;34m\u001b[0m\u001b[0;34m\u001b[0m\u001b[0m\n\u001b[1;32m   1446\u001b[0m         \u001b[0;32mif\u001b[0m \u001b[0mdata\u001b[0m \u001b[0;32mis\u001b[0m \u001b[0;32mNone\u001b[0m\u001b[0;34m:\u001b[0m\u001b[0;34m\u001b[0m\u001b[0;34m\u001b[0m\u001b[0m\n\u001b[0;32m-> 1447\u001b[0;31m             \u001b[0;32mreturn\u001b[0m \u001b[0mfunc\u001b[0m\u001b[0;34m(\u001b[0m\u001b[0max\u001b[0m\u001b[0;34m,\u001b[0m \u001b[0;34m*\u001b[0m\u001b[0mmap\u001b[0m\u001b[0;34m(\u001b[0m\u001b[0msanitize_sequence\u001b[0m\u001b[0;34m,\u001b[0m \u001b[0margs\u001b[0m\u001b[0;34m)\u001b[0m\u001b[0;34m,\u001b[0m \u001b[0;34m**\u001b[0m\u001b[0mkwargs\u001b[0m\u001b[0;34m)\u001b[0m\u001b[0;34m\u001b[0m\u001b[0;34m\u001b[0m\u001b[0m\n\u001b[0m\u001b[1;32m   1448\u001b[0m \u001b[0;34m\u001b[0m\u001b[0m\n\u001b[1;32m   1449\u001b[0m         \u001b[0mbound\u001b[0m \u001b[0;34m=\u001b[0m \u001b[0mnew_sig\u001b[0m\u001b[0;34m.\u001b[0m\u001b[0mbind\u001b[0m\u001b[0;34m(\u001b[0m\u001b[0max\u001b[0m\u001b[0;34m,\u001b[0m \u001b[0;34m*\u001b[0m\u001b[0margs\u001b[0m\u001b[0;34m,\u001b[0m \u001b[0;34m**\u001b[0m\u001b[0mkwargs\u001b[0m\u001b[0;34m)\u001b[0m\u001b[0;34m\u001b[0m\u001b[0;34m\u001b[0m\u001b[0m\n",
      "\u001b[0;32m~/anaconda3/lib/python3.8/site-packages/matplotlib/axes/_axes.py\u001b[0m in \u001b[0;36mimshow\u001b[0;34m(self, X, cmap, norm, aspect, interpolation, alpha, vmin, vmax, origin, extent, filternorm, filterrad, resample, url, **kwargs)\u001b[0m\n\u001b[1;32m   5521\u001b[0m                               resample=resample, **kwargs)\n\u001b[1;32m   5522\u001b[0m \u001b[0;34m\u001b[0m\u001b[0m\n\u001b[0;32m-> 5523\u001b[0;31m         \u001b[0mim\u001b[0m\u001b[0;34m.\u001b[0m\u001b[0mset_data\u001b[0m\u001b[0;34m(\u001b[0m\u001b[0mX\u001b[0m\u001b[0;34m)\u001b[0m\u001b[0;34m\u001b[0m\u001b[0;34m\u001b[0m\u001b[0m\n\u001b[0m\u001b[1;32m   5524\u001b[0m         \u001b[0mim\u001b[0m\u001b[0;34m.\u001b[0m\u001b[0mset_alpha\u001b[0m\u001b[0;34m(\u001b[0m\u001b[0malpha\u001b[0m\u001b[0;34m)\u001b[0m\u001b[0;34m\u001b[0m\u001b[0;34m\u001b[0m\u001b[0m\n\u001b[1;32m   5525\u001b[0m         \u001b[0;32mif\u001b[0m \u001b[0mim\u001b[0m\u001b[0;34m.\u001b[0m\u001b[0mget_clip_path\u001b[0m\u001b[0;34m(\u001b[0m\u001b[0;34m)\u001b[0m \u001b[0;32mis\u001b[0m \u001b[0;32mNone\u001b[0m\u001b[0;34m:\u001b[0m\u001b[0;34m\u001b[0m\u001b[0;34m\u001b[0m\u001b[0m\n",
      "\u001b[0;32m~/anaconda3/lib/python3.8/site-packages/matplotlib/image.py\u001b[0m in \u001b[0;36mset_data\u001b[0;34m(self, A)\u001b[0m\n\u001b[1;32m    718\u001b[0m             \u001b[0;31m# making reliable interpretation impossible.\u001b[0m\u001b[0;34m\u001b[0m\u001b[0;34m\u001b[0m\u001b[0;34m\u001b[0m\u001b[0m\n\u001b[1;32m    719\u001b[0m             \u001b[0mhigh\u001b[0m \u001b[0;34m=\u001b[0m \u001b[0;36m255\u001b[0m \u001b[0;32mif\u001b[0m \u001b[0mnp\u001b[0m\u001b[0;34m.\u001b[0m\u001b[0missubdtype\u001b[0m\u001b[0;34m(\u001b[0m\u001b[0mself\u001b[0m\u001b[0;34m.\u001b[0m\u001b[0m_A\u001b[0m\u001b[0;34m.\u001b[0m\u001b[0mdtype\u001b[0m\u001b[0;34m,\u001b[0m \u001b[0mnp\u001b[0m\u001b[0;34m.\u001b[0m\u001b[0minteger\u001b[0m\u001b[0;34m)\u001b[0m \u001b[0;32melse\u001b[0m \u001b[0;36m1\u001b[0m\u001b[0;34m\u001b[0m\u001b[0;34m\u001b[0m\u001b[0m\n\u001b[0;32m--> 720\u001b[0;31m             \u001b[0;32mif\u001b[0m \u001b[0mself\u001b[0m\u001b[0;34m.\u001b[0m\u001b[0m_A\u001b[0m\u001b[0;34m.\u001b[0m\u001b[0mmin\u001b[0m\u001b[0;34m(\u001b[0m\u001b[0;34m)\u001b[0m \u001b[0;34m<\u001b[0m \u001b[0;36m0\u001b[0m \u001b[0;32mor\u001b[0m \u001b[0mhigh\u001b[0m \u001b[0;34m<\u001b[0m \u001b[0mself\u001b[0m\u001b[0;34m.\u001b[0m\u001b[0m_A\u001b[0m\u001b[0;34m.\u001b[0m\u001b[0mmax\u001b[0m\u001b[0;34m(\u001b[0m\u001b[0;34m)\u001b[0m\u001b[0;34m:\u001b[0m\u001b[0;34m\u001b[0m\u001b[0;34m\u001b[0m\u001b[0m\n\u001b[0m\u001b[1;32m    721\u001b[0m                 _log.warning(\n\u001b[1;32m    722\u001b[0m                     \u001b[0;34m'Clipping input data to the valid range for imshow with '\u001b[0m\u001b[0;34m\u001b[0m\u001b[0;34m\u001b[0m\u001b[0m\n",
      "\u001b[0;32m~/anaconda3/lib/python3.8/site-packages/numpy/ma/core.py\u001b[0m in \u001b[0;36mmin\u001b[0;34m(self, axis, out, fill_value, keepdims)\u001b[0m\n\u001b[1;32m   5694\u001b[0m         \u001b[0;31m# No explicit output\u001b[0m\u001b[0;34m\u001b[0m\u001b[0;34m\u001b[0m\u001b[0;34m\u001b[0m\u001b[0m\n\u001b[1;32m   5695\u001b[0m         \u001b[0;32mif\u001b[0m \u001b[0mout\u001b[0m \u001b[0;32mis\u001b[0m \u001b[0;32mNone\u001b[0m\u001b[0;34m:\u001b[0m\u001b[0;34m\u001b[0m\u001b[0;34m\u001b[0m\u001b[0m\n\u001b[0;32m-> 5696\u001b[0;31m             result = self.filled(fill_value).min(\n\u001b[0m\u001b[1;32m   5697\u001b[0m                 axis=axis, out=out, **kwargs).view(type(self))\n\u001b[1;32m   5698\u001b[0m             \u001b[0;32mif\u001b[0m \u001b[0mresult\u001b[0m\u001b[0;34m.\u001b[0m\u001b[0mndim\u001b[0m\u001b[0;34m:\u001b[0m\u001b[0;34m\u001b[0m\u001b[0;34m\u001b[0m\u001b[0m\n",
      "\u001b[0;32m~/anaconda3/lib/python3.8/site-packages/numpy/core/_methods.py\u001b[0m in \u001b[0;36m_amin\u001b[0;34m(a, axis, out, keepdims, initial, where)\u001b[0m\n\u001b[1;32m     41\u001b[0m def _amin(a, axis=None, out=None, keepdims=False,\n\u001b[1;32m     42\u001b[0m           initial=_NoValue, where=True):\n\u001b[0;32m---> 43\u001b[0;31m     \u001b[0;32mreturn\u001b[0m \u001b[0mumr_minimum\u001b[0m\u001b[0;34m(\u001b[0m\u001b[0ma\u001b[0m\u001b[0;34m,\u001b[0m \u001b[0maxis\u001b[0m\u001b[0;34m,\u001b[0m \u001b[0;32mNone\u001b[0m\u001b[0;34m,\u001b[0m \u001b[0mout\u001b[0m\u001b[0;34m,\u001b[0m \u001b[0mkeepdims\u001b[0m\u001b[0;34m,\u001b[0m \u001b[0minitial\u001b[0m\u001b[0;34m,\u001b[0m \u001b[0mwhere\u001b[0m\u001b[0;34m)\u001b[0m\u001b[0;34m\u001b[0m\u001b[0;34m\u001b[0m\u001b[0m\n\u001b[0m\u001b[1;32m     44\u001b[0m \u001b[0;34m\u001b[0m\u001b[0m\n\u001b[1;32m     45\u001b[0m def _sum(a, axis=None, dtype=None, out=None, keepdims=False,\n",
      "\u001b[0;31mValueError\u001b[0m: zero-size array to reduction operation minimum which has no identity"
     ]
    },
    {
     "data": {
      "image/png": "[encoded data removed]",
      "text/plain": [
       "<Figure size 432x288 with 1 Axes>"
      ]
     },
     "metadata": {
      "needs_background": "light"
     },
     "output_type": "display_data"
    }
   ],
   "source": [
    "plt.imshow(crop_bbox_img(img, bbox))"
   ]
  },
  {
   "cell_type": "markdown",
   "id": "86768d80",
   "metadata": {
    "heading_collapsed": true
   },
   "source": [
    "# Test"
   ]
  },
  {
   "cell_type": "code",
   "execution_count": 87,
   "id": "01df710a",
   "metadata": {
    "hidden": true,
    "scrolled": false
   },
   "outputs": [
    {
     "name": "stdout",
     "output_type": "stream",
     "text": [
      "2383 [1373.39, 2172.04, 442.89, 158.89] 0.12\n",
      "2384 [783.79, 1605.02, 213.96, 162.26] 0.07\n",
      "2385 [1373.39, 2172.04, 442.89, 158.89] 0.08\n",
      "2386 [783.79, 1605.02, 213.96, 162.26] 0.06\n",
      "2387 [784.0, 1604.43, 213.68, 162.2] 0.16\n",
      "2388 [783.79, 1605.02, 213.96, 162.26] 0.18\n",
      "2389 [1374.28, 2172.93, 441.23, 157.28] 0.08\n",
      "2390 [1374.28, 2172.93, 441.23, 157.28] 0.06\n",
      "2391 [783.79, 1605.02, 213.96, 162.26] 0.05\n",
      "2392 [799.28, 1610.76, 210.37, 150.16] 0.18\n",
      "2393 [1374.28, 2172.93, 441.23, 157.28] 0.05\n",
      "2394 [783.79, 1605.02, 213.96, 162.26] 0.19\n",
      "2395 [1373.39, 2172.04, 442.89, 158.89] 0.15\n",
      "2396 [1373.39, 2172.04, 442.89, 158.89] 0.05\n",
      "2397 [800.6, 1609.87, 207.66, 149.9] 0.07\n",
      "2398 [783.79, 1605.02, 213.96, 162.26] 0.05\n"
     ]
    }
   ],
   "source": [
    "bboxes, scores = [], []\n",
    "for index, row in test_tmp.iterrows():\n",
    "    print(index, row['bbox'], row['score'])\n",
    "    bboxes.append(tuple(as_list_bbox(row['bbox'])))\n",
    "    scores.append(row['score'])\n",
    "    #break"
   ]
  },
  {
   "cell_type": "code",
   "execution_count": 88,
   "id": "9f7ff39c",
   "metadata": {
    "hidden": true,
    "scrolled": true
   },
   "outputs": [
    {
     "data": {
      "text/plain": [
       "6"
      ]
     },
     "execution_count": 88,
     "metadata": {},
     "output_type": "execute_result"
    }
   ],
   "source": [
    "len(nmw(bboxes, scores, iou_threshold=0.1))"
   ]
  },
  {
   "cell_type": "code",
   "execution_count": 23,
   "id": "fbc596bb",
   "metadata": {
    "code_folding": [
     0
    ],
    "hidden": true
   },
   "outputs": [
    {
     "name": "stdout",
     "output_type": "stream",
     "text": [
      "[(14.935897435897434, 24.038461538461537, 24.935897435897434, 34.03846153846154)]\n"
     ]
    }
   ],
   "source": [
    "def iou(a: tuple, b: tuple) -> float:\n",
    "    a_x1, a_y1, a_x2, a_y2 = a\n",
    "    b_x1, b_y1, b_x2, b_y2 = b\n",
    "    \n",
    "    if a == b:\n",
    "        return 1.0\n",
    "    elif (\n",
    "        (a_x1 <= b_x1 and a_x2 > b_x1) or (a_x1 >= b_x1 and b_x2 > a_x1)\n",
    "    ) and (\n",
    "        (a_y1 <= b_y1 and a_y2 > b_y1) or (a_y1 >= b_y1 and b_y2 > a_y1)\n",
    "    ):\n",
    "        intersection = (min(a_x2, b_x2) - max(a_x1, b_x1)) * (min(a_y2, b_y2) - max(a_y1, b_y1))\n",
    "        union = (a_x2 - a_x1) * (a_y2 - a_y1) + (b_x2 - b_x1) * (b_y2 - b_y1) - intersection\n",
    "        return intersection / union\n",
    "    else:\n",
    "        return 0.0\n",
    "    \n",
    "def nmw(bboxes: list, scores: list, iou_threshold: float) -> list:\n",
    "    new_bboxes = []\n",
    "    \n",
    "    while len(bboxes) > 0:\n",
    "        i = scores.index(max(scores))\n",
    "        bbox = bboxes.pop(i)\n",
    "        score = scores.pop(i)\n",
    "        \n",
    "        numerator = (bbox[0] * score, bbox[1] * score, bbox[2] * score, bbox[3] * score)\n",
    "        denominator = score\n",
    "        deletes = []\n",
    "        for j, (bbox_j, score_j) in enumerate(zip(bboxes, scores)):\n",
    "            iou_j = iou(bbox, bbox_j)\n",
    "            if iou_j > iou_threshold:\n",
    "                w = scores[j] * iou_j\n",
    "                numerator = (\n",
    "                    numerator[0] + bbox_j[0] * w, numerator[1] + bbox_j[1] * w,\n",
    "                    numerator[2] + bbox_j[2] * w, numerator[3] + bbox_j[3] * w\n",
    "                )\n",
    "                denominator += w\n",
    "                \n",
    "                deletes.append(j)\n",
    "                \n",
    "        for j in deletes[::-1]:\n",
    "            bboxes.pop(j)\n",
    "            scores.pop(j)\n",
    "          \n",
    "        new_bboxes.append((\n",
    "            numerator[0] / denominator, numerator[1] / denominator,\n",
    "            numerator[2] / denominator, numerator[3] / denominator\n",
    "        ))\n",
    "        \n",
    "    return new_bboxes\n",
    "    \n",
    "print(nmw([(10, 20, 20, 30), (20, 20, 30, 30), (15, 25, 25, 35)], [0.8, 0.7, 0.9], 0.1))"
   ]
  },
  {
   "cell_type": "code",
   "execution_count": 11,
   "id": "2e97a3f4",
   "metadata": {
    "hidden": true
   },
   "outputs": [
    {
     "name": "stdout",
     "output_type": "stream",
     "text": [
      "0 997195ba [1246.19, 1760.11, 557.99, 297.19]\n"
     ]
    }
   ],
   "source": [
    "for index, row in test.iterrows():\n",
    "    print(index, row['image_id'], row['bbox'])\n",
    "    break"
   ]
  },
  {
   "cell_type": "code",
   "execution_count": null,
   "id": "7e133090",
   "metadata": {
    "hidden": true
   },
   "outputs": [],
   "source": [
    "    print(index, row['filename'], row['class'])\n",
    "    create_annotation_test(row['filename'], row['class'])\n",
    "    #break"
   ]
  }
 ],
 "metadata": {
  "kernelspec": {
   "display_name": "Python 3 (ipykernel)",
   "language": "python",
   "name": "python3"
  },
  "language_info": {
   "codemirror_mode": {
    "name": "ipython",
    "version": 3
   },
   "file_extension": ".py",
   "mimetype": "text/x-python",
   "name": "python",
   "nbconvert_exporter": "python",
   "pygments_lexer": "ipython3",
   "version": "3.8.10"
  },
  "toc": {
   "base_numbering": 1,
   "nav_menu": {},
   "number_sections": true,
   "sideBar": true,
   "skip_h1_title": false,
   "title_cell": "Table of Contents",
   "title_sidebar": "Contents",
   "toc_cell": false,
   "toc_position": {},
   "toc_section_display": true,
   "toc_window_display": false
  }
 },
 "nbformat": 4,
 "nbformat_minor": 5
}
