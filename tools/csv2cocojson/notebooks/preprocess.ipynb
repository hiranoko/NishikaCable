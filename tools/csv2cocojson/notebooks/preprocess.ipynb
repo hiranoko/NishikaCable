{
 "cells": [
  {
   "cell_type": "markdown",
   "id": "27a0f5a1",
   "metadata": {},
   "source": [
    "CV Splitを実施"
   ]
  },
  {
   "cell_type": "code",
   "execution_count": null,
   "id": "d4cb4829",
   "metadata": {},
   "outputs": [],
   "source": []
  },
  {
   "cell_type": "code",
   "execution_count": 1,
   "id": "22b5a712",
   "metadata": {},
   "outputs": [],
   "source": [
    "import glob\n",
    "import os\n",
    "from typing import List, Optional\n",
    "\n",
    "import matplotlib\n",
    "import matplotlib.pyplot as plt\n",
    "import seaborn as sns\n",
    "import scipy\n",
    "import pandas as pd\n",
    "from tqdm import tqdm\n",
    "from sklearn.model_selection import StratifiedKFold\n",
    "import pickle\n",
    "\n",
    "pd.options.display.float_format = '{:.2f}'.format\n",
    "%matplotlib inline"
   ]
  },
  {
   "cell_type": "markdown",
   "id": "c63aec92",
   "metadata": {
    "heading_collapsed": true
   },
   "source": [
    "# CV Split"
   ]
  },
  {
   "cell_type": "code",
   "execution_count": 3,
   "id": "505c42a8",
   "metadata": {
    "hidden": true
   },
   "outputs": [],
   "source": [
    "train = pd.read_csv('../../input/csv/train.csv'))"
   ]
  },
  {
   "cell_type": "code",
   "execution_count": 4,
   "id": "d1382ab4",
   "metadata": {
    "hidden": true,
    "scrolled": true
   },
   "outputs": [
    {
     "data": {
      "text/html": [
       "<div>\n",
       "<style scoped>\n",
       "    .dataframe tbody tr th:only-of-type {\n",
       "        vertical-align: middle;\n",
       "    }\n",
       "\n",
       "    .dataframe tbody tr th {\n",
       "        vertical-align: top;\n",
       "    }\n",
       "\n",
       "    .dataframe thead th {\n",
       "        text-align: right;\n",
       "    }\n",
       "</style>\n",
       "<table border=\"1\" class=\"dataframe\">\n",
       "  <thead>\n",
       "    <tr style=\"text-align: right;\">\n",
       "      <th></th>\n",
       "      <th>filename</th>\n",
       "      <th>Xmin_Ymin_Xmax_Ymax</th>\n",
       "      <th>class</th>\n",
       "    </tr>\n",
       "  </thead>\n",
       "  <tbody>\n",
       "    <tr>\n",
       "      <th>0</th>\n",
       "      <td>2f71963a.jpg</td>\n",
       "      <td>[921, 1510, 1558, 2207]</td>\n",
       "      <td>HDMI</td>\n",
       "    </tr>\n",
       "    <tr>\n",
       "      <th>1</th>\n",
       "      <td>8cdf4bda.jpg</td>\n",
       "      <td>[1442, 1525, 1722, 2000]</td>\n",
       "      <td>USB_Mini</td>\n",
       "    </tr>\n",
       "    <tr>\n",
       "      <th>2</th>\n",
       "      <td>7ac35f30.jpg</td>\n",
       "      <td>[666, 1671, 1990, 2259]</td>\n",
       "      <td>Dock</td>\n",
       "    </tr>\n",
       "    <tr>\n",
       "      <th>3</th>\n",
       "      <td>f6641c06.jpg</td>\n",
       "      <td>[1242, 1753, 1789, 2115]</td>\n",
       "      <td>Lightning</td>\n",
       "    </tr>\n",
       "    <tr>\n",
       "      <th>4</th>\n",
       "      <td>4fdc8d7d.jpg</td>\n",
       "      <td>[1572, 1050, 2231, 1691]</td>\n",
       "      <td>USB_Micro_B</td>\n",
       "    </tr>\n",
       "  </tbody>\n",
       "</table>\n",
       "</div>"
      ],
      "text/plain": [
       "       filename       Xmin_Ymin_Xmax_Ymax        class\n",
       "0  2f71963a.jpg   [921, 1510, 1558, 2207]         HDMI\n",
       "1  8cdf4bda.jpg  [1442, 1525, 1722, 2000]     USB_Mini\n",
       "2  7ac35f30.jpg   [666, 1671, 1990, 2259]         Dock\n",
       "3  f6641c06.jpg  [1242, 1753, 1789, 2115]    Lightning\n",
       "4  4fdc8d7d.jpg  [1572, 1050, 2231, 1691]  USB_Micro_B"
      ]
     },
     "execution_count": 4,
     "metadata": {},
     "output_type": "execute_result"
    }
   ],
   "source": [
    "train.head()"
   ]
  },
  {
   "cell_type": "code",
   "execution_count": 25,
   "id": "0092f598",
   "metadata": {
    "hidden": true
   },
   "outputs": [],
   "source": [
    "class CFG:\n",
    "    seed=42\n",
    "    target_size=5\n",
    "    target_col='class'\n",
    "    n_fold=5\n",
    "    trn_fold=[0, 1, 2, 3, 4]"
   ]
  },
  {
   "cell_type": "code",
   "execution_count": 28,
   "id": "28368181",
   "metadata": {
    "hidden": true,
    "scrolled": true
   },
   "outputs": [
    {
     "name": "stdout",
     "output_type": "stream",
     "text": [
      "fold  class      \n",
      "0     DisplayPort     5\n",
      "      Dock           13\n",
      "      HDMI           14\n",
      "      Lightning      41\n",
      "      Lightning_T    16\n",
      "                     ..\n",
      "4     USB_Mini       41\n",
      "      USB_Type_A     55\n",
      "      USB_Type_B     24\n",
      "      USB_Type_C     69\n",
      "      VGA             8\n",
      "Length: 75, dtype: int64\n"
     ]
    }
   ],
   "source": [
    "folds = train.copy()\n",
    "Fold = StratifiedKFold(n_splits=CFG.n_fold, shuffle=True, random_state=CFG.seed)\n",
    "for n, (train_index, val_index) in enumerate(Fold.split(folds, folds[CFG.target_col])):\n",
    "    folds.loc[val_index, 'fold'] = int(n)\n",
    "folds['fold'] = folds['fold'].astype(int)\n",
    "print(folds.groupby(['fold', CFG.target_col]).size())"
   ]
  },
  {
   "cell_type": "code",
   "execution_count": 45,
   "id": "3d1def51",
   "metadata": {
    "hidden": true
   },
   "outputs": [
    {
     "data": {
      "image/png": "[encoded data removed]",
      "text/plain": [
       "<Figure size 432x288 with 1 Axes>"
      ]
     },
     "metadata": {
      "needs_background": "light"
     },
     "output_type": "display_data"
    },
    {
     "data": {
      "image/png": "[encoded data removed]",
      "text/plain": [
       "<Figure size 432x288 with 1 Axes>"
      ]
     },
     "metadata": {
      "needs_background": "light"
     },
     "output_type": "display_data"
    }
   ],
   "source": [
    "folds['class'].value_counts().plot(kind=\"bar\")\n",
    "plt.show()\n",
    "\n",
    "folds[folds['fold'] == 0]['class'].value_counts().plot(kind=\"bar\")\n",
    "plt.show()"
   ]
  },
  {
   "cell_type": "code",
   "execution_count": 32,
   "id": "1d1ebd1b",
   "metadata": {
    "hidden": true
   },
   "outputs": [
    {
     "data": {
      "text/html": [
       "<div>\n",
       "<style scoped>\n",
       "    .dataframe tbody tr th:only-of-type {\n",
       "        vertical-align: middle;\n",
       "    }\n",
       "\n",
       "    .dataframe tbody tr th {\n",
       "        vertical-align: top;\n",
       "    }\n",
       "\n",
       "    .dataframe thead th {\n",
       "        text-align: right;\n",
       "    }\n",
       "</style>\n",
       "<table border=\"1\" class=\"dataframe\">\n",
       "  <thead>\n",
       "    <tr style=\"text-align: right;\">\n",
       "      <th></th>\n",
       "      <th>filename</th>\n",
       "      <th>Xmin_Ymin_Xmax_Ymax</th>\n",
       "      <th>class</th>\n",
       "      <th>fold</th>\n",
       "    </tr>\n",
       "  </thead>\n",
       "  <tbody>\n",
       "    <tr>\n",
       "      <th>0</th>\n",
       "      <td>2f71963a.jpg</td>\n",
       "      <td>[921, 1510, 1558, 2207]</td>\n",
       "      <td>HDMI</td>\n",
       "      <td>2</td>\n",
       "    </tr>\n",
       "    <tr>\n",
       "      <th>1</th>\n",
       "      <td>8cdf4bda.jpg</td>\n",
       "      <td>[1442, 1525, 1722, 2000]</td>\n",
       "      <td>USB_Mini</td>\n",
       "      <td>0</td>\n",
       "    </tr>\n",
       "    <tr>\n",
       "      <th>2</th>\n",
       "      <td>7ac35f30.jpg</td>\n",
       "      <td>[666, 1671, 1990, 2259]</td>\n",
       "      <td>Dock</td>\n",
       "      <td>4</td>\n",
       "    </tr>\n",
       "    <tr>\n",
       "      <th>3</th>\n",
       "      <td>f6641c06.jpg</td>\n",
       "      <td>[1242, 1753, 1789, 2115]</td>\n",
       "      <td>Lightning</td>\n",
       "      <td>3</td>\n",
       "    </tr>\n",
       "    <tr>\n",
       "      <th>4</th>\n",
       "      <td>4fdc8d7d.jpg</td>\n",
       "      <td>[1572, 1050, 2231, 1691]</td>\n",
       "      <td>USB_Micro_B</td>\n",
       "      <td>2</td>\n",
       "    </tr>\n",
       "    <tr>\n",
       "      <th>...</th>\n",
       "      <td>...</td>\n",
       "      <td>...</td>\n",
       "      <td>...</td>\n",
       "      <td>...</td>\n",
       "    </tr>\n",
       "    <tr>\n",
       "      <th>2366</th>\n",
       "      <td>f51ca7d8.jpg</td>\n",
       "      <td>[678, 1276, 2088, 2355]</td>\n",
       "      <td>USB_Type_B</td>\n",
       "      <td>3</td>\n",
       "    </tr>\n",
       "    <tr>\n",
       "      <th>2367</th>\n",
       "      <td>323b4f3c.jpg</td>\n",
       "      <td>[1564, 2003, 2116, 2307]</td>\n",
       "      <td>USB_Type_C</td>\n",
       "      <td>3</td>\n",
       "    </tr>\n",
       "    <tr>\n",
       "      <th>2368</th>\n",
       "      <td>5f60288f.jpg</td>\n",
       "      <td>[1273, 1816, 2275, 2784]</td>\n",
       "      <td>RJ_45</td>\n",
       "      <td>1</td>\n",
       "    </tr>\n",
       "    <tr>\n",
       "      <th>2369</th>\n",
       "      <td>eaea09d6.jpg</td>\n",
       "      <td>[863, 1838, 1213, 2054]</td>\n",
       "      <td>USB_Micro_B</td>\n",
       "      <td>4</td>\n",
       "    </tr>\n",
       "    <tr>\n",
       "      <th>2370</th>\n",
       "      <td>993bd943.jpg</td>\n",
       "      <td>[1273, 2020, 1622, 2470]</td>\n",
       "      <td>USB_Mini</td>\n",
       "      <td>4</td>\n",
       "    </tr>\n",
       "  </tbody>\n",
       "</table>\n",
       "<p>2371 rows × 4 columns</p>\n",
       "</div>"
      ],
      "text/plain": [
       "          filename       Xmin_Ymin_Xmax_Ymax        class  fold\n",
       "0     2f71963a.jpg   [921, 1510, 1558, 2207]         HDMI     2\n",
       "1     8cdf4bda.jpg  [1442, 1525, 1722, 2000]     USB_Mini     0\n",
       "2     7ac35f30.jpg   [666, 1671, 1990, 2259]         Dock     4\n",
       "3     f6641c06.jpg  [1242, 1753, 1789, 2115]    Lightning     3\n",
       "4     4fdc8d7d.jpg  [1572, 1050, 2231, 1691]  USB_Micro_B     2\n",
       "...            ...                       ...          ...   ...\n",
       "2366  f51ca7d8.jpg   [678, 1276, 2088, 2355]   USB_Type_B     3\n",
       "2367  323b4f3c.jpg  [1564, 2003, 2116, 2307]   USB_Type_C     3\n",
       "2368  5f60288f.jpg  [1273, 1816, 2275, 2784]        RJ_45     1\n",
       "2369  eaea09d6.jpg   [863, 1838, 1213, 2054]  USB_Micro_B     4\n",
       "2370  993bd943.jpg  [1273, 2020, 1622, 2470]     USB_Mini     4\n",
       "\n",
       "[2371 rows x 4 columns]"
      ]
     },
     "execution_count": 32,
     "metadata": {},
     "output_type": "execute_result"
    }
   ],
   "source": [
    "folds"
   ]
  },
  {
   "cell_type": "code",
   "execution_count": 30,
   "id": "4f6bc3aa",
   "metadata": {
    "hidden": true
   },
   "outputs": [],
   "source": [
    "fold = 0\n",
    "trn_idx = folds[folds['fold'] != fold].index\n",
    "val_idx = folds[folds['fold'] == fold].index"
   ]
  },
  {
   "cell_type": "code",
   "execution_count": 31,
   "id": "8a64442b",
   "metadata": {
    "hidden": true,
    "scrolled": true
   },
   "outputs": [
    {
     "data": {
      "text/plain": [
       "(1896, 475)"
      ]
     },
     "execution_count": 31,
     "metadata": {},
     "output_type": "execute_result"
    }
   ],
   "source": [
    "len(trn_idx), len(val_idx)"
   ]
  },
  {
   "cell_type": "code",
   "execution_count": 52,
   "id": "c355eec4",
   "metadata": {
    "hidden": true
   },
   "outputs": [
    {
     "data": {
      "text/html": [
       "<div>\n",
       "<style scoped>\n",
       "    .dataframe tbody tr th:only-of-type {\n",
       "        vertical-align: middle;\n",
       "    }\n",
       "\n",
       "    .dataframe tbody tr th {\n",
       "        vertical-align: top;\n",
       "    }\n",
       "\n",
       "    .dataframe thead th {\n",
       "        text-align: right;\n",
       "    }\n",
       "</style>\n",
       "<table border=\"1\" class=\"dataframe\">\n",
       "  <thead>\n",
       "    <tr style=\"text-align: right;\">\n",
       "      <th></th>\n",
       "      <th>filename</th>\n",
       "      <th>Xmin_Ymin_Xmax_Ymax</th>\n",
       "      <th>class</th>\n",
       "      <th>fold</th>\n",
       "    </tr>\n",
       "  </thead>\n",
       "  <tbody>\n",
       "    <tr>\n",
       "      <th>0</th>\n",
       "      <td>2f71963a.jpg</td>\n",
       "      <td>[921, 1510, 1558, 2207]</td>\n",
       "      <td>HDMI</td>\n",
       "      <td>2</td>\n",
       "    </tr>\n",
       "    <tr>\n",
       "      <th>2</th>\n",
       "      <td>7ac35f30.jpg</td>\n",
       "      <td>[666, 1671, 1990, 2259]</td>\n",
       "      <td>Dock</td>\n",
       "      <td>4</td>\n",
       "    </tr>\n",
       "    <tr>\n",
       "      <th>3</th>\n",
       "      <td>f6641c06.jpg</td>\n",
       "      <td>[1242, 1753, 1789, 2115]</td>\n",
       "      <td>Lightning</td>\n",
       "      <td>3</td>\n",
       "    </tr>\n",
       "    <tr>\n",
       "      <th>4</th>\n",
       "      <td>4fdc8d7d.jpg</td>\n",
       "      <td>[1572, 1050, 2231, 1691]</td>\n",
       "      <td>USB_Micro_B</td>\n",
       "      <td>2</td>\n",
       "    </tr>\n",
       "    <tr>\n",
       "      <th>5</th>\n",
       "      <td>f27f4a62.jpg</td>\n",
       "      <td>[1347, 1841, 1730, 2191]</td>\n",
       "      <td>USB_Mini</td>\n",
       "      <td>3</td>\n",
       "    </tr>\n",
       "    <tr>\n",
       "      <th>...</th>\n",
       "      <td>...</td>\n",
       "      <td>...</td>\n",
       "      <td>...</td>\n",
       "      <td>...</td>\n",
       "    </tr>\n",
       "    <tr>\n",
       "      <th>2366</th>\n",
       "      <td>f51ca7d8.jpg</td>\n",
       "      <td>[678, 1276, 2088, 2355]</td>\n",
       "      <td>USB_Type_B</td>\n",
       "      <td>3</td>\n",
       "    </tr>\n",
       "    <tr>\n",
       "      <th>2367</th>\n",
       "      <td>323b4f3c.jpg</td>\n",
       "      <td>[1564, 2003, 2116, 2307]</td>\n",
       "      <td>USB_Type_C</td>\n",
       "      <td>3</td>\n",
       "    </tr>\n",
       "    <tr>\n",
       "      <th>2368</th>\n",
       "      <td>5f60288f.jpg</td>\n",
       "      <td>[1273, 1816, 2275, 2784]</td>\n",
       "      <td>RJ_45</td>\n",
       "      <td>1</td>\n",
       "    </tr>\n",
       "    <tr>\n",
       "      <th>2369</th>\n",
       "      <td>eaea09d6.jpg</td>\n",
       "      <td>[863, 1838, 1213, 2054]</td>\n",
       "      <td>USB_Micro_B</td>\n",
       "      <td>4</td>\n",
       "    </tr>\n",
       "    <tr>\n",
       "      <th>2370</th>\n",
       "      <td>993bd943.jpg</td>\n",
       "      <td>[1273, 2020, 1622, 2470]</td>\n",
       "      <td>USB_Mini</td>\n",
       "      <td>4</td>\n",
       "    </tr>\n",
       "  </tbody>\n",
       "</table>\n",
       "<p>1896 rows × 4 columns</p>\n",
       "</div>"
      ],
      "text/plain": [
       "          filename       Xmin_Ymin_Xmax_Ymax        class  fold\n",
       "0     2f71963a.jpg   [921, 1510, 1558, 2207]         HDMI     2\n",
       "2     7ac35f30.jpg   [666, 1671, 1990, 2259]         Dock     4\n",
       "3     f6641c06.jpg  [1242, 1753, 1789, 2115]    Lightning     3\n",
       "4     4fdc8d7d.jpg  [1572, 1050, 2231, 1691]  USB_Micro_B     2\n",
       "5     f27f4a62.jpg  [1347, 1841, 1730, 2191]     USB_Mini     3\n",
       "...            ...                       ...          ...   ...\n",
       "2366  f51ca7d8.jpg   [678, 1276, 2088, 2355]   USB_Type_B     3\n",
       "2367  323b4f3c.jpg  [1564, 2003, 2116, 2307]   USB_Type_C     3\n",
       "2368  5f60288f.jpg  [1273, 1816, 2275, 2784]        RJ_45     1\n",
       "2369  eaea09d6.jpg   [863, 1838, 1213, 2054]  USB_Micro_B     4\n",
       "2370  993bd943.jpg  [1273, 2020, 1622, 2470]     USB_Mini     4\n",
       "\n",
       "[1896 rows x 4 columns]"
      ]
     },
     "execution_count": 52,
     "metadata": {},
     "output_type": "execute_result"
    }
   ],
   "source": [
    "folds[folds['fold'] != fold]"
   ]
  },
  {
   "cell_type": "code",
   "execution_count": 66,
   "id": "be7126b7",
   "metadata": {
    "hidden": true
   },
   "outputs": [
    {
     "name": "stdout",
     "output_type": "stream",
     "text": [
      "1896\n"
     ]
    }
   ],
   "source": [
    "# Train id list\n",
    "img_name = []\n",
    "for index, row in folds[folds['fold'] != fold].iterrows():\n",
    "    img_name.append(row['filename'].split(\".\")[0])\n",
    "    \n",
    "print(len(img_name))\n",
    "\n",
    "with open(\"train.txt\", mode='w') as f:\n",
    "    f.writelines('\\n'.join(img_name))"
   ]
  },
  {
   "cell_type": "code",
   "execution_count": 67,
   "id": "8111c9b3",
   "metadata": {
    "hidden": true
   },
   "outputs": [
    {
     "name": "stdout",
     "output_type": "stream",
     "text": [
      "475\n"
     ]
    }
   ],
   "source": [
    "# Valid id list\n",
    "img_name = []\n",
    "for index, row in folds[folds['fold'] == fold].iterrows():\n",
    "    img_name.append(row['filename'].split(\".\")[0])\n",
    "    \n",
    "print(len(img_name))\n",
    "\n",
    "with open(\"val.txt\", mode='w') as f:\n",
    "    f.writelines('\\n'.join(img_name))"
   ]
  },
  {
   "cell_type": "markdown",
   "id": "59c09e4e",
   "metadata": {},
   "source": [
    "# TEST"
   ]
  },
  {
   "cell_type": "code",
   "execution_count": 3,
   "id": "f5a99a56",
   "metadata": {},
   "outputs": [],
   "source": [
    "test = pd.read_csv('../../input/csv/sample_submission.csv')"
   ]
  },
  {
   "cell_type": "code",
   "execution_count": 4,
   "id": "098e0173",
   "metadata": {},
   "outputs": [
    {
     "data": {
      "text/html": [
       "<div>\n",
       "<style scoped>\n",
       "    .dataframe tbody tr th:only-of-type {\n",
       "        vertical-align: middle;\n",
       "    }\n",
       "\n",
       "    .dataframe tbody tr th {\n",
       "        vertical-align: top;\n",
       "    }\n",
       "\n",
       "    .dataframe thead th {\n",
       "        text-align: right;\n",
       "    }\n",
       "</style>\n",
       "<table border=\"1\" class=\"dataframe\">\n",
       "  <thead>\n",
       "    <tr style=\"text-align: right;\">\n",
       "      <th></th>\n",
       "      <th>filename</th>\n",
       "      <th>class</th>\n",
       "    </tr>\n",
       "  </thead>\n",
       "  <tbody>\n",
       "    <tr>\n",
       "      <th>0</th>\n",
       "      <td>997195ba.jpg</td>\n",
       "      <td>USB_Type_C</td>\n",
       "    </tr>\n",
       "    <tr>\n",
       "      <th>1</th>\n",
       "      <td>9f3f263d.jpg</td>\n",
       "      <td>USB_Type_C</td>\n",
       "    </tr>\n",
       "    <tr>\n",
       "      <th>2</th>\n",
       "      <td>1072aa7d.jpg</td>\n",
       "      <td>USB_Type_C</td>\n",
       "    </tr>\n",
       "    <tr>\n",
       "      <th>3</th>\n",
       "      <td>f8047293.jpg</td>\n",
       "      <td>USB_Type_C</td>\n",
       "    </tr>\n",
       "    <tr>\n",
       "      <th>4</th>\n",
       "      <td>3dccb562.jpg</td>\n",
       "      <td>USB_Type_C</td>\n",
       "    </tr>\n",
       "  </tbody>\n",
       "</table>\n",
       "</div>"
      ],
      "text/plain": [
       "       filename       class\n",
       "0  997195ba.jpg  USB_Type_C\n",
       "1  9f3f263d.jpg  USB_Type_C\n",
       "2  1072aa7d.jpg  USB_Type_C\n",
       "3  f8047293.jpg  USB_Type_C\n",
       "4  3dccb562.jpg  USB_Type_C"
      ]
     },
     "execution_count": 4,
     "metadata": {},
     "output_type": "execute_result"
    }
   ],
   "source": [
    "test.head()"
   ]
  },
  {
   "cell_type": "code",
   "execution_count": 7,
   "id": "839f5ab5",
   "metadata": {},
   "outputs": [
    {
     "name": "stdout",
     "output_type": "stream",
     "text": [
      "2200\n"
     ]
    }
   ],
   "source": [
    "img_name = []\n",
    "for index, row in test.iterrows():\n",
    "    img_name.append(row['filename'].split(\".\")[0])\n",
    "    #print(index, row['filename'])\n",
    "    \n",
    "print(len(img_name))\n",
    "\n",
    "with open(\"test.txt\", mode='w') as f:\n",
    "    f.writelines('\\n'.join(img_name))"
   ]
  },
  {
   "cell_type": "code",
   "execution_count": 8,
   "id": "d77f9267",
   "metadata": {},
   "outputs": [
    {
     "name": "stdout",
     "output_type": "stream",
     "text": [
      "EDA.ipynb  csv2voc.ipynb  preprocess.ipynb  test.txt  voc2coco.ipynb\r\n"
     ]
    }
   ],
   "source": [
    "%ls"
   ]
  },
  {
   "cell_type": "markdown",
   "id": "de807944",
   "metadata": {},
   "source": [
    "# Train_all"
   ]
  },
  {
   "cell_type": "code",
   "execution_count": 5,
   "id": "d1131618",
   "metadata": {},
   "outputs": [],
   "source": [
    "train_ori = pd.read_csv('../../input/csv/train.csv')\n",
    "train_add = pd.read_csv('../../input/csv/additional_data.csv')"
   ]
  },
  {
   "cell_type": "code",
   "execution_count": 6,
   "id": "9dad07ec",
   "metadata": {},
   "outputs": [],
   "source": [
    "train_concat = pd.concat([train_ori, train_add], axis=0)"
   ]
  },
  {
   "cell_type": "code",
   "execution_count": 7,
   "id": "a5767e99",
   "metadata": {
    "scrolled": true
   },
   "outputs": [
    {
     "data": {
      "text/html": [
       "<div>\n",
       "<style scoped>\n",
       "    .dataframe tbody tr th:only-of-type {\n",
       "        vertical-align: middle;\n",
       "    }\n",
       "\n",
       "    .dataframe tbody tr th {\n",
       "        vertical-align: top;\n",
       "    }\n",
       "\n",
       "    .dataframe thead th {\n",
       "        text-align: right;\n",
       "    }\n",
       "</style>\n",
       "<table border=\"1\" class=\"dataframe\">\n",
       "  <thead>\n",
       "    <tr style=\"text-align: right;\">\n",
       "      <th></th>\n",
       "      <th>filename</th>\n",
       "      <th>Xmin_Ymin_Xmax_Ymax</th>\n",
       "      <th>class</th>\n",
       "      <th>filename_trim</th>\n",
       "    </tr>\n",
       "  </thead>\n",
       "  <tbody>\n",
       "    <tr>\n",
       "      <th>0</th>\n",
       "      <td>2f71963a.jpg</td>\n",
       "      <td>[921, 1510, 1558, 2207]</td>\n",
       "      <td>HDMI</td>\n",
       "      <td>NaN</td>\n",
       "    </tr>\n",
       "    <tr>\n",
       "      <th>1</th>\n",
       "      <td>8cdf4bda.jpg</td>\n",
       "      <td>[1442, 1525, 1722, 2000]</td>\n",
       "      <td>USB_Mini</td>\n",
       "      <td>NaN</td>\n",
       "    </tr>\n",
       "    <tr>\n",
       "      <th>2</th>\n",
       "      <td>7ac35f30.jpg</td>\n",
       "      <td>[666, 1671, 1990, 2259]</td>\n",
       "      <td>Dock</td>\n",
       "      <td>NaN</td>\n",
       "    </tr>\n",
       "    <tr>\n",
       "      <th>3</th>\n",
       "      <td>f6641c06.jpg</td>\n",
       "      <td>[1242, 1753, 1789, 2115]</td>\n",
       "      <td>Lightning</td>\n",
       "      <td>NaN</td>\n",
       "    </tr>\n",
       "    <tr>\n",
       "      <th>4</th>\n",
       "      <td>4fdc8d7d.jpg</td>\n",
       "      <td>[1572, 1050, 2231, 1691]</td>\n",
       "      <td>USB_Micro_B</td>\n",
       "      <td>NaN</td>\n",
       "    </tr>\n",
       "    <tr>\n",
       "      <th>...</th>\n",
       "      <td>...</td>\n",
       "      <td>...</td>\n",
       "      <td>...</td>\n",
       "      <td>...</td>\n",
       "    </tr>\n",
       "    <tr>\n",
       "      <th>1643</th>\n",
       "      <td>1a42d526.jpg</td>\n",
       "      <td>NaN</td>\n",
       "      <td>Lightning</td>\n",
       "      <td>1a42d526_trim.jpg</td>\n",
       "    </tr>\n",
       "    <tr>\n",
       "      <th>1644</th>\n",
       "      <td>6b3c238e.jpg</td>\n",
       "      <td>NaN</td>\n",
       "      <td>USB_Type_C</td>\n",
       "      <td>6b3c238e_trim.jpg</td>\n",
       "    </tr>\n",
       "    <tr>\n",
       "      <th>1645</th>\n",
       "      <td>587a4905.jpg</td>\n",
       "      <td>NaN</td>\n",
       "      <td>USB_Mini</td>\n",
       "      <td>587a4905_trim.jpg</td>\n",
       "    </tr>\n",
       "    <tr>\n",
       "      <th>1646</th>\n",
       "      <td>ae600959.jpg</td>\n",
       "      <td>NaN</td>\n",
       "      <td>USB_Type_C</td>\n",
       "      <td>ae600959_trim.jpg</td>\n",
       "    </tr>\n",
       "    <tr>\n",
       "      <th>1647</th>\n",
       "      <td>6a175db8.jpg</td>\n",
       "      <td>NaN</td>\n",
       "      <td>Mini_DisplayPort</td>\n",
       "      <td>6a175db8_trim.jpg</td>\n",
       "    </tr>\n",
       "  </tbody>\n",
       "</table>\n",
       "<p>4019 rows × 4 columns</p>\n",
       "</div>"
      ],
      "text/plain": [
       "          filename       Xmin_Ymin_Xmax_Ymax             class  \\\n",
       "0     2f71963a.jpg   [921, 1510, 1558, 2207]              HDMI   \n",
       "1     8cdf4bda.jpg  [1442, 1525, 1722, 2000]          USB_Mini   \n",
       "2     7ac35f30.jpg   [666, 1671, 1990, 2259]              Dock   \n",
       "3     f6641c06.jpg  [1242, 1753, 1789, 2115]         Lightning   \n",
       "4     4fdc8d7d.jpg  [1572, 1050, 2231, 1691]       USB_Micro_B   \n",
       "...            ...                       ...               ...   \n",
       "1643  1a42d526.jpg                       NaN         Lightning   \n",
       "1644  6b3c238e.jpg                       NaN        USB_Type_C   \n",
       "1645  587a4905.jpg                       NaN          USB_Mini   \n",
       "1646  ae600959.jpg                       NaN        USB_Type_C   \n",
       "1647  6a175db8.jpg                       NaN  Mini_DisplayPort   \n",
       "\n",
       "          filename_trim  \n",
       "0                   NaN  \n",
       "1                   NaN  \n",
       "2                   NaN  \n",
       "3                   NaN  \n",
       "4                   NaN  \n",
       "...                 ...  \n",
       "1643  1a42d526_trim.jpg  \n",
       "1644  6b3c238e_trim.jpg  \n",
       "1645  587a4905_trim.jpg  \n",
       "1646  ae600959_trim.jpg  \n",
       "1647  6a175db8_trim.jpg  \n",
       "\n",
       "[4019 rows x 4 columns]"
      ]
     },
     "execution_count": 7,
     "metadata": {},
     "output_type": "execute_result"
    }
   ],
   "source": [
    "train_concat"
   ]
  },
  {
   "cell_type": "code",
   "execution_count": 8,
   "id": "46df48af",
   "metadata": {},
   "outputs": [
    {
     "name": "stdout",
     "output_type": "stream",
     "text": [
      "4019\n"
     ]
    }
   ],
   "source": [
    "img_name = []\n",
    "for index, row in train_ori.iterrows():\n",
    "    img_name.append(row['filename'].split(\".\")[0])\n",
    "    #print(index, row['filename'])\n",
    "\n",
    "for index, row in train_add.iterrows():\n",
    "    img_name.append(row['filename'].split(\".\")[0])\n",
    "    #print(index, row['filename'])\n",
    "    \n",
    "print(len(img_name))\n",
    "\n",
    "with open(\"train_all.txt\", mode='w') as f:\n",
    "    f.writelines('\\n'.join(img_name))"
   ]
  },
  {
   "cell_type": "code",
   "execution_count": null,
   "id": "da3bdebc",
   "metadata": {},
   "outputs": [],
   "source": []
  }
 ],
 "metadata": {
  "kernelspec": {
   "display_name": "Python 3",
   "language": "python",
   "name": "python3"
  },
  "language_info": {
   "codemirror_mode": {
    "name": "ipython",
    "version": 3
   },
   "file_extension": ".py",
   "mimetype": "text/x-python",
   "name": "python",
   "nbconvert_exporter": "python",
   "pygments_lexer": "ipython3",
   "version": "3.8.11"
  }
 },
 "nbformat": 4,
 "nbformat_minor": 5
}
