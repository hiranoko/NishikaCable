{
 "cells": [
  {
   "cell_type": "code",
   "execution_count": 1,
   "id": "eb9d01e2",
   "metadata": {
    "code_folding": [
     0
    ]
   },
   "outputs": [],
   "source": [
    "# modules\n",
    "\n",
    "import glob\n",
    "import os\n",
    "from typing import List, Optional\n",
    "\n",
    "import matplotlib\n",
    "import matplotlib.pyplot as plt\n",
    "import seaborn as sns\n",
    "import scipy\n",
    "import pandas as pd\n",
    "from tqdm import tqdm\n",
    "\n",
    "pd.options.display.float_format = '{:.2f}'.format\n",
    "%matplotlib inline"
   ]
  },
  {
   "cell_type": "code",
   "execution_count": 3,
   "id": "2ed094a5",
   "metadata": {},
   "outputs": [],
   "source": [
    "class Folder:\n",
    "    ROOT: str = '/home/hirano/work/Competition/Nishika_cable/'\n",
    "    CSV: str = f'{ROOT}/input/csv'\n",
    "    IMAGES: str = f'{ROOT}/input/train' \n",
    "\n",
    "# カレントディレクトリを変更する\n",
    "os.chdir(Folder.ROOT)"
   ]
  },
  {
   "cell_type": "code",
   "execution_count": 5,
   "id": "a74329d0",
   "metadata": {},
   "outputs": [],
   "source": [
    "csv_files = glob.glob(os.path.join(Folder.CSV, '*.csv'))\n",
    "assert len(csv_files) != 0"
   ]
  },
  {
   "cell_type": "code",
   "execution_count": 6,
   "id": "818d089f",
   "metadata": {},
   "outputs": [
    {
     "name": "stdout",
     "output_type": "stream",
     "text": [
      "jpg ファイルは 2371 個\n"
     ]
    },
    {
     "data": {
      "text/plain": [
       "['/home/hirano/work/Competition/Nishika_cable//input/train/000c15d0.jpg',\n",
       " '/home/hirano/work/Competition/Nishika_cable//input/train/0013fa17.jpg',\n",
       " '/home/hirano/work/Competition/Nishika_cable//input/train/00150bc1.jpg',\n",
       " '/home/hirano/work/Competition/Nishika_cable//input/train/00476816.jpg',\n",
       " '/home/hirano/work/Competition/Nishika_cable//input/train/004c5505.jpg',\n",
       " '/home/hirano/work/Competition/Nishika_cable//input/train/005fc418.jpg',\n",
       " '/home/hirano/work/Competition/Nishika_cable//input/train/007d45c8.jpg',\n",
       " '/home/hirano/work/Competition/Nishika_cable//input/train/00a4d448.jpg',\n",
       " '/home/hirano/work/Competition/Nishika_cable//input/train/00b8f2fd.jpg',\n",
       " '/home/hirano/work/Competition/Nishika_cable//input/train/00f3ca2e.jpg']"
      ]
     },
     "execution_count": 6,
     "metadata": {},
     "output_type": "execute_result"
    }
   ],
   "source": [
    "jpg_files = sorted(glob.glob(os.path.join(Folder.IMAGES, '*.jpg')))\n",
    "print(f'jpg ファイルは {len(jpg_files)} 個')\n",
    "jpg_files[:10]  # ファイル数が半端ではないので表示するのはごく一部"
   ]
  },
  {
   "cell_type": "code",
   "execution_count": 7,
   "id": "334ef991",
   "metadata": {
    "code_folding": [
     0
    ]
   },
   "outputs": [],
   "source": [
    "def get_size_channel(jpg_file: str) -> List[int]:\n",
    "    '''画像の高さ、幅、チャネル数を取得する。\n",
    "\n",
    "    Parameters\n",
    "    ----------\n",
    "    jpg_file: str\n",
    "        画像のファイルパス。\n",
    "\n",
    "    Returns\n",
    "    -------\n",
    "    size_channel_info: List[int], length = 3\n",
    "        [高さ, 幅, チャネル数]\n",
    "    '''\n",
    "    img = plt.imread(jpg_file)\n",
    "    return [\n",
    "        img.shape[0],  # 高さ\n",
    "        img.shape[1],  # 幅\n",
    "        1 if img.ndim < 3 else img.shape[2]  # チャネル数\n",
    "    ]"
   ]
  },
  {
   "cell_type": "code",
   "execution_count": 8,
   "id": "27cc3079",
   "metadata": {},
   "outputs": [
    {
     "name": "stderr",
     "output_type": "stream",
     "text": [
      "100%|██████████| 2371/2371 [06:01<00:00,  6.56it/s]\n"
     ]
    }
   ],
   "source": [
    "size_channel_info = []\n",
    "for jpg_file in tqdm(jpg_files):\n",
    "    img = plt.imread(jpg_file)\n",
    "    # グレースケールではないこと\n",
    "    assert(img.ndim == 3)\n",
    "    size_channel_info.append([img.shape[0],  # 高さ\n",
    "                              img.shape[1],  # 幅\n",
    "                              img.shape[2]   # チャネル数\n",
    "                              ])"
   ]
  },
  {
   "cell_type": "code",
   "execution_count": 9,
   "id": "45013098",
   "metadata": {},
   "outputs": [
    {
     "data": {
      "text/html": [
       "<div>\n",
       "<style scoped>\n",
       "    .dataframe tbody tr th:only-of-type {\n",
       "        vertical-align: middle;\n",
       "    }\n",
       "\n",
       "    .dataframe tbody tr th {\n",
       "        vertical-align: top;\n",
       "    }\n",
       "\n",
       "    .dataframe thead th {\n",
       "        text-align: right;\n",
       "    }\n",
       "</style>\n",
       "<table border=\"1\" class=\"dataframe\">\n",
       "  <thead>\n",
       "    <tr style=\"text-align: right;\">\n",
       "      <th></th>\n",
       "      <th>height</th>\n",
       "      <th>width</th>\n",
       "      <th>num_channels</th>\n",
       "    </tr>\n",
       "  </thead>\n",
       "  <tbody>\n",
       "    <tr>\n",
       "      <th>count</th>\n",
       "      <td>2371.00</td>\n",
       "      <td>2371.00</td>\n",
       "      <td>2371.00</td>\n",
       "    </tr>\n",
       "    <tr>\n",
       "      <th>mean</th>\n",
       "      <td>2936.50</td>\n",
       "      <td>3801.90</td>\n",
       "      <td>3.00</td>\n",
       "    </tr>\n",
       "    <tr>\n",
       "      <th>std</th>\n",
       "      <td>621.78</td>\n",
       "      <td>782.04</td>\n",
       "      <td>0.00</td>\n",
       "    </tr>\n",
       "    <tr>\n",
       "      <th>min</th>\n",
       "      <td>321.00</td>\n",
       "      <td>347.00</td>\n",
       "      <td>3.00</td>\n",
       "    </tr>\n",
       "    <tr>\n",
       "      <th>25%</th>\n",
       "      <td>3024.00</td>\n",
       "      <td>4000.00</td>\n",
       "      <td>3.00</td>\n",
       "    </tr>\n",
       "    <tr>\n",
       "      <th>50%</th>\n",
       "      <td>3024.00</td>\n",
       "      <td>4032.00</td>\n",
       "      <td>3.00</td>\n",
       "    </tr>\n",
       "    <tr>\n",
       "      <th>75%</th>\n",
       "      <td>3024.00</td>\n",
       "      <td>4032.00</td>\n",
       "      <td>3.00</td>\n",
       "    </tr>\n",
       "    <tr>\n",
       "      <th>max</th>\n",
       "      <td>5632.00</td>\n",
       "      <td>5984.00</td>\n",
       "      <td>3.00</td>\n",
       "    </tr>\n",
       "  </tbody>\n",
       "</table>\n",
       "</div>"
      ],
      "text/plain": [
       "       height   width  num_channels\n",
       "count 2371.00 2371.00       2371.00\n",
       "mean  2936.50 3801.90          3.00\n",
       "std    621.78  782.04          0.00\n",
       "min    321.00  347.00          3.00\n",
       "25%   3024.00 4000.00          3.00\n",
       "50%   3024.00 4032.00          3.00\n",
       "75%   3024.00 4032.00          3.00\n",
       "max   5632.00 5984.00          3.00"
      ]
     },
     "execution_count": 9,
     "metadata": {},
     "output_type": "execute_result"
    }
   ],
   "source": [
    "df_size_channel = pd.DataFrame(data=size_channel_info,\n",
    "                               columns=['height', 'width', 'num_channels'])\n",
    "df_size_channel['filename'] = jpg_files\n",
    "df_size_channel.describe()"
   ]
  },
  {
   "cell_type": "code",
   "execution_count": 10,
   "id": "f08ce811",
   "metadata": {},
   "outputs": [
    {
     "data": {
      "image/png": "[encoded data removed]",
      "text/plain": [
       "<Figure size 864x324 with 2 Axes>"
      ]
     },
     "metadata": {
      "needs_background": "light"
     },
     "output_type": "display_data"
    }
   ],
   "source": [
    "figure = plt.figure(figsize=(12, 4.5))\n",
    "for i, column in enumerate(['height', 'width']):\n",
    "    ax = plt.subplot(1, 2, i + 1)\n",
    "    ax.set_title(column)\n",
    "    sns.histplot(data=df_size_channel, x=column, bins=12)\n",
    "    sns.despine()"
   ]
  },
  {
   "cell_type": "code",
   "execution_count": 11,
   "id": "e5b4bc42",
   "metadata": {},
   "outputs": [],
   "source": [
    "train = pd.read_csv(os.path.join(Folder.CSV, 'train.csv'))\n",
    "train_add = pd.read_csv(os.path.join(Folder.CSV, 'additional_data.csv'))"
   ]
  },
  {
   "cell_type": "code",
   "execution_count": 12,
   "id": "b9d843f0",
   "metadata": {},
   "outputs": [
    {
     "data": {
      "text/html": [
       "<div>\n",
       "<style scoped>\n",
       "    .dataframe tbody tr th:only-of-type {\n",
       "        vertical-align: middle;\n",
       "    }\n",
       "\n",
       "    .dataframe tbody tr th {\n",
       "        vertical-align: top;\n",
       "    }\n",
       "\n",
       "    .dataframe thead th {\n",
       "        text-align: right;\n",
       "    }\n",
       "</style>\n",
       "<table border=\"1\" class=\"dataframe\">\n",
       "  <thead>\n",
       "    <tr style=\"text-align: right;\">\n",
       "      <th></th>\n",
       "      <th>filename</th>\n",
       "      <th>Xmin_Ymin_Xmax_Ymax</th>\n",
       "      <th>class</th>\n",
       "    </tr>\n",
       "  </thead>\n",
       "  <tbody>\n",
       "    <tr>\n",
       "      <th>0</th>\n",
       "      <td>2f71963a.jpg</td>\n",
       "      <td>[921, 1510, 1558, 2207]</td>\n",
       "      <td>HDMI</td>\n",
       "    </tr>\n",
       "    <tr>\n",
       "      <th>1</th>\n",
       "      <td>8cdf4bda.jpg</td>\n",
       "      <td>[1442, 1525, 1722, 2000]</td>\n",
       "      <td>USB_Mini</td>\n",
       "    </tr>\n",
       "    <tr>\n",
       "      <th>2</th>\n",
       "      <td>7ac35f30.jpg</td>\n",
       "      <td>[666, 1671, 1990, 2259]</td>\n",
       "      <td>Dock</td>\n",
       "    </tr>\n",
       "    <tr>\n",
       "      <th>3</th>\n",
       "      <td>f6641c06.jpg</td>\n",
       "      <td>[1242, 1753, 1789, 2115]</td>\n",
       "      <td>Lightning</td>\n",
       "    </tr>\n",
       "    <tr>\n",
       "      <th>4</th>\n",
       "      <td>4fdc8d7d.jpg</td>\n",
       "      <td>[1572, 1050, 2231, 1691]</td>\n",
       "      <td>USB_Micro_B</td>\n",
       "    </tr>\n",
       "  </tbody>\n",
       "</table>\n",
       "</div>"
      ],
      "text/plain": [
       "       filename       Xmin_Ymin_Xmax_Ymax        class\n",
       "0  2f71963a.jpg   [921, 1510, 1558, 2207]         HDMI\n",
       "1  8cdf4bda.jpg  [1442, 1525, 1722, 2000]     USB_Mini\n",
       "2  7ac35f30.jpg   [666, 1671, 1990, 2259]         Dock\n",
       "3  f6641c06.jpg  [1242, 1753, 1789, 2115]    Lightning\n",
       "4  4fdc8d7d.jpg  [1572, 1050, 2231, 1691]  USB_Micro_B"
      ]
     },
     "execution_count": 12,
     "metadata": {},
     "output_type": "execute_result"
    }
   ],
   "source": [
    "train.head()"
   ]
  },
  {
   "cell_type": "code",
   "execution_count": 13,
   "id": "31aa838b",
   "metadata": {},
   "outputs": [
    {
     "data": {
      "text/html": [
       "<div>\n",
       "<style scoped>\n",
       "    .dataframe tbody tr th:only-of-type {\n",
       "        vertical-align: middle;\n",
       "    }\n",
       "\n",
       "    .dataframe tbody tr th {\n",
       "        vertical-align: top;\n",
       "    }\n",
       "\n",
       "    .dataframe thead th {\n",
       "        text-align: right;\n",
       "    }\n",
       "</style>\n",
       "<table border=\"1\" class=\"dataframe\">\n",
       "  <thead>\n",
       "    <tr style=\"text-align: right;\">\n",
       "      <th></th>\n",
       "      <th>filename</th>\n",
       "      <th>filename_trim</th>\n",
       "      <th>class</th>\n",
       "    </tr>\n",
       "  </thead>\n",
       "  <tbody>\n",
       "    <tr>\n",
       "      <th>0</th>\n",
       "      <td>172e1676.jpg</td>\n",
       "      <td>172e1676_trim.jpg</td>\n",
       "      <td>USB_Micro_B_W</td>\n",
       "    </tr>\n",
       "    <tr>\n",
       "      <th>1</th>\n",
       "      <td>2ed927e9.jpg</td>\n",
       "      <td>2ed927e9_trim.jpg</td>\n",
       "      <td>USB_Mini</td>\n",
       "    </tr>\n",
       "    <tr>\n",
       "      <th>2</th>\n",
       "      <td>d62e1c29.jpg</td>\n",
       "      <td>d62e1c29_trim.jpg</td>\n",
       "      <td>HDMI</td>\n",
       "    </tr>\n",
       "    <tr>\n",
       "      <th>3</th>\n",
       "      <td>e0ccc43c.jpg</td>\n",
       "      <td>e0ccc43c_trim.jpg</td>\n",
       "      <td>VGA</td>\n",
       "    </tr>\n",
       "    <tr>\n",
       "      <th>4</th>\n",
       "      <td>d6a40317.jpg</td>\n",
       "      <td>d6a40317_trim.jpg</td>\n",
       "      <td>Lightning_T</td>\n",
       "    </tr>\n",
       "  </tbody>\n",
       "</table>\n",
       "</div>"
      ],
      "text/plain": [
       "       filename      filename_trim          class\n",
       "0  172e1676.jpg  172e1676_trim.jpg  USB_Micro_B_W\n",
       "1  2ed927e9.jpg  2ed927e9_trim.jpg       USB_Mini\n",
       "2  d62e1c29.jpg  d62e1c29_trim.jpg           HDMI\n",
       "3  e0ccc43c.jpg  e0ccc43c_trim.jpg            VGA\n",
       "4  d6a40317.jpg  d6a40317_trim.jpg    Lightning_T"
      ]
     },
     "execution_count": 13,
     "metadata": {},
     "output_type": "execute_result"
    }
   ],
   "source": [
    "train_add.head()"
   ]
  },
  {
   "cell_type": "code",
   "execution_count": 14,
   "id": "8c0bc66a",
   "metadata": {},
   "outputs": [
    {
     "name": "stdout",
     "output_type": "stream",
     "text": [
      "<class 'pandas.core.frame.DataFrame'>\n",
      "RangeIndex: 2371 entries, 0 to 2370\n",
      "Data columns (total 3 columns):\n",
      " #   Column               Non-Null Count  Dtype \n",
      "---  ------               --------------  ----- \n",
      " 0   filename             2371 non-null   object\n",
      " 1   Xmin_Ymin_Xmax_Ymax  2371 non-null   object\n",
      " 2   class                2371 non-null   object\n",
      "dtypes: object(3)\n",
      "memory usage: 55.7+ KB\n",
      "None\n"
     ]
    }
   ],
   "source": [
    "print(train.info())"
   ]
  },
  {
   "cell_type": "code",
   "execution_count": 55,
   "id": "2f56c85a",
   "metadata": {},
   "outputs": [
    {
     "name": "stdout",
     "output_type": "stream",
     "text": [
      "<class 'pandas.core.frame.DataFrame'>\n",
      "RangeIndex: 1648 entries, 0 to 1647\n",
      "Data columns (total 3 columns):\n",
      " #   Column         Non-Null Count  Dtype \n",
      "---  ------         --------------  ----- \n",
      " 0   filename       1648 non-null   object\n",
      " 1   filename_trim  1648 non-null   object\n",
      " 2   class          1648 non-null   object\n",
      "dtypes: object(3)\n",
      "memory usage: 38.8+ KB\n",
      "None\n"
     ]
    }
   ],
   "source": [
    "print(train_add.info())"
   ]
  },
  {
   "cell_type": "code",
   "execution_count": 15,
   "id": "ee0eb0ae",
   "metadata": {},
   "outputs": [
    {
     "data": {
      "image/png": "[encoded data removed]",
      "text/plain": [
       "<Figure size 396x396 with 1 Axes>"
      ]
     },
     "metadata": {
      "needs_background": "light"
     },
     "output_type": "display_data"
    }
   ],
   "source": [
    "figure = plt.figure(figsize=(5.5, 5.5))\n",
    "ax = sns.countplot(data=train, y='class')\n",
    "ax.set_title('Count row by `name`')\n",
    "sns.despine()"
   ]
  },
  {
   "cell_type": "code",
   "execution_count": 16,
   "id": "ffe7bb57",
   "metadata": {},
   "outputs": [
    {
     "data": {
      "image/png": "[encoded data removed]",
      "text/plain": [
       "<Figure size 396x396 with 1 Axes>"
      ]
     },
     "metadata": {
      "needs_background": "light"
     },
     "output_type": "display_data"
    }
   ],
   "source": [
    "figure = plt.figure(figsize=(5.5, 5.5))\n",
    "ax = sns.countplot(data=train_add, y='class')\n",
    "ax.set_title('Count row by `name`')\n",
    "sns.despine()"
   ]
  },
  {
   "cell_type": "code",
   "execution_count": 17,
   "id": "2d3a6053",
   "metadata": {},
   "outputs": [],
   "source": [
    "df_concat = pd.concat([train, train_add], axis=0)"
   ]
  },
  {
   "cell_type": "code",
   "execution_count": 18,
   "id": "4381c10b",
   "metadata": {},
   "outputs": [
    {
     "data": {
      "text/html": [
       "<div>\n",
       "<style scoped>\n",
       "    .dataframe tbody tr th:only-of-type {\n",
       "        vertical-align: middle;\n",
       "    }\n",
       "\n",
       "    .dataframe tbody tr th {\n",
       "        vertical-align: top;\n",
       "    }\n",
       "\n",
       "    .dataframe thead th {\n",
       "        text-align: right;\n",
       "    }\n",
       "</style>\n",
       "<table border=\"1\" class=\"dataframe\">\n",
       "  <thead>\n",
       "    <tr style=\"text-align: right;\">\n",
       "      <th></th>\n",
       "      <th>filename</th>\n",
       "      <th>Xmin_Ymin_Xmax_Ymax</th>\n",
       "      <th>class</th>\n",
       "      <th>filename_trim</th>\n",
       "    </tr>\n",
       "  </thead>\n",
       "  <tbody>\n",
       "    <tr>\n",
       "      <th>0</th>\n",
       "      <td>2f71963a.jpg</td>\n",
       "      <td>[921, 1510, 1558, 2207]</td>\n",
       "      <td>HDMI</td>\n",
       "      <td>NaN</td>\n",
       "    </tr>\n",
       "    <tr>\n",
       "      <th>1</th>\n",
       "      <td>8cdf4bda.jpg</td>\n",
       "      <td>[1442, 1525, 1722, 2000]</td>\n",
       "      <td>USB_Mini</td>\n",
       "      <td>NaN</td>\n",
       "    </tr>\n",
       "    <tr>\n",
       "      <th>2</th>\n",
       "      <td>7ac35f30.jpg</td>\n",
       "      <td>[666, 1671, 1990, 2259]</td>\n",
       "      <td>Dock</td>\n",
       "      <td>NaN</td>\n",
       "    </tr>\n",
       "    <tr>\n",
       "      <th>3</th>\n",
       "      <td>f6641c06.jpg</td>\n",
       "      <td>[1242, 1753, 1789, 2115]</td>\n",
       "      <td>Lightning</td>\n",
       "      <td>NaN</td>\n",
       "    </tr>\n",
       "    <tr>\n",
       "      <th>4</th>\n",
       "      <td>4fdc8d7d.jpg</td>\n",
       "      <td>[1572, 1050, 2231, 1691]</td>\n",
       "      <td>USB_Micro_B</td>\n",
       "      <td>NaN</td>\n",
       "    </tr>\n",
       "    <tr>\n",
       "      <th>...</th>\n",
       "      <td>...</td>\n",
       "      <td>...</td>\n",
       "      <td>...</td>\n",
       "      <td>...</td>\n",
       "    </tr>\n",
       "    <tr>\n",
       "      <th>1643</th>\n",
       "      <td>1a42d526.jpg</td>\n",
       "      <td>NaN</td>\n",
       "      <td>Lightning</td>\n",
       "      <td>1a42d526_trim.jpg</td>\n",
       "    </tr>\n",
       "    <tr>\n",
       "      <th>1644</th>\n",
       "      <td>6b3c238e.jpg</td>\n",
       "      <td>NaN</td>\n",
       "      <td>USB_Type_C</td>\n",
       "      <td>6b3c238e_trim.jpg</td>\n",
       "    </tr>\n",
       "    <tr>\n",
       "      <th>1645</th>\n",
       "      <td>587a4905.jpg</td>\n",
       "      <td>NaN</td>\n",
       "      <td>USB_Mini</td>\n",
       "      <td>587a4905_trim.jpg</td>\n",
       "    </tr>\n",
       "    <tr>\n",
       "      <th>1646</th>\n",
       "      <td>ae600959.jpg</td>\n",
       "      <td>NaN</td>\n",
       "      <td>USB_Type_C</td>\n",
       "      <td>ae600959_trim.jpg</td>\n",
       "    </tr>\n",
       "    <tr>\n",
       "      <th>1647</th>\n",
       "      <td>6a175db8.jpg</td>\n",
       "      <td>NaN</td>\n",
       "      <td>Mini_DisplayPort</td>\n",
       "      <td>6a175db8_trim.jpg</td>\n",
       "    </tr>\n",
       "  </tbody>\n",
       "</table>\n",
       "<p>4019 rows × 4 columns</p>\n",
       "</div>"
      ],
      "text/plain": [
       "          filename       Xmin_Ymin_Xmax_Ymax             class  \\\n",
       "0     2f71963a.jpg   [921, 1510, 1558, 2207]              HDMI   \n",
       "1     8cdf4bda.jpg  [1442, 1525, 1722, 2000]          USB_Mini   \n",
       "2     7ac35f30.jpg   [666, 1671, 1990, 2259]              Dock   \n",
       "3     f6641c06.jpg  [1242, 1753, 1789, 2115]         Lightning   \n",
       "4     4fdc8d7d.jpg  [1572, 1050, 2231, 1691]       USB_Micro_B   \n",
       "...            ...                       ...               ...   \n",
       "1643  1a42d526.jpg                       NaN         Lightning   \n",
       "1644  6b3c238e.jpg                       NaN        USB_Type_C   \n",
       "1645  587a4905.jpg                       NaN          USB_Mini   \n",
       "1646  ae600959.jpg                       NaN        USB_Type_C   \n",
       "1647  6a175db8.jpg                       NaN  Mini_DisplayPort   \n",
       "\n",
       "          filename_trim  \n",
       "0                   NaN  \n",
       "1                   NaN  \n",
       "2                   NaN  \n",
       "3                   NaN  \n",
       "4                   NaN  \n",
       "...                 ...  \n",
       "1643  1a42d526_trim.jpg  \n",
       "1644  6b3c238e_trim.jpg  \n",
       "1645  587a4905_trim.jpg  \n",
       "1646  ae600959_trim.jpg  \n",
       "1647  6a175db8_trim.jpg  \n",
       "\n",
       "[4019 rows x 4 columns]"
      ]
     },
     "execution_count": 18,
     "metadata": {},
     "output_type": "execute_result"
    }
   ],
   "source": [
    "df_concat"
   ]
  },
  {
   "cell_type": "code",
   "execution_count": 19,
   "id": "4a864fcd",
   "metadata": {},
   "outputs": [
    {
     "data": {
      "image/png": "[encoded data removed]",
      "text/plain": [
       "<Figure size 396x396 with 1 Axes>"
      ]
     },
     "metadata": {
      "needs_background": "light"
     },
     "output_type": "display_data"
    }
   ],
   "source": [
    "figure = plt.figure(figsize=(5.5, 5.5))\n",
    "ax = sns.countplot(data=df_concat, y='class')\n",
    "ax.set_title('Count row by `name`')\n",
    "sns.despine()"
   ]
  },
  {
   "cell_type": "code",
   "execution_count": 20,
   "id": "84bcb571",
   "metadata": {
    "scrolled": true
   },
   "outputs": [
    {
     "data": {
      "text/plain": [
       "array(['HDMI', 'USB_Mini', 'Dock', 'Lightning', 'USB_Micro_B',\n",
       "       'Mini_DisplayPort', 'RJ_45', 'USB_Type_A', 'USB_Type_C',\n",
       "       'USB_Micro_B_3.1', 'USB_Type_B', 'Lightning_T', 'USB_Micro_B_W',\n",
       "       'VGA', 'DisplayPort'], dtype=object)"
      ]
     },
     "execution_count": 20,
     "metadata": {},
     "output_type": "execute_result"
    }
   ],
   "source": [
    "df_concat['class'].unique()"
   ]
  },
  {
   "cell_type": "code",
   "execution_count": null,
   "id": "b8617b26",
   "metadata": {},
   "outputs": [],
   "source": []
  }
 ],
 "metadata": {
  "kernelspec": {
   "display_name": "Python 3",
   "language": "python",
   "name": "python3"
  },
  "language_info": {
   "codemirror_mode": {
    "name": "ipython",
    "version": 3
   },
   "file_extension": ".py",
   "mimetype": "text/x-python",
   "name": "python",
   "nbconvert_exporter": "python",
   "pygments_lexer": "ipython3",
   "version": "3.8.11"
  },
  "toc": {
   "base_numbering": 1,
   "nav_menu": {},
   "number_sections": true,
   "sideBar": true,
   "skip_h1_title": false,
   "title_cell": "Table of Contents",
   "title_sidebar": "Contents",
   "toc_cell": false,
   "toc_position": {},
   "toc_section_display": true,
   "toc_window_display": false
  }
 },
 "nbformat": 4,
 "nbformat_minor": 5
}
