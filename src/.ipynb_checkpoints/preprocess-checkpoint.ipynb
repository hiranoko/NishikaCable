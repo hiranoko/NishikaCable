{
 "cells": [
  {
   "cell_type": "code",
   "execution_count": 1,
   "id": "826ca641",
   "metadata": {},
   "outputs": [],
   "source": [
    "import os\n",
    "import numpy as np\n",
    "import pandas as pd\n",
    "from pathlib import Path\n",
    "import shutil\n",
    "\n",
    "from  sklearn.model_selection  import StratifiedGroupKFold"
   ]
  },
  {
   "cell_type": "code",
   "execution_count": 7,
   "id": "f63fbe59",
   "metadata": {},
   "outputs": [],
   "source": [
    "input_dir = Path('../input')\n",
    "img_dir = input_dir / 'photos'\n",
    "img_dir_dino = input_dir / 'photos_ssl' / 'train_test'"
   ]
  },
  {
   "cell_type": "code",
   "execution_count": 72,
   "id": "5620f0b3",
   "metadata": {},
   "outputs": [],
   "source": [
    "#---------------------------------------#\n",
    "# make input dir. for DINO pretraineing.\n",
    "os.makedirs(img_dir_dino, exist_ok=True)"
   ]
  },
  {
   "cell_type": "code",
   "execution_count": 73,
   "id": "5b29926a",
   "metadata": {},
   "outputs": [],
   "source": [
    "#---------------------------------------#\n",
    "# copy photos/*.jpg files to phtos_ssl/train_test/. \n",
    "img_list = os.listdir(img_dir)\n",
    "for from_name in img_list:\n",
    "    to_name = from_name\n",
    "    shutil.copy(img_dir / from_name, img_dir_dino / to_name)"
   ]
  },
  {
   "cell_type": "code",
   "execution_count": 74,
   "id": "a97aab86",
   "metadata": {},
   "outputs": [],
   "source": [
    "#---------------------------------------#\n",
    "# make fold data.\n",
    "train = pd.read_csv(input_dir / 'train.csv')\n",
    "test = pd.read_csv(input_dir / 'test.csv')"
   ]
  },
  {
   "cell_type": "code",
   "execution_count": 75,
   "id": "d9657a2a",
   "metadata": {},
   "outputs": [],
   "source": [
    "skf = StratifiedGroupKFold(n_splits=5, random_state=1111, shuffle=True)\n",
    "splits = skf.split(np.arange(len(train)), y=train.sorting_date.values, groups=train.art_series_id.values)\n",
    "train[\"fold\"] = -1"
   ]
  },
  {
   "cell_type": "code",
   "execution_count": 76,
   "id": "80c69463",
   "metadata": {
    "scrolled": true
   },
   "outputs": [
    {
     "name": "stderr",
     "output_type": "stream",
     "text": [
      "/home/hirano/anaconda3/envs/Atma11/lib/python3.8/site-packages/sklearn/model_selection/_split.py:876: UserWarning: The least populated class in y has only 1 members, which is less than n_splits=5.\n",
      "  warnings.warn(\n"
     ]
    }
   ],
   "source": [
    "for fold, (train_set, val_set) in enumerate(splits):\n",
    "    train.loc[train.index[val_set], \"fold\"] = fold"
   ]
  },
  {
   "cell_type": "code",
   "execution_count": 78,
   "id": "e6213a57",
   "metadata": {
    "scrolled": true
   },
   "outputs": [],
   "source": [
    "for i in range(5):\n",
    "    df = train[train.fold==i]"
   ]
  },
  {
   "cell_type": "code",
   "execution_count": 81,
   "id": "cc788528",
   "metadata": {},
   "outputs": [],
   "source": [
    "test['fold'] = 0\n",
    "test['target'] = 0\n",
    "test['sorting_date'] = 0\n",
    "\n",
    "\n",
    "train.to_csv(input_dir / 'train_with_fold.csv', index=False)\n",
    "test.to_csv(input_dir / 'test_with_fold.csv', index=False)"
   ]
  }
 ],
 "metadata": {
  "kernelspec": {
   "display_name": "Python 3 (ipykernel)",
   "language": "python",
   "name": "python3"
  },
  "language_info": {
   "codemirror_mode": {
    "name": "ipython",
    "version": 3
   },
   "file_extension": ".py",
   "mimetype": "text/x-python",
   "name": "python",
   "nbconvert_exporter": "python",
   "pygments_lexer": "ipython3",
   "version": "3.8.10"
  }
 },
 "nbformat": 4,
 "nbformat_minor": 5
}
