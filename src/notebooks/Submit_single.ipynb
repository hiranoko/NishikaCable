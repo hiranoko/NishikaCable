{
 "cells": [
  {
   "cell_type": "code",
   "execution_count": 1,
   "id": "48178d1e",
   "metadata": {
    "code_folding": [
     0
    ]
   },
   "outputs": [],
   "source": [
    "# modules\n",
    "import sys\n",
    "sys.path.insert(0, '../')\n",
    "\n",
    "import numpy as np\n",
    "from numpy.core.fromnumeric import mean\n",
    "import pandas as pd\n",
    "from pathlib import Path\n",
    "import os\n",
    "import matplotlib.pyplot as plt\n",
    "#from sklearn.metrics import roc_auc_score, mean_squared_error\n",
    "from sklearn.metrics import f1_score, accuracy_score\n",
    "import argparse"
   ]
  },
  {
   "cell_type": "code",
   "execution_count": 14,
   "id": "c5d34b72",
   "metadata": {},
   "outputs": [
    {
     "name": "stdout",
     "output_type": "stream",
     "text": [
      "/home/hirano/work/Competition/Nishika_cable/src\n",
      "The autoreload extension is already loaded. To reload it, use:\n",
      "  %reload_ext autoreload\n"
     ]
    }
   ],
   "source": [
    "%cd /home/hirano/work/Competition/Nishika_cable/src/\n",
    "%load_ext autoreload\n",
    "%autoreload 2"
   ]
  },
  {
   "cell_type": "code",
   "execution_count": 9,
   "id": "3d9d9b09",
   "metadata": {},
   "outputs": [],
   "source": [
    "label_dict = {\n",
    "   0 : 'HDMI',\n",
    "   1 : 'USB_Mini',\n",
    "   2 : 'Dock',\n",
    "   3 : 'Lightning',\n",
    "   4 : 'USB_Micro_B',\n",
    "   5 : 'Mini_DisplayPort',\n",
    "   6 : 'RJ_45',\n",
    "   7 : 'USB_Type_A',\n",
    "   8 : 'USB_Type_C',\n",
    "   9 : 'USB_Micro_B_3.1',\n",
    "  10 : 'USB_Type_B',\n",
    "  11 : 'Lightning_T',\n",
    "  12 : 'USB_Micro_B_W',\n",
    "  13 : 'VGA',\n",
    "  14 : 'DisplayPort'\n",
    "}"
   ]
  },
  {
   "cell_type": "code",
   "execution_count": 15,
   "id": "7d74f549",
   "metadata": {},
   "outputs": [],
   "source": [
    "import argparse\n",
    "parser = argparse.ArgumentParser(description='Nishik_cable')\n",
    "parser.add_argument('--version', default='011')\n",
    "parser.add_argument('--gpu', default='0', type=int)\n",
    "args = parser.parse_args(args=[])"
   ]
  },
  {
   "cell_type": "code",
   "execution_count": 18,
   "id": "3f88fe75",
   "metadata": {},
   "outputs": [
    {
     "name": "stdout",
     "output_type": "stream",
     "text": [
      "../output/sub_011.csv\n",
      "2200\n"
     ]
    }
   ],
   "source": [
    "version = args.version\n",
    "folds = [0,1,2,3,4]\n",
    "\n",
    "sub = pd.read_csv('../input/test_with_fold.csv')\n",
    "pred = np.zeros(len(sub))\n",
    "\n",
    "train = pd.read_csv('../input/train_with_fold.csv')\n",
    "oof = pd.DataFrame()\n",
    "\n",
    "print(f'../output/sub_{version}.csv')\n",
    "sub_after = pd.read_csv(f'../output/sub_{version}.csv')\n",
    "\n",
    "results = sub_after['target']\n",
    "\n",
    "targets = []\n",
    "for i in range(len(results)):\n",
    "    targets.append(label_dict[results[i]])\n",
    "print(len(targets))\n",
    "\n",
    "sub['class'] = targets\n",
    "\n",
    "sub[['filename', 'class']].to_csv(f'../output/{version}/submission_{version}.csv', index=False)"
   ]
  },
  {
   "cell_type": "code",
   "execution_count": 5,
   "id": "52b31a6d",
   "metadata": {
    "scrolled": true
   },
   "outputs": [
    {
     "data": {
      "text/plain": [
       "\"\\nfor fold in folds:\\n    print(fold)\\n    df = pd.read_csv(f'../output/{version}/{fold}/sub_{version}.csv')\\n    if df.target.isnull().sum():\\n        print('null detected!!')\\n        df.target = df.target.fillna(0)\\n    pred = df.target.values\\n    sub['fold_{}'.format(fold)] = np.array(pred, dtype=np.uint8)\\n    \\n    oof_name = [x for x in os.listdir(f'../output/{version}/{fold}/') if 'oof' in x]\\n    _oof = pd.read_csv(f'../output/{version}/{fold}/{oof_name[0]}')\\n    oof = pd.concat([oof, _oof], axis=0)\\n\""
      ]
     },
     "execution_count": 5,
     "metadata": {},
     "output_type": "execute_result"
    }
   ],
   "source": [
    "\"\"\"\n",
    "for fold in folds:\n",
    "    print(fold)\n",
    "    df = pd.read_csv(f'../output/{version}/{fold}/sub_{version}.csv')\n",
    "    if df.target.isnull().sum():\n",
    "        print('null detected!!')\n",
    "        df.target = df.target.fillna(0)\n",
    "    pred = df.target.values\n",
    "    sub['fold_{}'.format(fold)] = np.array(pred, dtype=np.uint8)\n",
    "    \n",
    "    oof_name = [x for x in os.listdir(f'../output/{version}/{fold}/') if 'oof' in x]\n",
    "    _oof = pd.read_csv(f'../output/{version}/{fold}/{oof_name[0]}')\n",
    "    oof = pd.concat([oof, _oof], axis=0)\n",
    "\"\"\""
   ]
  }
 ],
 "metadata": {
  "kernelspec": {
   "display_name": "Python 3",
   "language": "python",
   "name": "python3"
  },
  "language_info": {
   "codemirror_mode": {
    "name": "ipython",
    "version": 3
   },
   "file_extension": ".py",
   "mimetype": "text/x-python",
   "name": "python",
   "nbconvert_exporter": "python",
   "pygments_lexer": "ipython3",
   "version": "3.8.11"
  }
 },
 "nbformat": 4,
 "nbformat_minor": 5
}
