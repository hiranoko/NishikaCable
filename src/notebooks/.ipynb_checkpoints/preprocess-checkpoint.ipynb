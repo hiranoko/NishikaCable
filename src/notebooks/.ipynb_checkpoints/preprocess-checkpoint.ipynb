{
 "cells": [
  {
   "cell_type": "markdown",
   "id": "0154561b",
   "metadata": {},
   "source": [
    "識別用にCV Splitを実施する"
   ]
  },
  {
   "cell_type": "code",
   "execution_count": 1,
   "id": "826ca641",
   "metadata": {},
   "outputs": [],
   "source": [
    "import os\n",
    "import numpy as np\n",
    "import pandas as pd\n",
    "from pathlib import Path\n",
    "import shutil\n",
    "import glob\n",
    "from typing import List, Optional\n",
    "import matplotlib\n",
    "import matplotlib.pyplot as plt\n",
    "import seaborn as sns\n",
    "import scipy\n",
    "import pandas as pd\n",
    "from tqdm import tqdm\n",
    "from sklearn.model_selection import StratifiedKFold\n",
    "#from sklearn.model_selection  import StratifiedGroupKFold\n",
    "\n",
    "%matplotlib inline"
   ]
  },
  {
   "cell_type": "code",
   "execution_count": 2,
   "id": "79d3e82f",
   "metadata": {},
   "outputs": [
    {
     "ename": "FileExistsError",
     "evalue": "[Errno 17] File exists: '../../input/photos'",
     "output_type": "error",
     "traceback": [
      "\u001b[0;31m---------------------------------------------------------------------------\u001b[0m",
      "\u001b[0;31mFileExistsError\u001b[0m                           Traceback (most recent call last)",
      "\u001b[0;32m<ipython-input-2-593bc24ba285>\u001b[0m in \u001b[0;36m<module>\u001b[0;34m\u001b[0m\n\u001b[1;32m      1\u001b[0m \u001b[0;32mif\u001b[0m \u001b[0mos\u001b[0m\u001b[0;34m.\u001b[0m\u001b[0mpath\u001b[0m\u001b[0;34m.\u001b[0m\u001b[0misdir\u001b[0m\u001b[0;34m(\u001b[0m\u001b[0;34m'../../crop-test-image/images/train_square/'\u001b[0m\u001b[0;34m)\u001b[0m\u001b[0;34m:\u001b[0m\u001b[0;34m\u001b[0m\u001b[0;34m\u001b[0m\u001b[0m\n\u001b[0;32m----> 2\u001b[0;31m     shutil.copytree(\n\u001b[0m\u001b[1;32m      3\u001b[0m         \u001b[0;34m'../../crop-test-image/images/train_square/'\u001b[0m\u001b[0;34m,\u001b[0m\u001b[0;34m\u001b[0m\u001b[0;34m\u001b[0m\u001b[0m\n\u001b[1;32m      4\u001b[0m         \u001b[0;34m'../../input/photos'\u001b[0m\u001b[0;34m\u001b[0m\u001b[0;34m\u001b[0m\u001b[0m\n\u001b[1;32m      5\u001b[0m     )\n",
      "\u001b[0;32m~/anaconda3/envs/Nishika/lib/python3.8/shutil.py\u001b[0m in \u001b[0;36mcopytree\u001b[0;34m(src, dst, symlinks, ignore, copy_function, ignore_dangling_symlinks, dirs_exist_ok)\u001b[0m\n\u001b[1;32m    555\u001b[0m     \u001b[0;32mwith\u001b[0m \u001b[0mos\u001b[0m\u001b[0;34m.\u001b[0m\u001b[0mscandir\u001b[0m\u001b[0;34m(\u001b[0m\u001b[0msrc\u001b[0m\u001b[0;34m)\u001b[0m \u001b[0;32mas\u001b[0m \u001b[0mitr\u001b[0m\u001b[0;34m:\u001b[0m\u001b[0;34m\u001b[0m\u001b[0;34m\u001b[0m\u001b[0m\n\u001b[1;32m    556\u001b[0m         \u001b[0mentries\u001b[0m \u001b[0;34m=\u001b[0m \u001b[0mlist\u001b[0m\u001b[0;34m(\u001b[0m\u001b[0mitr\u001b[0m\u001b[0;34m)\u001b[0m\u001b[0;34m\u001b[0m\u001b[0;34m\u001b[0m\u001b[0m\n\u001b[0;32m--> 557\u001b[0;31m     return _copytree(entries=entries, src=src, dst=dst, symlinks=symlinks,\n\u001b[0m\u001b[1;32m    558\u001b[0m                      \u001b[0mignore\u001b[0m\u001b[0;34m=\u001b[0m\u001b[0mignore\u001b[0m\u001b[0;34m,\u001b[0m \u001b[0mcopy_function\u001b[0m\u001b[0;34m=\u001b[0m\u001b[0mcopy_function\u001b[0m\u001b[0;34m,\u001b[0m\u001b[0;34m\u001b[0m\u001b[0;34m\u001b[0m\u001b[0m\n\u001b[1;32m    559\u001b[0m                      \u001b[0mignore_dangling_symlinks\u001b[0m\u001b[0;34m=\u001b[0m\u001b[0mignore_dangling_symlinks\u001b[0m\u001b[0;34m,\u001b[0m\u001b[0;34m\u001b[0m\u001b[0;34m\u001b[0m\u001b[0m\n",
      "\u001b[0;32m~/anaconda3/envs/Nishika/lib/python3.8/shutil.py\u001b[0m in \u001b[0;36m_copytree\u001b[0;34m(entries, src, dst, symlinks, ignore, copy_function, ignore_dangling_symlinks, dirs_exist_ok)\u001b[0m\n\u001b[1;32m    456\u001b[0m         \u001b[0mignored_names\u001b[0m \u001b[0;34m=\u001b[0m \u001b[0mset\u001b[0m\u001b[0;34m(\u001b[0m\u001b[0;34m)\u001b[0m\u001b[0;34m\u001b[0m\u001b[0;34m\u001b[0m\u001b[0m\n\u001b[1;32m    457\u001b[0m \u001b[0;34m\u001b[0m\u001b[0m\n\u001b[0;32m--> 458\u001b[0;31m     \u001b[0mos\u001b[0m\u001b[0;34m.\u001b[0m\u001b[0mmakedirs\u001b[0m\u001b[0;34m(\u001b[0m\u001b[0mdst\u001b[0m\u001b[0;34m,\u001b[0m \u001b[0mexist_ok\u001b[0m\u001b[0;34m=\u001b[0m\u001b[0mdirs_exist_ok\u001b[0m\u001b[0;34m)\u001b[0m\u001b[0;34m\u001b[0m\u001b[0;34m\u001b[0m\u001b[0m\n\u001b[0m\u001b[1;32m    459\u001b[0m     \u001b[0merrors\u001b[0m \u001b[0;34m=\u001b[0m \u001b[0;34m[\u001b[0m\u001b[0;34m]\u001b[0m\u001b[0;34m\u001b[0m\u001b[0;34m\u001b[0m\u001b[0m\n\u001b[1;32m    460\u001b[0m     \u001b[0muse_srcentry\u001b[0m \u001b[0;34m=\u001b[0m \u001b[0mcopy_function\u001b[0m \u001b[0;32mis\u001b[0m \u001b[0mcopy2\u001b[0m \u001b[0;32mor\u001b[0m \u001b[0mcopy_function\u001b[0m \u001b[0;32mis\u001b[0m \u001b[0mcopy\u001b[0m\u001b[0;34m\u001b[0m\u001b[0;34m\u001b[0m\u001b[0m\n",
      "\u001b[0;32m~/anaconda3/envs/Nishika/lib/python3.8/os.py\u001b[0m in \u001b[0;36mmakedirs\u001b[0;34m(name, mode, exist_ok)\u001b[0m\n\u001b[1;32m    221\u001b[0m             \u001b[0;32mreturn\u001b[0m\u001b[0;34m\u001b[0m\u001b[0;34m\u001b[0m\u001b[0m\n\u001b[1;32m    222\u001b[0m     \u001b[0;32mtry\u001b[0m\u001b[0;34m:\u001b[0m\u001b[0;34m\u001b[0m\u001b[0;34m\u001b[0m\u001b[0m\n\u001b[0;32m--> 223\u001b[0;31m         \u001b[0mmkdir\u001b[0m\u001b[0;34m(\u001b[0m\u001b[0mname\u001b[0m\u001b[0;34m,\u001b[0m \u001b[0mmode\u001b[0m\u001b[0;34m)\u001b[0m\u001b[0;34m\u001b[0m\u001b[0;34m\u001b[0m\u001b[0m\n\u001b[0m\u001b[1;32m    224\u001b[0m     \u001b[0;32mexcept\u001b[0m \u001b[0mOSError\u001b[0m\u001b[0;34m:\u001b[0m\u001b[0;34m\u001b[0m\u001b[0;34m\u001b[0m\u001b[0m\n\u001b[1;32m    225\u001b[0m         \u001b[0;31m# Cannot rely on checking for EEXIST, since the operating system\u001b[0m\u001b[0;34m\u001b[0m\u001b[0;34m\u001b[0m\u001b[0;34m\u001b[0m\u001b[0m\n",
      "\u001b[0;31mFileExistsError\u001b[0m: [Errno 17] File exists: '../../input/photos'"
     ]
    }
   ],
   "source": [
    "if os.path.isdir('../../crop-test-image/images/train_square/'):\n",
    "    shutil.copytree(\n",
    "        '../../crop-test-image/images/train_square/',\n",
    "        '../../input/photos'\n",
    "    )"
   ]
  },
  {
   "cell_type": "code",
   "execution_count": 13,
   "id": "96aaf974",
   "metadata": {},
   "outputs": [],
   "source": [
    "train_ori = pd.read_csv('../../input/csv/train.csv')\n",
    "train_add = pd.read_csv('../../input/csv/additional_data.csv')\n",
    "train = pd.concat([train_ori, train_add], axis=0, ignore_index=True)"
   ]
  },
  {
   "cell_type": "code",
   "execution_count": 14,
   "id": "a1bbc3ee",
   "metadata": {
    "scrolled": false
   },
   "outputs": [
    {
     "data": {
      "text/html": [
       "<div>\n",
       "<style scoped>\n",
       "    .dataframe tbody tr th:only-of-type {\n",
       "        vertical-align: middle;\n",
       "    }\n",
       "\n",
       "    .dataframe tbody tr th {\n",
       "        vertical-align: top;\n",
       "    }\n",
       "\n",
       "    .dataframe thead th {\n",
       "        text-align: right;\n",
       "    }\n",
       "</style>\n",
       "<table border=\"1\" class=\"dataframe\">\n",
       "  <thead>\n",
       "    <tr style=\"text-align: right;\">\n",
       "      <th></th>\n",
       "      <th>filename</th>\n",
       "      <th>Xmin_Ymin_Xmax_Ymax</th>\n",
       "      <th>class</th>\n",
       "      <th>filename_trim</th>\n",
       "    </tr>\n",
       "  </thead>\n",
       "  <tbody>\n",
       "    <tr>\n",
       "      <th>0</th>\n",
       "      <td>2f71963a.jpg</td>\n",
       "      <td>[921, 1510, 1558, 2207]</td>\n",
       "      <td>HDMI</td>\n",
       "      <td>NaN</td>\n",
       "    </tr>\n",
       "    <tr>\n",
       "      <th>1</th>\n",
       "      <td>8cdf4bda.jpg</td>\n",
       "      <td>[1442, 1525, 1722, 2000]</td>\n",
       "      <td>USB_Mini</td>\n",
       "      <td>NaN</td>\n",
       "    </tr>\n",
       "    <tr>\n",
       "      <th>2</th>\n",
       "      <td>7ac35f30.jpg</td>\n",
       "      <td>[666, 1671, 1990, 2259]</td>\n",
       "      <td>Dock</td>\n",
       "      <td>NaN</td>\n",
       "    </tr>\n",
       "    <tr>\n",
       "      <th>3</th>\n",
       "      <td>f6641c06.jpg</td>\n",
       "      <td>[1242, 1753, 1789, 2115]</td>\n",
       "      <td>Lightning</td>\n",
       "      <td>NaN</td>\n",
       "    </tr>\n",
       "    <tr>\n",
       "      <th>4</th>\n",
       "      <td>4fdc8d7d.jpg</td>\n",
       "      <td>[1572, 1050, 2231, 1691]</td>\n",
       "      <td>USB_Micro_B</td>\n",
       "      <td>NaN</td>\n",
       "    </tr>\n",
       "    <tr>\n",
       "      <th>...</th>\n",
       "      <td>...</td>\n",
       "      <td>...</td>\n",
       "      <td>...</td>\n",
       "      <td>...</td>\n",
       "    </tr>\n",
       "    <tr>\n",
       "      <th>4014</th>\n",
       "      <td>1a42d526.jpg</td>\n",
       "      <td>NaN</td>\n",
       "      <td>Lightning</td>\n",
       "      <td>1a42d526_trim.jpg</td>\n",
       "    </tr>\n",
       "    <tr>\n",
       "      <th>4015</th>\n",
       "      <td>6b3c238e.jpg</td>\n",
       "      <td>NaN</td>\n",
       "      <td>USB_Type_C</td>\n",
       "      <td>6b3c238e_trim.jpg</td>\n",
       "    </tr>\n",
       "    <tr>\n",
       "      <th>4016</th>\n",
       "      <td>587a4905.jpg</td>\n",
       "      <td>NaN</td>\n",
       "      <td>USB_Mini</td>\n",
       "      <td>587a4905_trim.jpg</td>\n",
       "    </tr>\n",
       "    <tr>\n",
       "      <th>4017</th>\n",
       "      <td>ae600959.jpg</td>\n",
       "      <td>NaN</td>\n",
       "      <td>USB_Type_C</td>\n",
       "      <td>ae600959_trim.jpg</td>\n",
       "    </tr>\n",
       "    <tr>\n",
       "      <th>4018</th>\n",
       "      <td>6a175db8.jpg</td>\n",
       "      <td>NaN</td>\n",
       "      <td>Mini_DisplayPort</td>\n",
       "      <td>6a175db8_trim.jpg</td>\n",
       "    </tr>\n",
       "  </tbody>\n",
       "</table>\n",
       "<p>4019 rows × 4 columns</p>\n",
       "</div>"
      ],
      "text/plain": [
       "          filename       Xmin_Ymin_Xmax_Ymax             class  \\\n",
       "0     2f71963a.jpg   [921, 1510, 1558, 2207]              HDMI   \n",
       "1     8cdf4bda.jpg  [1442, 1525, 1722, 2000]          USB_Mini   \n",
       "2     7ac35f30.jpg   [666, 1671, 1990, 2259]              Dock   \n",
       "3     f6641c06.jpg  [1242, 1753, 1789, 2115]         Lightning   \n",
       "4     4fdc8d7d.jpg  [1572, 1050, 2231, 1691]       USB_Micro_B   \n",
       "...            ...                       ...               ...   \n",
       "4014  1a42d526.jpg                       NaN         Lightning   \n",
       "4015  6b3c238e.jpg                       NaN        USB_Type_C   \n",
       "4016  587a4905.jpg                       NaN          USB_Mini   \n",
       "4017  ae600959.jpg                       NaN        USB_Type_C   \n",
       "4018  6a175db8.jpg                       NaN  Mini_DisplayPort   \n",
       "\n",
       "          filename_trim  \n",
       "0                   NaN  \n",
       "1                   NaN  \n",
       "2                   NaN  \n",
       "3                   NaN  \n",
       "4                   NaN  \n",
       "...                 ...  \n",
       "4014  1a42d526_trim.jpg  \n",
       "4015  6b3c238e_trim.jpg  \n",
       "4016  587a4905_trim.jpg  \n",
       "4017  ae600959_trim.jpg  \n",
       "4018  6a175db8_trim.jpg  \n",
       "\n",
       "[4019 rows x 4 columns]"
      ]
     },
     "execution_count": 14,
     "metadata": {},
     "output_type": "execute_result"
    }
   ],
   "source": [
    "train"
   ]
  },
  {
   "cell_type": "code",
   "execution_count": 15,
   "id": "70dd7105",
   "metadata": {},
   "outputs": [],
   "source": [
    "class CFG:\n",
    "    seed=42\n",
    "    target_size=5\n",
    "    target_col='class'\n",
    "    n_fold=5\n",
    "    trn_fold=[0, 1, 2, 3, 4]"
   ]
  },
  {
   "cell_type": "code",
   "execution_count": 16,
   "id": "d4484a36",
   "metadata": {},
   "outputs": [
    {
     "name": "stdout",
     "output_type": "stream",
     "text": [
      "fold  class      \n",
      "0     DisplayPort     23\n",
      "      Dock            16\n",
      "      HDMI            35\n",
      "      Lightning      100\n",
      "      Lightning_T     33\n",
      "                    ... \n",
      "4     USB_Mini        55\n",
      "      USB_Type_A      83\n",
      "      USB_Type_B      25\n",
      "      USB_Type_C     120\n",
      "      VGA             26\n",
      "Length: 75, dtype: int64\n"
     ]
    }
   ],
   "source": [
    "folds = train.copy()\n",
    "Fold = StratifiedKFold(n_splits=CFG.n_fold, shuffle=True, random_state=CFG.seed)\n",
    "for n, (train_index, val_index) in enumerate(Fold.split(folds, folds[CFG.target_col])):\n",
    "    folds.loc[val_index, 'fold'] = int(n)\n",
    "folds['fold'] = folds['fold'].astype(int)\n",
    "print(folds.groupby(['fold', CFG.target_col]).size())"
   ]
  },
  {
   "cell_type": "code",
   "execution_count": 19,
   "id": "a5b26748",
   "metadata": {
    "scrolled": true
   },
   "outputs": [
    {
     "data": {
      "image/png": "[encoded data removed]",
      "text/plain": [
       "<Figure size 432x288 with 1 Axes>"
      ]
     },
     "metadata": {
      "needs_background": "light"
     },
     "output_type": "display_data"
    },
    {
     "data": {
      "image/png": "[encoded data removed]",
      "text/plain": [
       "<Figure size 432x288 with 1 Axes>"
      ]
     },
     "metadata": {
      "needs_background": "light"
     },
     "output_type": "display_data"
    }
   ],
   "source": [
    "plt.title('Entire')\n",
    "folds['class'].value_counts().plot(kind=\"bar\")\n",
    "plt.show()\n",
    "\n",
    "plt.title('FOLD: 1')\n",
    "folds[folds['fold'] == 0]['class'].value_counts().plot(kind=\"bar\")\n",
    "plt.show()"
   ]
  },
  {
   "cell_type": "code",
   "execution_count": 32,
   "id": "43ecab35",
   "metadata": {},
   "outputs": [
    {
     "name": "stdout",
     "output_type": "stream",
     "text": [
      "['HDMI', 'USB_Mini', 'Dock', 'Lightning', 'USB_Micro_B', 'Mini_DisplayPort', 'RJ_45', 'USB_Type_A', 'USB_Type_C', 'USB_Micro_B_3.1', 'USB_Type_B', 'Lightning_T', 'USB_Micro_B_W', 'VGA', 'DisplayPort'] 15\n"
     ]
    }
   ],
   "source": [
    "with open('../../csv2cocojson/dataset_ids/labels.txt') as f:\n",
    "    label_map = [s.strip() for s in f.readlines()]\n",
    "    print(label_map, len(label_map))"
   ]
  },
  {
   "cell_type": "code",
   "execution_count": 44,
   "id": "9631af33",
   "metadata": {},
   "outputs": [
    {
     "name": "stdout",
     "output_type": "stream",
     "text": [
      "4019\n"
     ]
    }
   ],
   "source": [
    "label = []\n",
    "targets = folds['class'].tolist()\n",
    "for target in targets:\n",
    "    label.append(label_map.index(target))\n",
    "print(len(label))"
   ]
  },
  {
   "cell_type": "code",
   "execution_count": 46,
   "id": "08ddbead",
   "metadata": {
    "scrolled": false
   },
   "outputs": [],
   "source": [
    "folds['target'] = label"
   ]
  },
  {
   "cell_type": "code",
   "execution_count": 47,
   "id": "80e04228",
   "metadata": {
    "scrolled": true
   },
   "outputs": [
    {
     "data": {
      "text/html": [
       "<div>\n",
       "<style scoped>\n",
       "    .dataframe tbody tr th:only-of-type {\n",
       "        vertical-align: middle;\n",
       "    }\n",
       "\n",
       "    .dataframe tbody tr th {\n",
       "        vertical-align: top;\n",
       "    }\n",
       "\n",
       "    .dataframe thead th {\n",
       "        text-align: right;\n",
       "    }\n",
       "</style>\n",
       "<table border=\"1\" class=\"dataframe\">\n",
       "  <thead>\n",
       "    <tr style=\"text-align: right;\">\n",
       "      <th></th>\n",
       "      <th>filename</th>\n",
       "      <th>Xmin_Ymin_Xmax_Ymax</th>\n",
       "      <th>class</th>\n",
       "      <th>filename_trim</th>\n",
       "      <th>fold</th>\n",
       "      <th>target</th>\n",
       "    </tr>\n",
       "  </thead>\n",
       "  <tbody>\n",
       "    <tr>\n",
       "      <th>0</th>\n",
       "      <td>2f71963a.jpg</td>\n",
       "      <td>[921, 1510, 1558, 2207]</td>\n",
       "      <td>HDMI</td>\n",
       "      <td>NaN</td>\n",
       "      <td>4</td>\n",
       "      <td>0</td>\n",
       "    </tr>\n",
       "    <tr>\n",
       "      <th>1</th>\n",
       "      <td>8cdf4bda.jpg</td>\n",
       "      <td>[1442, 1525, 1722, 2000]</td>\n",
       "      <td>USB_Mini</td>\n",
       "      <td>NaN</td>\n",
       "      <td>0</td>\n",
       "      <td>1</td>\n",
       "    </tr>\n",
       "    <tr>\n",
       "      <th>2</th>\n",
       "      <td>7ac35f30.jpg</td>\n",
       "      <td>[666, 1671, 1990, 2259]</td>\n",
       "      <td>Dock</td>\n",
       "      <td>NaN</td>\n",
       "      <td>2</td>\n",
       "      <td>2</td>\n",
       "    </tr>\n",
       "    <tr>\n",
       "      <th>3</th>\n",
       "      <td>f6641c06.jpg</td>\n",
       "      <td>[1242, 1753, 1789, 2115]</td>\n",
       "      <td>Lightning</td>\n",
       "      <td>NaN</td>\n",
       "      <td>1</td>\n",
       "      <td>3</td>\n",
       "    </tr>\n",
       "    <tr>\n",
       "      <th>4</th>\n",
       "      <td>4fdc8d7d.jpg</td>\n",
       "      <td>[1572, 1050, 2231, 1691]</td>\n",
       "      <td>USB_Micro_B</td>\n",
       "      <td>NaN</td>\n",
       "      <td>3</td>\n",
       "      <td>4</td>\n",
       "    </tr>\n",
       "    <tr>\n",
       "      <th>...</th>\n",
       "      <td>...</td>\n",
       "      <td>...</td>\n",
       "      <td>...</td>\n",
       "      <td>...</td>\n",
       "      <td>...</td>\n",
       "      <td>...</td>\n",
       "    </tr>\n",
       "    <tr>\n",
       "      <th>4014</th>\n",
       "      <td>1a42d526.jpg</td>\n",
       "      <td>NaN</td>\n",
       "      <td>Lightning</td>\n",
       "      <td>1a42d526_trim.jpg</td>\n",
       "      <td>4</td>\n",
       "      <td>3</td>\n",
       "    </tr>\n",
       "    <tr>\n",
       "      <th>4015</th>\n",
       "      <td>6b3c238e.jpg</td>\n",
       "      <td>NaN</td>\n",
       "      <td>USB_Type_C</td>\n",
       "      <td>6b3c238e_trim.jpg</td>\n",
       "      <td>0</td>\n",
       "      <td>8</td>\n",
       "    </tr>\n",
       "    <tr>\n",
       "      <th>4016</th>\n",
       "      <td>587a4905.jpg</td>\n",
       "      <td>NaN</td>\n",
       "      <td>USB_Mini</td>\n",
       "      <td>587a4905_trim.jpg</td>\n",
       "      <td>2</td>\n",
       "      <td>1</td>\n",
       "    </tr>\n",
       "    <tr>\n",
       "      <th>4017</th>\n",
       "      <td>ae600959.jpg</td>\n",
       "      <td>NaN</td>\n",
       "      <td>USB_Type_C</td>\n",
       "      <td>ae600959_trim.jpg</td>\n",
       "      <td>1</td>\n",
       "      <td>8</td>\n",
       "    </tr>\n",
       "    <tr>\n",
       "      <th>4018</th>\n",
       "      <td>6a175db8.jpg</td>\n",
       "      <td>NaN</td>\n",
       "      <td>Mini_DisplayPort</td>\n",
       "      <td>6a175db8_trim.jpg</td>\n",
       "      <td>1</td>\n",
       "      <td>5</td>\n",
       "    </tr>\n",
       "  </tbody>\n",
       "</table>\n",
       "<p>4019 rows × 6 columns</p>\n",
       "</div>"
      ],
      "text/plain": [
       "          filename       Xmin_Ymin_Xmax_Ymax             class  \\\n",
       "0     2f71963a.jpg   [921, 1510, 1558, 2207]              HDMI   \n",
       "1     8cdf4bda.jpg  [1442, 1525, 1722, 2000]          USB_Mini   \n",
       "2     7ac35f30.jpg   [666, 1671, 1990, 2259]              Dock   \n",
       "3     f6641c06.jpg  [1242, 1753, 1789, 2115]         Lightning   \n",
       "4     4fdc8d7d.jpg  [1572, 1050, 2231, 1691]       USB_Micro_B   \n",
       "...            ...                       ...               ...   \n",
       "4014  1a42d526.jpg                       NaN         Lightning   \n",
       "4015  6b3c238e.jpg                       NaN        USB_Type_C   \n",
       "4016  587a4905.jpg                       NaN          USB_Mini   \n",
       "4017  ae600959.jpg                       NaN        USB_Type_C   \n",
       "4018  6a175db8.jpg                       NaN  Mini_DisplayPort   \n",
       "\n",
       "          filename_trim  fold  target  \n",
       "0                   NaN     4       0  \n",
       "1                   NaN     0       1  \n",
       "2                   NaN     2       2  \n",
       "3                   NaN     1       3  \n",
       "4                   NaN     3       4  \n",
       "...                 ...   ...     ...  \n",
       "4014  1a42d526_trim.jpg     4       3  \n",
       "4015  6b3c238e_trim.jpg     0       8  \n",
       "4016  587a4905_trim.jpg     2       1  \n",
       "4017  ae600959_trim.jpg     1       8  \n",
       "4018  6a175db8_trim.jpg     1       5  \n",
       "\n",
       "[4019 rows x 6 columns]"
      ]
     },
     "execution_count": 47,
     "metadata": {},
     "output_type": "execute_result"
    }
   ],
   "source": [
    "folds"
   ]
  },
  {
   "cell_type": "code",
   "execution_count": 52,
   "id": "901ae637",
   "metadata": {},
   "outputs": [],
   "source": [
    "folds.to_csv('../../input/train_with_fold.csv', index=False)"
   ]
  },
  {
   "cell_type": "code",
   "execution_count": 49,
   "id": "c8b7ec08",
   "metadata": {},
   "outputs": [],
   "source": [
    "test = pd.read_csv('../../input/csv/sample_submission.csv')"
   ]
  },
  {
   "cell_type": "code",
   "execution_count": 50,
   "id": "59c08ddc",
   "metadata": {},
   "outputs": [],
   "source": [
    "test['fold'] = 0\n",
    "test['target'] = 0"
   ]
  },
  {
   "cell_type": "code",
   "execution_count": 51,
   "id": "ddf5ebbb",
   "metadata": {},
   "outputs": [],
   "source": [
    "test.to_csv('../../input/test_with_fold.csv', index=False)"
   ]
  }
 ],
 "metadata": {
  "kernelspec": {
   "display_name": "Python 3",
   "language": "python",
   "name": "python3"
  },
  "language_info": {
   "codemirror_mode": {
    "name": "ipython",
    "version": 3
   },
   "file_extension": ".py",
   "mimetype": "text/x-python",
   "name": "python",
   "nbconvert_exporter": "python",
   "pygments_lexer": "ipython3",
   "version": "3.8.11"
  }
 },
 "nbformat": 4,
 "nbformat_minor": 5
}
