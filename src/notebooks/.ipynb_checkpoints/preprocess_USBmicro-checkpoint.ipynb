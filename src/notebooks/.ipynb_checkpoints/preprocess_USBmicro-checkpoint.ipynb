{
 "cells": [
  {
   "cell_type": "markdown",
   "id": "0154561b",
   "metadata": {},
   "source": [
    "識別用にCV Splitを実施する\n",
    "\n",
    "混合行列をみると間違っているのはUSB_micro_B_W and USB_Micro_Bのペアであった\n",
    "2class識別を作成してみる"
   ]
  },
  {
   "cell_type": "code",
   "execution_count": 41,
   "id": "826ca641",
   "metadata": {
    "code_folding": [
     0
    ]
   },
   "outputs": [],
   "source": [
    "# modules\n",
    "\n",
    "import os\n",
    "import numpy as np\n",
    "import pandas as pd\n",
    "from pathlib import Path\n",
    "import shutil\n",
    "import glob\n",
    "from typing import List, Optional\n",
    "import matplotlib\n",
    "import matplotlib.pyplot as plt\n",
    "import seaborn as sns\n",
    "import scipy\n",
    "import pandas as pd\n",
    "from tqdm import tqdm\n",
    "from sklearn.model_selection import StratifiedKFold\n",
    "#from sklearn.model_selection  import StratifiedGroupKFold\n",
    "\n",
    "%matplotlib inline"
   ]
  },
  {
   "cell_type": "code",
   "execution_count": 42,
   "id": "96aaf974",
   "metadata": {},
   "outputs": [
    {
     "data": {
      "text/plain": [
       "array(['HDMI', 'USB_Mini', 'Dock', 'Lightning', 'USB_Micro_B',\n",
       "       'Mini_DisplayPort', 'RJ_45', 'USB_Type_A', 'USB_Type_C',\n",
       "       'USB_Micro_B_3.1', 'USB_Type_B', 'Lightning_T', 'USB_Micro_B_W',\n",
       "       'VGA', 'DisplayPort'], dtype=object)"
      ]
     },
     "execution_count": 42,
     "metadata": {},
     "output_type": "execute_result"
    }
   ],
   "source": [
    "train_ori = pd.read_csv('../../input/csv/train.csv')\n",
    "train_add = pd.read_csv('../../input/csv/additional_data.csv')\n",
    "train = pd.concat([train_ori, train_add], axis=0, ignore_index=True)\n",
    "train['class'].unique()"
   ]
  },
  {
   "cell_type": "code",
   "execution_count": 43,
   "id": "dae01156",
   "metadata": {
    "scrolled": true
   },
   "outputs": [],
   "source": [
    "df = None\n",
    "df = pd.concat([df,train[train['class'] == 'USB_Micro_B_W']], axis=0, ignore_index=True)\n",
    "df = pd.concat([df,train[train['class'] == 'USB_Micro_B']], axis=0, ignore_index=True)"
   ]
  },
  {
   "cell_type": "code",
   "execution_count": 44,
   "id": "70dd7105",
   "metadata": {},
   "outputs": [],
   "source": [
    "class CFG:\n",
    "    seed=42\n",
    "    target_col='class'\n",
    "    n_fold=10\n",
    "    trn_fold=[0, 1, 2, 3, 4, 5, 6, 7, 8, 9]"
   ]
  },
  {
   "cell_type": "code",
   "execution_count": 45,
   "id": "58af77aa",
   "metadata": {},
   "outputs": [
    {
     "name": "stdout",
     "output_type": "stream",
     "text": [
      "fold  class        \n",
      "0     USB_Micro_B      94\n",
      "      USB_Micro_B_W     7\n",
      "1     USB_Micro_B      94\n",
      "      USB_Micro_B_W     7\n",
      "2     USB_Micro_B      93\n",
      "      USB_Micro_B_W     7\n",
      "3     USB_Micro_B      93\n",
      "      USB_Micro_B_W     7\n",
      "4     USB_Micro_B      93\n",
      "      USB_Micro_B_W     7\n",
      "5     USB_Micro_B      93\n",
      "      USB_Micro_B_W     7\n",
      "6     USB_Micro_B      93\n",
      "      USB_Micro_B_W     7\n",
      "7     USB_Micro_B      93\n",
      "      USB_Micro_B_W     7\n",
      "8     USB_Micro_B      94\n",
      "      USB_Micro_B_W     6\n",
      "9     USB_Micro_B      94\n",
      "      USB_Micro_B_W     6\n",
      "dtype: int64\n"
     ]
    }
   ],
   "source": [
    "folds = df.copy()\n",
    "Fold = StratifiedKFold(n_splits=CFG.n_fold, shuffle=True, random_state=CFG.seed)\n",
    "for n, (train_index, val_index) in enumerate(Fold.split(folds, folds['class'])):\n",
    "    folds.loc[val_index, 'fold'] = int(n)\n",
    "folds['fold'] = folds['fold'].astype(int)\n",
    "print(folds.groupby(['fold', 'class']).size())"
   ]
  },
  {
   "cell_type": "code",
   "execution_count": 46,
   "id": "a5b26748",
   "metadata": {
    "scrolled": true
   },
   "outputs": [
    {
     "data": {
      "image/png": "[encoded data removed]",
      "text/plain": [
       "<Figure size 432x288 with 1 Axes>"
      ]
     },
     "metadata": {
      "needs_background": "light"
     },
     "output_type": "display_data"
    },
    {
     "data": {
      "image/png": "[encoded data removed]",
      "text/plain": [
       "<Figure size 432x288 with 1 Axes>"
      ]
     },
     "metadata": {
      "needs_background": "light"
     },
     "output_type": "display_data"
    }
   ],
   "source": [
    "plt.title('Entire')\n",
    "folds['class'].value_counts().plot(kind=\"bar\")\n",
    "plt.show()\n",
    "\n",
    "plt.title('FOLD: 1')\n",
    "folds[folds['fold'] == 0]['class'].value_counts().plot(kind=\"bar\")\n",
    "plt.show()"
   ]
  },
  {
   "cell_type": "code",
   "execution_count": 47,
   "id": "43ecab35",
   "metadata": {},
   "outputs": [],
   "source": [
    "#with open('../../csv2cocojson/dataset_ids/labels.txt') as f:\n",
    "#    label_map = [s.strip() for s in f.readlines()]\n",
    "#    print(label_map, len(label_map))\n",
    "\n",
    "label_map = ['USB_Micro_B', 'USB_Micro_B_W']"
   ]
  },
  {
   "cell_type": "code",
   "execution_count": 48,
   "id": "9631af33",
   "metadata": {},
   "outputs": [
    {
     "name": "stdout",
     "output_type": "stream",
     "text": [
      "1002\n"
     ]
    }
   ],
   "source": [
    "label = []\n",
    "targets = folds['class'].tolist()\n",
    "for target in targets:\n",
    "    label.append(label_map.index(target))\n",
    "print(len(label))"
   ]
  },
  {
   "cell_type": "code",
   "execution_count": 49,
   "id": "08ddbead",
   "metadata": {
    "scrolled": false
   },
   "outputs": [],
   "source": [
    "folds['target'] = label"
   ]
  },
  {
   "cell_type": "code",
   "execution_count": 50,
   "id": "80e04228",
   "metadata": {
    "scrolled": true
   },
   "outputs": [
    {
     "data": {
      "text/html": [
       "<div>\n",
       "<style scoped>\n",
       "    .dataframe tbody tr th:only-of-type {\n",
       "        vertical-align: middle;\n",
       "    }\n",
       "\n",
       "    .dataframe tbody tr th {\n",
       "        vertical-align: top;\n",
       "    }\n",
       "\n",
       "    .dataframe thead th {\n",
       "        text-align: right;\n",
       "    }\n",
       "</style>\n",
       "<table border=\"1\" class=\"dataframe\">\n",
       "  <thead>\n",
       "    <tr style=\"text-align: right;\">\n",
       "      <th></th>\n",
       "      <th>filename</th>\n",
       "      <th>Xmin_Ymin_Xmax_Ymax</th>\n",
       "      <th>class</th>\n",
       "      <th>filename_trim</th>\n",
       "      <th>fold</th>\n",
       "      <th>target</th>\n",
       "    </tr>\n",
       "  </thead>\n",
       "  <tbody>\n",
       "    <tr>\n",
       "      <th>0</th>\n",
       "      <td>609c2424.jpg</td>\n",
       "      <td>[797, 1118, 1395, 1773]</td>\n",
       "      <td>USB_Micro_B_W</td>\n",
       "      <td>NaN</td>\n",
       "      <td>6</td>\n",
       "      <td>1</td>\n",
       "    </tr>\n",
       "    <tr>\n",
       "      <th>1</th>\n",
       "      <td>0f0213af.jpg</td>\n",
       "      <td>[1420, 2144, 2260, 2984]</td>\n",
       "      <td>USB_Micro_B_W</td>\n",
       "      <td>NaN</td>\n",
       "      <td>2</td>\n",
       "      <td>1</td>\n",
       "    </tr>\n",
       "    <tr>\n",
       "      <th>2</th>\n",
       "      <td>db699710.jpg</td>\n",
       "      <td>[1089, 1593, 1935, 2439]</td>\n",
       "      <td>USB_Micro_B_W</td>\n",
       "      <td>NaN</td>\n",
       "      <td>0</td>\n",
       "      <td>1</td>\n",
       "    </tr>\n",
       "    <tr>\n",
       "      <th>3</th>\n",
       "      <td>aea7c84e.jpg</td>\n",
       "      <td>[1573, 2395, 2029, 2693]</td>\n",
       "      <td>USB_Micro_B_W</td>\n",
       "      <td>NaN</td>\n",
       "      <td>1</td>\n",
       "      <td>1</td>\n",
       "    </tr>\n",
       "    <tr>\n",
       "      <th>4</th>\n",
       "      <td>a00c249b.jpg</td>\n",
       "      <td>[383, 860, 720, 1054]</td>\n",
       "      <td>USB_Micro_B_W</td>\n",
       "      <td>NaN</td>\n",
       "      <td>4</td>\n",
       "      <td>1</td>\n",
       "    </tr>\n",
       "    <tr>\n",
       "      <th>...</th>\n",
       "      <td>...</td>\n",
       "      <td>...</td>\n",
       "      <td>...</td>\n",
       "      <td>...</td>\n",
       "      <td>...</td>\n",
       "      <td>...</td>\n",
       "    </tr>\n",
       "    <tr>\n",
       "      <th>997</th>\n",
       "      <td>2c58b3a6.jpg</td>\n",
       "      <td>NaN</td>\n",
       "      <td>USB_Micro_B</td>\n",
       "      <td>2c58b3a6_trim.jpg</td>\n",
       "      <td>1</td>\n",
       "      <td>0</td>\n",
       "    </tr>\n",
       "    <tr>\n",
       "      <th>998</th>\n",
       "      <td>9c05d48b.jpg</td>\n",
       "      <td>NaN</td>\n",
       "      <td>USB_Micro_B</td>\n",
       "      <td>9c05d48b_trim.jpg</td>\n",
       "      <td>5</td>\n",
       "      <td>0</td>\n",
       "    </tr>\n",
       "    <tr>\n",
       "      <th>999</th>\n",
       "      <td>b1585fdb.jpg</td>\n",
       "      <td>NaN</td>\n",
       "      <td>USB_Micro_B</td>\n",
       "      <td>b1585fdb_trim.jpg</td>\n",
       "      <td>7</td>\n",
       "      <td>0</td>\n",
       "    </tr>\n",
       "    <tr>\n",
       "      <th>1000</th>\n",
       "      <td>48f89b63.jpg</td>\n",
       "      <td>NaN</td>\n",
       "      <td>USB_Micro_B</td>\n",
       "      <td>48f89b63_trim.jpg</td>\n",
       "      <td>4</td>\n",
       "      <td>0</td>\n",
       "    </tr>\n",
       "    <tr>\n",
       "      <th>1001</th>\n",
       "      <td>caa1aedb.jpg</td>\n",
       "      <td>NaN</td>\n",
       "      <td>USB_Micro_B</td>\n",
       "      <td>caa1aedb_trim.jpg</td>\n",
       "      <td>7</td>\n",
       "      <td>0</td>\n",
       "    </tr>\n",
       "  </tbody>\n",
       "</table>\n",
       "<p>1002 rows × 6 columns</p>\n",
       "</div>"
      ],
      "text/plain": [
       "          filename       Xmin_Ymin_Xmax_Ymax          class  \\\n",
       "0     609c2424.jpg   [797, 1118, 1395, 1773]  USB_Micro_B_W   \n",
       "1     0f0213af.jpg  [1420, 2144, 2260, 2984]  USB_Micro_B_W   \n",
       "2     db699710.jpg  [1089, 1593, 1935, 2439]  USB_Micro_B_W   \n",
       "3     aea7c84e.jpg  [1573, 2395, 2029, 2693]  USB_Micro_B_W   \n",
       "4     a00c249b.jpg     [383, 860, 720, 1054]  USB_Micro_B_W   \n",
       "...            ...                       ...            ...   \n",
       "997   2c58b3a6.jpg                       NaN    USB_Micro_B   \n",
       "998   9c05d48b.jpg                       NaN    USB_Micro_B   \n",
       "999   b1585fdb.jpg                       NaN    USB_Micro_B   \n",
       "1000  48f89b63.jpg                       NaN    USB_Micro_B   \n",
       "1001  caa1aedb.jpg                       NaN    USB_Micro_B   \n",
       "\n",
       "          filename_trim  fold  target  \n",
       "0                   NaN     6       1  \n",
       "1                   NaN     2       1  \n",
       "2                   NaN     0       1  \n",
       "3                   NaN     1       1  \n",
       "4                   NaN     4       1  \n",
       "...                 ...   ...     ...  \n",
       "997   2c58b3a6_trim.jpg     1       0  \n",
       "998   9c05d48b_trim.jpg     5       0  \n",
       "999   b1585fdb_trim.jpg     7       0  \n",
       "1000  48f89b63_trim.jpg     4       0  \n",
       "1001  caa1aedb_trim.jpg     7       0  \n",
       "\n",
       "[1002 rows x 6 columns]"
      ]
     },
     "execution_count": 50,
     "metadata": {},
     "output_type": "execute_result"
    }
   ],
   "source": [
    "folds"
   ]
  },
  {
   "cell_type": "code",
   "execution_count": 51,
   "id": "901ae637",
   "metadata": {},
   "outputs": [],
   "source": [
    "folds.to_csv('../../input/train_with_fold_USBmicro.csv', index=False)"
   ]
  },
  {
   "cell_type": "code",
   "execution_count": null,
   "id": "8cdfa63a",
   "metadata": {},
   "outputs": [],
   "source": []
  }
 ],
 "metadata": {
  "kernelspec": {
   "display_name": "Python 3",
   "language": "python",
   "name": "python3"
  },
  "language_info": {
   "codemirror_mode": {
    "name": "ipython",
    "version": 3
   },
   "file_extension": ".py",
   "mimetype": "text/x-python",
   "name": "python",
   "nbconvert_exporter": "python",
   "pygments_lexer": "ipython3",
   "version": "3.8.11"
  },
  "toc": {
   "base_numbering": 1,
   "nav_menu": {},
   "number_sections": true,
   "sideBar": true,
   "skip_h1_title": false,
   "title_cell": "Table of Contents",
   "title_sidebar": "Contents",
   "toc_cell": false,
   "toc_position": {},
   "toc_section_display": true,
   "toc_window_display": false
  }
 },
 "nbformat": 4,
 "nbformat_minor": 5
}
