{
 "cells": [
  {
   "cell_type": "code",
   "execution_count": 1,
   "id": "118c34da",
   "metadata": {
    "code_folding": [
     0
    ]
   },
   "outputs": [],
   "source": [
    "# modules\n",
    "\n",
    "import numpy as np\n",
    "from numpy.lib.function_base import average\n",
    "import pandas as pd\n",
    "from pathlib import Path\n",
    "import os\n",
    "from sklearn.metrics import f1_score, accuracy_score\n",
    "import argparse"
   ]
  },
  {
   "cell_type": "code",
   "execution_count": 7,
   "id": "f3d2f22e",
   "metadata": {},
   "outputs": [],
   "source": [
    "def get_args():\n",
    "    parser = argparse.ArgumentParser()\n",
    "    parser.add_argument('--version', type=str, default='041')\n",
    "    parser.add_argument('--gpu', type=int, default=0)\n",
    "    return parser.parse_args([])"
   ]
  },
  {
   "cell_type": "code",
   "execution_count": 9,
   "id": "82e264a9",
   "metadata": {},
   "outputs": [
    {
     "name": "stdout",
     "output_type": "stream",
     "text": [
      "/home/hirano/work/Competition/Nishika_cable/src\n"
     ]
    }
   ],
   "source": [
    "%cd ../"
   ]
  },
  {
   "cell_type": "code",
   "execution_count": 24,
   "id": "737e2ed0",
   "metadata": {},
   "outputs": [],
   "source": [
    "args = get_args()\n",
    "version = args.version\n",
    "folds = [0,1,2,3,4,5,6,7,8,9]"
   ]
  },
  {
   "cell_type": "code",
   "execution_count": 27,
   "id": "5e83ef9c",
   "metadata": {
    "scrolled": false
   },
   "outputs": [
    {
     "name": "stdout",
     "output_type": "stream",
     "text": [
      "Fold is 0 ['oof_041_0.9802_raw.csv'] ['oof_041_0.9802.csv']\n",
      "Fold is 1 ['oof_041_0.9901_raw.csv'] ['oof_041_0.9901.csv']\n",
      "Fold is 2 ['oof_041_1.0000_raw.csv'] ['oof_041_1.0000.csv']\n",
      "Fold is 3 ['oof_041_1.0000_raw.csv'] ['oof_041_1.0000.csv']\n",
      "Fold is 4 ['oof_041_0.9900_raw.csv'] ['oof_041_0.9900.csv']\n",
      "Fold is 5 ['oof_041_0.9900_raw.csv'] ['oof_041_0.9900.csv']\n",
      "Fold is 6 ['oof_041_0.9800_raw.csv'] ['oof_041_0.9800.csv']\n",
      "Fold is 7 ['oof_041_0.9800_raw.csv'] ['oof_041_0.9800.csv']\n",
      "Fold is 8 ['oof_041_1.0000_raw.csv'] ['oof_041_1.0000.csv']\n",
      "Fold is 9 ['oof_041_0.9900_raw.csv'] ['oof_041_0.9900.csv']\n"
     ]
    }
   ],
   "source": [
    "sub = pd.read_csv('../input/test_with_fold.csv')\n",
    "pred = np.zeros((len(sub), 2))\n",
    "\n",
    "train = pd.read_csv('../input/train_with_fold_USBmicro.csv')\n",
    "target = train.target.values\n",
    "oof = pd.DataFrame()\n",
    "oof_cls = pd.DataFrame()\n",
    "\n",
    "for fold in folds:\n",
    "    df = pd.read_csv(f'../output/{version}/{fold}/sub_{version}_raw.csv')\n",
    "    pred += df.values\n",
    "    oof_raw_name = [x for x in os.listdir(f'../output/{version}/{fold}/') if ('oof' in x)&('raw' in x)]\n",
    "    oof_cls_name = [x for x in os.listdir(f'../output/{version}/{fold}/') if ('oof' in x)&('raw' not in x)]\n",
    "\n",
    "    print(f\"Fold is {fold}\", oof_raw_name, oof_cls_name)\n",
    "\n",
    "    _oof = pd.read_csv(f'../output/{version}/{fold}/{oof_raw_name[0]}')\n",
    "    oof = pd.concat([oof, _oof], axis=0)\n",
    "\n",
    "    _oof = pd.read_csv(f'../output/{version}/{fold}/{oof_cls_name[0]}')\n",
    "    oof_cls = pd.concat([oof_cls, _oof], axis=0)\n",
    "    \n",
    "oof.columns = ['conf_0', 'conf_1']\n",
    "\n",
    "_oof = oof.copy()\n",
    "\n",
    "_oof['pred'] = np.argmax(_oof.values, axis=1)\n",
    "\n",
    "oof_pred = _oof.pred.values\n",
    "oof_target = oof_cls.target"
   ]
  },
  {
   "cell_type": "code",
   "execution_count": 28,
   "id": "3ec45616",
   "metadata": {},
   "outputs": [
    {
     "name": "stdout",
     "output_type": "stream",
     "text": [
      "0.9900199600798403\n"
     ]
    }
   ],
   "source": [
    "score = f1_score(oof_target, oof_pred, average='micro')\n",
    "print(score)"
   ]
  },
  {
   "cell_type": "code",
   "execution_count": 29,
   "id": "6c6246f8",
   "metadata": {},
   "outputs": [],
   "source": [
    "sub.target = np.argmax(pred, axis=1)"
   ]
  },
  {
   "cell_type": "code",
   "execution_count": 31,
   "id": "027a8bf7",
   "metadata": {},
   "outputs": [],
   "source": [
    "oof_cls.to_csv(f'../output/post_process/oof_{version}_{score:.4f}.csv', index=False)"
   ]
  },
  {
   "cell_type": "markdown",
   "id": "15a1f512",
   "metadata": {},
   "source": [
    "# Test file"
   ]
  },
  {
   "cell_type": "code",
   "execution_count": 37,
   "id": "787590c3",
   "metadata": {
    "scrolled": true
   },
   "outputs": [],
   "source": [
    "pred /= len(folds)"
   ]
  },
  {
   "cell_type": "code",
   "execution_count": 38,
   "id": "90bcad4a",
   "metadata": {},
   "outputs": [
    {
     "data": {
      "text/plain": [
       "array([[0.99365234, 0.00635462],\n",
       "       [0.99575195, 0.00421529],\n",
       "       [0.99072266, 0.00922441],\n",
       "       ...,\n",
       "       [0.99052734, 0.00946276],\n",
       "       [0.99418945, 0.00576289],\n",
       "       [0.97646484, 0.0235817 ]])"
      ]
     },
     "execution_count": 38,
     "metadata": {},
     "output_type": "execute_result"
    }
   ],
   "source": [
    "pred"
   ]
  },
  {
   "cell_type": "code",
   "execution_count": 40,
   "id": "31243ddf",
   "metadata": {},
   "outputs": [],
   "source": [
    "sub[['conf_0', 'conf_1']] = pred"
   ]
  },
  {
   "cell_type": "code",
   "execution_count": 43,
   "id": "2e4e45cc",
   "metadata": {},
   "outputs": [],
   "source": [
    "sub.target = np.argmax(pred, axis=1)"
   ]
  },
  {
   "cell_type": "code",
   "execution_count": 45,
   "id": "4c214a6b",
   "metadata": {},
   "outputs": [],
   "source": [
    "sub[['target','conf_0', 'conf_1']].to_csv(f'../output/post_process/sub_{version}.csv', index=False)"
   ]
  },
  {
   "cell_type": "code",
   "execution_count": null,
   "id": "f283a9ed",
   "metadata": {},
   "outputs": [],
   "source": []
  }
 ],
 "metadata": {
  "kernelspec": {
   "display_name": "Python 3",
   "language": "python",
   "name": "python3"
  },
  "language_info": {
   "codemirror_mode": {
    "name": "ipython",
    "version": 3
   },
   "file_extension": ".py",
   "mimetype": "text/x-python",
   "name": "python",
   "nbconvert_exporter": "python",
   "pygments_lexer": "ipython3",
   "version": "3.8.11"
  },
  "toc": {
   "base_numbering": 1,
   "nav_menu": {},
   "number_sections": true,
   "sideBar": true,
   "skip_h1_title": false,
   "title_cell": "Table of Contents",
   "title_sidebar": "Contents",
   "toc_cell": false,
   "toc_position": {},
   "toc_section_display": true,
   "toc_window_display": false
  }
 },
 "nbformat": 4,
 "nbformat_minor": 5
}
