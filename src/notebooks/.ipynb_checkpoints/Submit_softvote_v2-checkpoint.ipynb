{
 "cells": [
  {
   "cell_type": "markdown",
   "id": "34184d46",
   "metadata": {
    "toc": true
   },
   "source": [
    "<h1>Table of Contents<span class=\"tocSkip\"></span></h1>\n",
    "<div class=\"toc\"><ul class=\"toc-item\"><li><span><a href=\"#010_037_044_045\" data-toc-modified-id=\"010_037_044_045-1\"><span class=\"toc-item-num\">1&nbsp;&nbsp;</span>010_037_044_045</a></span></li><li><span><a href=\"#Sub-010_035_037\" data-toc-modified-id=\"Sub-010_035_037-2\"><span class=\"toc-item-num\">2&nbsp;&nbsp;</span>Sub 010_035_037</a></span></li><li><span><a href=\"#Sub-010_035_037_039_043\" data-toc-modified-id=\"Sub-010_035_037_039_043-3\"><span class=\"toc-item-num\">3&nbsp;&nbsp;</span>Sub 010_035_037_039_043</a></span></li><li><span><a href=\"#Sub-010_035_037_039\" data-toc-modified-id=\"Sub-010_035_037_039-4\"><span class=\"toc-item-num\">4&nbsp;&nbsp;</span>Sub 010_035_037_039</a></span></li><li><span><a href=\"#Sub_035_037\" data-toc-modified-id=\"Sub_035_037-5\"><span class=\"toc-item-num\">5&nbsp;&nbsp;</span>Sub_035_037</a></span></li><li><span><a href=\"#Sub_010_035_037\" data-toc-modified-id=\"Sub_010_035_037-6\"><span class=\"toc-item-num\">6&nbsp;&nbsp;</span>Sub_010_035_037</a></span><ul class=\"toc-item\"><li><span><a href=\"#oof\" data-toc-modified-id=\"oof-6.1\"><span class=\"toc-item-num\">6.1&nbsp;&nbsp;</span>oof</a></span></li><li><span><a href=\"#eval\" data-toc-modified-id=\"eval-6.2\"><span class=\"toc-item-num\">6.2&nbsp;&nbsp;</span>eval</a></span></li></ul></li><li><span><a href=\"#Sub_010_035\" data-toc-modified-id=\"Sub_010_035-7\"><span class=\"toc-item-num\">7&nbsp;&nbsp;</span>Sub_010_035</a></span></li></ul></div>"
   ]
  },
  {
   "cell_type": "markdown",
   "id": "a2103aa1",
   "metadata": {},
   "source": [
    "DEBUG"
   ]
  },
  {
   "cell_type": "code",
   "execution_count": 1,
   "id": "c5d34b72",
   "metadata": {
    "code_folding": [
     0
    ]
   },
   "outputs": [
    {
     "name": "stdout",
     "output_type": "stream",
     "text": [
      "/home/hirano/work/Competition/Nishika_cable/src\n"
     ]
    }
   ],
   "source": [
    "# change dir\n",
    "%cd /home/hirano/work/Competition/Nishika_cable/src/\n",
    "%load_ext autoreload\n",
    "%autoreload 2"
   ]
  },
  {
   "cell_type": "code",
   "execution_count": 2,
   "id": "48178d1e",
   "metadata": {
    "code_folding": [
     0
    ]
   },
   "outputs": [],
   "source": [
    "# modules\n",
    "import numpy as np\n",
    "from numpy.core.fromnumeric import mean\n",
    "import pandas as pd\n",
    "from pathlib import Path\n",
    "import os\n",
    "import matplotlib.pyplot as plt\n",
    "from sklearn.metrics import f1_score, accuracy_score\n",
    "import argparse"
   ]
  },
  {
   "cell_type": "code",
   "execution_count": 3,
   "id": "ab2296e2",
   "metadata": {
    "code_folding": [
     20
    ]
   },
   "outputs": [],
   "source": [
    "# utils\n",
    "\n",
    "label_dict = {\n",
    "   0 : 'HDMI',\n",
    "   1 : 'USB_Mini',\n",
    "   2 : 'Dock',\n",
    "   3 : 'Lightning',\n",
    "   4 : 'USB_Micro_B',\n",
    "   5 : 'Mini_DisplayPort',\n",
    "   6 : 'RJ_45',\n",
    "   7 : 'USB_Type_A',\n",
    "   8 : 'USB_Type_C',\n",
    "   9 : 'USB_Micro_B_3.1',\n",
    "  10 : 'USB_Type_B',\n",
    "  11 : 'Lightning_T',\n",
    "  12 : 'USB_Micro_B_W',\n",
    "  13 : 'VGA',\n",
    "  14 : 'DisplayPort'\n",
    "}\n",
    "\n",
    "def get_csv_results(versions, coef):\n",
    "    for i, version in enumerate(versions):\n",
    "        oof_name = [x for x in os.listdir(f'../output/results/') if f'oof_{version}' in x]\n",
    "        print(oof_name)\n",
    "\n",
    "        if i==0:\n",
    "            oof = pd.read_csv(f'../output/results/{oof_name[0]}').sort_values('filename')\n",
    "            oof[f'pred_{i}'] = oof.pred.values\n",
    "            oof[['conf_0', 'conf_1', 'conf_2', 'conf_3', 'conf_4',\n",
    "                 'conf_5', 'conf_6', 'conf_7', 'conf_8', 'conf_9',\n",
    "                 'conf_10', 'conf_11', 'conf_12', 'conf_13', 'conf_14']] = coef*oof[['conf_0', 'conf_1', 'conf_2', 'conf_3', 'conf_4','conf_5', 'conf_6', 'conf_7', 'conf_8', 'conf_9','conf_10', 'conf_11', 'conf_12', 'conf_13', 'conf_14']].values\n",
    "\n",
    "            sub = pd.read_csv(f'../output/results/sub_{version}.csv')\n",
    "            sub[f'pred_{i}'] = sub.target.values\n",
    "            sub[['conf_0', 'conf_1', 'conf_2', 'conf_3', 'conf_4',\n",
    "                 'conf_5', 'conf_6', 'conf_7', 'conf_8', 'conf_9',\n",
    "                 'conf_10', 'conf_11', 'conf_12', 'conf_13', 'conf_14']] = coef*sub[['conf_0', 'conf_1', 'conf_2', 'conf_3', 'conf_4','conf_5', 'conf_6', 'conf_7', 'conf_8', 'conf_9','conf_10', 'conf_11', 'conf_12', 'conf_13', 'conf_14']].values\n",
    "\n",
    "        else:\n",
    "            _tmp = pd.read_csv(f'../output/results/{oof_name[0]}').sort_values('filename')\n",
    "            oof[f'pred_{i}'] = _tmp.pred.values\n",
    "            oof[['conf_0', 'conf_1', 'conf_2', 'conf_3', 'conf_4',\n",
    "                 'conf_5', 'conf_6', 'conf_7', 'conf_8', 'conf_9',\n",
    "                 'conf_10', 'conf_11', 'conf_12', 'conf_13', 'conf_14']] += coef*_tmp[['conf_0', 'conf_1', 'conf_2', 'conf_3', 'conf_4','conf_5', 'conf_6', 'conf_7', 'conf_8', 'conf_9','conf_10', 'conf_11', 'conf_12', 'conf_13', 'conf_14']].values\n",
    "\n",
    "            _tmp = pd.read_csv(f'../output/results/sub_{version}.csv')\n",
    "            sub[f'pred_{i}'] = _tmp.target.values\n",
    "            sub[['conf_0', 'conf_1', 'conf_2', 'conf_3', 'conf_4',\n",
    "                 'conf_5', 'conf_6', 'conf_7', 'conf_8', 'conf_9',\n",
    "                 'conf_10', 'conf_11', 'conf_12', 'conf_13', 'conf_14']] += coef*_tmp[['conf_0', 'conf_1', 'conf_2', 'conf_3', 'conf_4','conf_5', 'conf_6', 'conf_7', 'conf_8', 'conf_9','conf_10', 'conf_11', 'conf_12', 'conf_13', 'conf_14']].values\n",
    "\n",
    "    oof = oof.reset_index(drop=True)\n",
    "    return oof, sub"
   ]
  },
  {
   "cell_type": "markdown",
   "id": "b832c14a",
   "metadata": {},
   "source": [
    "# 010_037_044_045"
   ]
  },
  {
   "cell_type": "code",
   "execution_count": 7,
   "id": "aabf25f0",
   "metadata": {},
   "outputs": [
    {
     "name": "stdout",
     "output_type": "stream",
     "text": [
      "['oof_010_0.9868.csv']\n",
      "['oof_037_0.9881.csv']\n",
      "['oof_044_0.9876.csv']\n",
      "['oof_045_0.9863.csv']\n"
     ]
    }
   ],
   "source": [
    "os.makedirs('../output/ensemble', exist_ok=True)\n",
    "pref = '12'\n",
    "versions = ['010', '037', '044', '045', '046']\n",
    "coef = 1/len(versions)\n",
    "oof, sub = get_csv_results(versions, coef)"
   ]
  },
  {
   "cell_type": "code",
   "execution_count": 8,
   "id": "814c8918",
   "metadata": {},
   "outputs": [
    {
     "name": "stdout",
     "output_type": "stream",
     "text": [
      "0.9873\n",
      "../output/ensemble/12_oof_softvoting_010_037_044_045_0.9873.csv\n"
     ]
    }
   ],
   "source": [
    "# OOF \n",
    "results_oof = np.argmax(\n",
    "    oof[['conf_0', 'conf_1', 'conf_2', 'conf_3', 'conf_4',\n",
    "         'conf_5', 'conf_6', 'conf_7', 'conf_8', 'conf_9',\n",
    "         'conf_10', 'conf_11', 'conf_12', 'conf_13', 'conf_14']].values, \n",
    "    axis=1)\n",
    "\n",
    "score = f1_score(oof.target.values, results_oof, average='micro')\n",
    "print(f'{score:.4f}')\n",
    "\n",
    "sub_name = '_'.join(versions)\n",
    "print(f'../output/ensemble/{pref}_oof_softvoting_{sub_name}_{score:.4f}.csv')\n",
    "\n",
    "oof.to_csv(f'../output/ensemble/{pref}_oof_softvoting_{sub_name}_{score:.4f}.csv', index=False)"
   ]
  },
  {
   "cell_type": "code",
   "execution_count": 9,
   "id": "9816aac0",
   "metadata": {},
   "outputs": [
    {
     "name": "stdout",
     "output_type": "stream",
     "text": [
      "2200\n"
     ]
    }
   ],
   "source": [
    "# Eval\n",
    "\n",
    "results = np.argmax(\n",
    "    sub[['conf_0', 'conf_1', 'conf_2', 'conf_3', 'conf_4',\n",
    "         'conf_5', 'conf_6', 'conf_7', 'conf_8', 'conf_9',\n",
    "         'conf_10', 'conf_11', 'conf_12', 'conf_13', 'conf_14']].values, \n",
    "    axis=1)\n",
    "\n",
    "targets = []\n",
    "for i in range(len(results)):\n",
    "    targets.append(label_dict[results[i]])\n",
    "print(len(targets))\n",
    "\n",
    "sub['class'] = targets\n",
    "\n",
    "test = pd.read_csv('../input/test_with_fold.csv')\n",
    "sub['filename'] = test['filename']\n",
    "\n",
    "f'../output/ensemble/{pref}_softvoting_{sub_name}.csv'\n",
    "\n",
    "sub_name = '_'.join(versions)\n",
    "sub[['filename', 'class']].to_csv(f'../output/ensemble/{pref}_softvoting_{sub_name}.csv', index=False)"
   ]
  },
  {
   "cell_type": "markdown",
   "id": "226a9f1a",
   "metadata": {},
   "source": [
    "# Sub 010_035_037"
   ]
  },
  {
   "cell_type": "code",
   "execution_count": 4,
   "id": "9df40724",
   "metadata": {},
   "outputs": [
    {
     "name": "stdout",
     "output_type": "stream",
     "text": [
      "['oof_037_0.9881.csv']\n",
      "['oof_044_0.9876.csv']\n",
      "['oof_045_0.9863.csv']\n"
     ]
    }
   ],
   "source": [
    "os.makedirs('../output/ensemble', exist_ok=True)\n",
    "pref = '11'\n",
    "versions = ['037', '044', '045']\n",
    "coef = 1/len(versions)\n",
    "oof, sub = get_csv_results(versions, coef)"
   ]
  },
  {
   "cell_type": "code",
   "execution_count": 5,
   "id": "36f9aeec",
   "metadata": {},
   "outputs": [
    {
     "name": "stdout",
     "output_type": "stream",
     "text": [
      "0.9878\n",
      "../output/ensemble/11_oof_softvoting_037_044_045_0.9878.csv\n"
     ]
    }
   ],
   "source": [
    "# OOF \n",
    "results_oof = np.argmax(\n",
    "    oof[['conf_0', 'conf_1', 'conf_2', 'conf_3', 'conf_4',\n",
    "         'conf_5', 'conf_6', 'conf_7', 'conf_8', 'conf_9',\n",
    "         'conf_10', 'conf_11', 'conf_12', 'conf_13', 'conf_14']].values, \n",
    "    axis=1)\n",
    "\n",
    "score = f1_score(oof.target.values, results_oof, average='micro')\n",
    "print(f'{score:.4f}')\n",
    "\n",
    "sub_name = '_'.join(versions)\n",
    "print(f'../output/ensemble/{pref}_oof_softvoting_{sub_name}_{score:.4f}.csv')\n",
    "\n",
    "oof.to_csv(f'../output/ensemble/{pref}_oof_softvoting_{sub_name}_{score:.4f}.csv', index=False)"
   ]
  },
  {
   "cell_type": "code",
   "execution_count": 6,
   "id": "9416a8d1",
   "metadata": {},
   "outputs": [
    {
     "name": "stdout",
     "output_type": "stream",
     "text": [
      "2200\n"
     ]
    }
   ],
   "source": [
    "# Eval\n",
    "\n",
    "results = np.argmax(\n",
    "    sub[['conf_0', 'conf_1', 'conf_2', 'conf_3', 'conf_4',\n",
    "         'conf_5', 'conf_6', 'conf_7', 'conf_8', 'conf_9',\n",
    "         'conf_10', 'conf_11', 'conf_12', 'conf_13', 'conf_14']].values, \n",
    "    axis=1)\n",
    "\n",
    "targets = []\n",
    "for i in range(len(results)):\n",
    "    targets.append(label_dict[results[i]])\n",
    "print(len(targets))\n",
    "\n",
    "sub['class'] = targets\n",
    "\n",
    "test = pd.read_csv('../input/test_with_fold.csv')\n",
    "sub['filename'] = test['filename']\n",
    "\n",
    "f'../output/ensemble/{pref}_softvoting_{sub_name}.csv'\n",
    "\n",
    "sub_name = '_'.join(versions)\n",
    "sub[['filename', 'class']].to_csv(f'../output/ensemble/{pref}_softvoting_{sub_name}.csv', index=False)"
   ]
  },
  {
   "cell_type": "code",
   "execution_count": null,
   "id": "a0c6a2d0",
   "metadata": {},
   "outputs": [],
   "source": []
  },
  {
   "cell_type": "code",
   "execution_count": null,
   "id": "19481d8c",
   "metadata": {},
   "outputs": [],
   "source": []
  },
  {
   "cell_type": "code",
   "execution_count": null,
   "id": "7bd434d6",
   "metadata": {},
   "outputs": [],
   "source": []
  },
  {
   "cell_type": "markdown",
   "id": "7f5b4ff9",
   "metadata": {
    "heading_collapsed": true
   },
   "source": [
    "# Sub 010_035_037_039_043"
   ]
  },
  {
   "cell_type": "code",
   "execution_count": 13,
   "id": "6e9bc6b3",
   "metadata": {
    "hidden": true
   },
   "outputs": [
    {
     "name": "stdout",
     "output_type": "stream",
     "text": [
      "['oof_035_0.9861.csv']\n",
      "['oof_037_0.9881.csv']\n",
      "['oof_043_0.9816.csv']\n"
     ]
    }
   ],
   "source": [
    "os.makedirs('../output/ensemble', exist_ok=True)\n",
    "pref = '10'\n",
    "versions = ['035', '037', '043']\n",
    "coef = 1/len(versions)\n",
    "oof, sub = get_csv_results(versions, coef)"
   ]
  },
  {
   "cell_type": "code",
   "execution_count": 14,
   "id": "0c1dafb1",
   "metadata": {
    "hidden": true
   },
   "outputs": [
    {
     "name": "stdout",
     "output_type": "stream",
     "text": [
      "0.9868\n",
      "../output/ensemble/10_oof_softvoting_035_037_043_0.9868.csv\n"
     ]
    }
   ],
   "source": [
    "# OOF \n",
    "results_oof = np.argmax(\n",
    "    oof[['conf_0', 'conf_1', 'conf_2', 'conf_3', 'conf_4',\n",
    "         'conf_5', 'conf_6', 'conf_7', 'conf_8', 'conf_9',\n",
    "         'conf_10', 'conf_11', 'conf_12', 'conf_13', 'conf_14']].values, \n",
    "    axis=1)\n",
    "\n",
    "score = f1_score(oof.target.values, results_oof, average='micro')\n",
    "print(f'{score:.4f}')\n",
    "\n",
    "sub_name = '_'.join(versions)\n",
    "print(f'../output/ensemble/{pref}_oof_softvoting_{sub_name}_{score:.4f}.csv')\n",
    "\n",
    "oof.to_csv(f'../output/ensemble/{pref}_oof_softvoting_{sub_name}_{score:.4f}.csv', index=False)"
   ]
  },
  {
   "cell_type": "code",
   "execution_count": 15,
   "id": "a62e9456",
   "metadata": {
    "hidden": true
   },
   "outputs": [
    {
     "name": "stdout",
     "output_type": "stream",
     "text": [
      "2200\n"
     ]
    }
   ],
   "source": [
    "# Eval\n",
    "\n",
    "results = np.argmax(\n",
    "    sub[['conf_0', 'conf_1', 'conf_2', 'conf_3', 'conf_4',\n",
    "         'conf_5', 'conf_6', 'conf_7', 'conf_8', 'conf_9',\n",
    "         'conf_10', 'conf_11', 'conf_12', 'conf_13', 'conf_14']].values, \n",
    "    axis=1)\n",
    "\n",
    "targets = []\n",
    "for i in range(len(results)):\n",
    "    targets.append(label_dict[results[i]])\n",
    "print(len(targets))\n",
    "\n",
    "sub['class'] = targets\n",
    "\n",
    "test = pd.read_csv('../input/test_with_fold.csv')\n",
    "sub['filename'] = test['filename']\n",
    "\n",
    "f'../output/ensemble/{pref}_softvoting_{sub_name}.csv'\n",
    "\n",
    "sub_name = '_'.join(versions)\n",
    "sub[['filename', 'class']].to_csv(f'../output/ensemble/{pref}_softvoting_{sub_name}.csv', index=False)"
   ]
  },
  {
   "cell_type": "markdown",
   "id": "ea27264b",
   "metadata": {
    "heading_collapsed": true
   },
   "source": [
    "# Sub 010_035_037_039"
   ]
  },
  {
   "cell_type": "code",
   "execution_count": 7,
   "id": "8eebb9da",
   "metadata": {
    "hidden": true
   },
   "outputs": [
    {
     "name": "stdout",
     "output_type": "stream",
     "text": [
      "['oof_035_0.9861.csv']\n",
      "['oof_037_0.9881.csv']\n",
      "['oof_039_0.9846.csv']\n"
     ]
    }
   ],
   "source": [
    "os.makedirs('../output/ensemble', exist_ok=True)\n",
    "pref = '09'\n",
    "versions = ['035', '037', '039']\n",
    "coef = 1/len(versions)\n",
    "oof, sub = get_csv_results(versions, coef)"
   ]
  },
  {
   "cell_type": "code",
   "execution_count": 8,
   "id": "fb06712e",
   "metadata": {
    "hidden": true
   },
   "outputs": [
    {
     "name": "stdout",
     "output_type": "stream",
     "text": [
      "0.9871\n",
      "../output/ensemble/09_oof_softvoting_035_037_039_0.9871.csv\n"
     ]
    }
   ],
   "source": [
    "# OOF \n",
    "results_oof = np.argmax(\n",
    "    oof[['conf_0', 'conf_1', 'conf_2', 'conf_3', 'conf_4',\n",
    "         'conf_5', 'conf_6', 'conf_7', 'conf_8', 'conf_9',\n",
    "         'conf_10', 'conf_11', 'conf_12', 'conf_13', 'conf_14']].values, \n",
    "    axis=1)\n",
    "\n",
    "score = f1_score(oof.target.values, results_oof, average='micro')\n",
    "print(f'{score:.4f}')\n",
    "\n",
    "sub_name = '_'.join(versions)\n",
    "print(f'../output/ensemble/{pref}_oof_softvoting_{sub_name}_{score:.4f}.csv')\n",
    "\n",
    "oof.to_csv(f'../output/ensemble/{pref}_oof_softvoting_{sub_name}_{score:.4f}.csv', index=False)"
   ]
  },
  {
   "cell_type": "code",
   "execution_count": 9,
   "id": "a0be1e7e",
   "metadata": {
    "hidden": true
   },
   "outputs": [
    {
     "name": "stdout",
     "output_type": "stream",
     "text": [
      "2200\n"
     ]
    }
   ],
   "source": [
    "# Eval\n",
    "\n",
    "results = np.argmax(\n",
    "    sub[['conf_0', 'conf_1', 'conf_2', 'conf_3', 'conf_4',\n",
    "         'conf_5', 'conf_6', 'conf_7', 'conf_8', 'conf_9',\n",
    "         'conf_10', 'conf_11', 'conf_12', 'conf_13', 'conf_14']].values, \n",
    "    axis=1)\n",
    "\n",
    "targets = []\n",
    "for i in range(len(results)):\n",
    "    targets.append(label_dict[results[i]])\n",
    "print(len(targets))\n",
    "\n",
    "sub['class'] = targets\n",
    "\n",
    "test = pd.read_csv('../input/test_with_fold.csv')\n",
    "sub['filename'] = test['filename']\n",
    "\n",
    "f'../output/ensemble/{pref}_softvoting_{sub_name}.csv'\n",
    "\n",
    "sub_name = '_'.join(versions)\n",
    "sub[['filename', 'class']].to_csv(f'../output/ensemble/{pref}_softvoting_{sub_name}.csv', index=False)"
   ]
  },
  {
   "cell_type": "markdown",
   "id": "1523a2fe",
   "metadata": {
    "heading_collapsed": true
   },
   "source": [
    "# Sub_035_037"
   ]
  },
  {
   "cell_type": "code",
   "execution_count": 48,
   "id": "b17c3fea",
   "metadata": {
    "hidden": true
   },
   "outputs": [
    {
     "name": "stdout",
     "output_type": "stream",
     "text": [
      "['oof_035_0.9861.csv']\n",
      "['oof_037_0.9881.csv']\n"
     ]
    }
   ],
   "source": [
    "os.makedirs('../output/ensemble', exist_ok=True)\n",
    "pref = '08'\n",
    "versions = ['035', '037']\n",
    "coef = 1/len(versions)\n",
    "oof, sub = get_csv_results(versions, coef)"
   ]
  },
  {
   "cell_type": "code",
   "execution_count": 49,
   "id": "f31fc7cf",
   "metadata": {
    "hidden": true
   },
   "outputs": [
    {
     "name": "stdout",
     "output_type": "stream",
     "text": [
      "0.9871\n",
      "../output/ensemble/08_oof_softvoting_035_037_0.9871.csv\n"
     ]
    }
   ],
   "source": [
    "# OOF \n",
    "results_oof = np.argmax(\n",
    "    oof[['conf_0', 'conf_1', 'conf_2', 'conf_3', 'conf_4',\n",
    "         'conf_5', 'conf_6', 'conf_7', 'conf_8', 'conf_9',\n",
    "         'conf_10', 'conf_11', 'conf_12', 'conf_13', 'conf_14']].values, \n",
    "    axis=1)\n",
    "\n",
    "score = f1_score(oof.target.values, results_oof, average='micro')\n",
    "print(f'{score:.4f}')\n",
    "\n",
    "sub_name = '_'.join(versions)\n",
    "print(f'../output/ensemble/{pref}_oof_softvoting_{sub_name}_{score:.4f}.csv')\n",
    "\n",
    "oof.to_csv(f'../output/ensemble/{pref}_oof_softvoting_{sub_name}_{score:.4f}.csv', index=False)"
   ]
  },
  {
   "cell_type": "code",
   "execution_count": 50,
   "id": "4dfb7c51",
   "metadata": {
    "hidden": true
   },
   "outputs": [
    {
     "name": "stdout",
     "output_type": "stream",
     "text": [
      "2200\n"
     ]
    }
   ],
   "source": [
    "# Eval\n",
    "\n",
    "results = np.argmax(\n",
    "    sub[['conf_0', 'conf_1', 'conf_2', 'conf_3', 'conf_4',\n",
    "         'conf_5', 'conf_6', 'conf_7', 'conf_8', 'conf_9',\n",
    "         'conf_10', 'conf_11', 'conf_12', 'conf_13', 'conf_14']].values, \n",
    "    axis=1)\n",
    "\n",
    "targets = []\n",
    "for i in range(len(results)):\n",
    "    targets.append(label_dict[results[i]])\n",
    "print(len(targets))\n",
    "\n",
    "sub['class'] = targets\n",
    "\n",
    "test = pd.read_csv('../input/test_with_fold.csv')\n",
    "sub['filename'] = test['filename']\n",
    "\n",
    "f'../output/ensemble/{pref}_softvoting_{sub_name}.csv'\n",
    "\n",
    "sub_name = '_'.join(versions)\n",
    "sub[['filename', 'class']].to_csv(f'../output/ensemble/{pref}_softvoting_{sub_name}.csv', index=False)"
   ]
  },
  {
   "cell_type": "markdown",
   "id": "bcd3d3be",
   "metadata": {
    "heading_collapsed": true
   },
   "source": [
    "# Sub_010_035_037"
   ]
  },
  {
   "cell_type": "code",
   "execution_count": 30,
   "id": "549f69e4",
   "metadata": {
    "hidden": true
   },
   "outputs": [],
   "source": [
    "os.makedirs('../output/ensemble', exist_ok=True)\n",
    "pref = '07'\n",
    "versions = ['010', '035', '037']\n",
    "coef = 1/len(versions)"
   ]
  },
  {
   "cell_type": "code",
   "execution_count": 31,
   "id": "a90165b5",
   "metadata": {
    "hidden": true
   },
   "outputs": [
    {
     "name": "stdout",
     "output_type": "stream",
     "text": [
      "['oof_010_0.9868.csv']\n",
      "['oof_035_0.9861.csv']\n",
      "['oof_037_0.9881.csv']\n"
     ]
    }
   ],
   "source": [
    "oof, sub = get_csv_results(versions, coef)"
   ]
  },
  {
   "cell_type": "markdown",
   "id": "0e449658",
   "metadata": {
    "hidden": true
   },
   "source": [
    "## oof"
   ]
  },
  {
   "cell_type": "code",
   "execution_count": 32,
   "id": "33af103d",
   "metadata": {
    "hidden": true
   },
   "outputs": [],
   "source": [
    "results_oof = np.argmax(\n",
    "    oof[['conf_0', 'conf_1', 'conf_2', 'conf_3', 'conf_4',\n",
    "         'conf_5', 'conf_6', 'conf_7', 'conf_8', 'conf_9',\n",
    "         'conf_10', 'conf_11', 'conf_12', 'conf_13', 'conf_14']].values, \n",
    "    axis=1)"
   ]
  },
  {
   "cell_type": "code",
   "execution_count": 33,
   "id": "de4368b1",
   "metadata": {
    "hidden": true
   },
   "outputs": [
    {
     "name": "stdout",
     "output_type": "stream",
     "text": [
      "0.9873\n"
     ]
    }
   ],
   "source": [
    "score = f1_score(oof.target.values, results_oof, average='micro')\n",
    "print(f'{score:.4f}')"
   ]
  },
  {
   "cell_type": "code",
   "execution_count": 34,
   "id": "fa23e7fc",
   "metadata": {
    "hidden": true
   },
   "outputs": [
    {
     "name": "stdout",
     "output_type": "stream",
     "text": [
      "../output/ensemble/07_oof_softvoting_010_035_037_0.9873.csv\n"
     ]
    }
   ],
   "source": [
    "sub_name = '_'.join(versions)\n",
    "print(f'../output/ensemble/{pref}_oof_softvoting_{sub_name}_{score:.4f}.csv')"
   ]
  },
  {
   "cell_type": "code",
   "execution_count": 35,
   "id": "9767d005",
   "metadata": {
    "hidden": true
   },
   "outputs": [],
   "source": [
    "oof.to_csv(f'../output/ensemble/{pref}_oof_softvoting_{sub_name}_{score:.4f}.csv', index=False)"
   ]
  },
  {
   "cell_type": "markdown",
   "id": "4938d9ab",
   "metadata": {
    "hidden": true
   },
   "source": [
    "## eval"
   ]
  },
  {
   "cell_type": "code",
   "execution_count": 38,
   "id": "c49e9edf",
   "metadata": {
    "hidden": true
   },
   "outputs": [],
   "source": [
    "results = np.argmax(\n",
    "    sub[['conf_0', 'conf_1', 'conf_2', 'conf_3', 'conf_4',\n",
    "         'conf_5', 'conf_6', 'conf_7', 'conf_8', 'conf_9',\n",
    "         'conf_10', 'conf_11', 'conf_12', 'conf_13', 'conf_14']].values, \n",
    "    axis=1)"
   ]
  },
  {
   "cell_type": "code",
   "execution_count": 39,
   "id": "feb8daad",
   "metadata": {
    "hidden": true
   },
   "outputs": [
    {
     "name": "stdout",
     "output_type": "stream",
     "text": [
      "2200\n"
     ]
    }
   ],
   "source": [
    "targets = []\n",
    "for i in range(len(results)):\n",
    "    targets.append(label_dict[results[i]])\n",
    "print(len(targets))"
   ]
  },
  {
   "cell_type": "code",
   "execution_count": 40,
   "id": "1828a5b3",
   "metadata": {
    "hidden": true
   },
   "outputs": [],
   "source": [
    "sub['class'] = targets"
   ]
  },
  {
   "cell_type": "code",
   "execution_count": 41,
   "id": "6f219cdc",
   "metadata": {
    "hidden": true
   },
   "outputs": [],
   "source": [
    "test = pd.read_csv('../input/test_with_fold.csv')\n",
    "sub['filename'] = test['filename']"
   ]
  },
  {
   "cell_type": "code",
   "execution_count": 42,
   "id": "f89ada77",
   "metadata": {
    "hidden": true
   },
   "outputs": [
    {
     "data": {
      "text/plain": [
       "'../output/ensemble/07_softvoting_010_035_037.csv'"
      ]
     },
     "execution_count": 42,
     "metadata": {},
     "output_type": "execute_result"
    }
   ],
   "source": [
    "f'../output/ensemble/{pref}_softvoting_{sub_name}.csv'"
   ]
  },
  {
   "cell_type": "code",
   "execution_count": 43,
   "id": "1c0b55b9",
   "metadata": {
    "hidden": true
   },
   "outputs": [],
   "source": [
    "sub_name = '_'.join(versions)\n",
    "sub[['filename', 'class']].to_csv(f'../output/ensemble/{pref}_softvoting_{sub_name}.csv', index=False)"
   ]
  },
  {
   "cell_type": "markdown",
   "id": "820818f0",
   "metadata": {
    "heading_collapsed": true
   },
   "source": [
    "# Sub_010_035"
   ]
  },
  {
   "cell_type": "code",
   "execution_count": 12,
   "id": "7d74f549",
   "metadata": {
    "hidden": true
   },
   "outputs": [],
   "source": [
    "os.makedirs('../output/ensemble', exist_ok=True)\n",
    "pref = '06'\n",
    "versions = ['010', '035']\n",
    "coef = 1/len(versions)"
   ]
  },
  {
   "cell_type": "code",
   "execution_count": 13,
   "id": "97305850",
   "metadata": {
    "hidden": true
   },
   "outputs": [
    {
     "name": "stdout",
     "output_type": "stream",
     "text": [
      "['oof_010_0.9868.csv']\n",
      "['oof_035_0.9861.csv']\n"
     ]
    }
   ],
   "source": [
    "oof, sub = get_csv_results(versions, coef)"
   ]
  },
  {
   "cell_type": "code",
   "execution_count": 9,
   "id": "cccdd874",
   "metadata": {
    "hidden": true,
    "scrolled": true
   },
   "outputs": [
    {
     "data": {
      "text/html": [
       "<div>\n",
       "<style scoped>\n",
       "    .dataframe tbody tr th:only-of-type {\n",
       "        vertical-align: middle;\n",
       "    }\n",
       "\n",
       "    .dataframe tbody tr th {\n",
       "        vertical-align: top;\n",
       "    }\n",
       "\n",
       "    .dataframe thead th {\n",
       "        text-align: right;\n",
       "    }\n",
       "</style>\n",
       "<table border=\"1\" class=\"dataframe\">\n",
       "  <thead>\n",
       "    <tr style=\"text-align: right;\">\n",
       "      <th></th>\n",
       "      <th>filename</th>\n",
       "      <th>Xmin_Ymin_Xmax_Ymax</th>\n",
       "      <th>class</th>\n",
       "      <th>filename_trim</th>\n",
       "      <th>fold</th>\n",
       "      <th>target</th>\n",
       "      <th>pred</th>\n",
       "      <th>conf_0</th>\n",
       "      <th>conf_1</th>\n",
       "      <th>conf_2</th>\n",
       "      <th>...</th>\n",
       "      <th>conf_7</th>\n",
       "      <th>conf_8</th>\n",
       "      <th>conf_9</th>\n",
       "      <th>conf_10</th>\n",
       "      <th>conf_11</th>\n",
       "      <th>conf_12</th>\n",
       "      <th>conf_13</th>\n",
       "      <th>conf_14</th>\n",
       "      <th>pred_0</th>\n",
       "      <th>pred_1</th>\n",
       "    </tr>\n",
       "  </thead>\n",
       "  <tbody>\n",
       "    <tr>\n",
       "      <th>0</th>\n",
       "      <td>00037f39.jpg</td>\n",
       "      <td>NaN</td>\n",
       "      <td>Lightning</td>\n",
       "      <td>00037f39_trim.jpg</td>\n",
       "      <td>1</td>\n",
       "      <td>3</td>\n",
       "      <td>3</td>\n",
       "      <td>0.000948</td>\n",
       "      <td>0.000957</td>\n",
       "      <td>0.000264</td>\n",
       "      <td>...</td>\n",
       "      <td>0.000643</td>\n",
       "      <td>0.009613</td>\n",
       "      <td>0.000388</td>\n",
       "      <td>0.000188</td>\n",
       "      <td>0.000740</td>\n",
       "      <td>0.000671</td>\n",
       "      <td>0.000176</td>\n",
       "      <td>0.000117</td>\n",
       "      <td>3</td>\n",
       "      <td>3</td>\n",
       "    </tr>\n",
       "    <tr>\n",
       "      <th>1</th>\n",
       "      <td>000c15d0.jpg</td>\n",
       "      <td>[906, 1686, 1294, 1946]</td>\n",
       "      <td>USB_Type_C</td>\n",
       "      <td>NaN</td>\n",
       "      <td>2</td>\n",
       "      <td>8</td>\n",
       "      <td>8</td>\n",
       "      <td>0.000104</td>\n",
       "      <td>0.000172</td>\n",
       "      <td>0.000181</td>\n",
       "      <td>...</td>\n",
       "      <td>0.000846</td>\n",
       "      <td>0.996338</td>\n",
       "      <td>0.000126</td>\n",
       "      <td>0.000067</td>\n",
       "      <td>0.000153</td>\n",
       "      <td>0.000060</td>\n",
       "      <td>0.000063</td>\n",
       "      <td>0.000047</td>\n",
       "      <td>8</td>\n",
       "      <td>8</td>\n",
       "    </tr>\n",
       "    <tr>\n",
       "      <th>2</th>\n",
       "      <td>000f21ac.jpg</td>\n",
       "      <td>NaN</td>\n",
       "      <td>USB_Type_C</td>\n",
       "      <td>000f21ac_trim.jpg</td>\n",
       "      <td>3</td>\n",
       "      <td>8</td>\n",
       "      <td>8</td>\n",
       "      <td>0.000309</td>\n",
       "      <td>0.000263</td>\n",
       "      <td>0.000650</td>\n",
       "      <td>...</td>\n",
       "      <td>0.000826</td>\n",
       "      <td>0.974365</td>\n",
       "      <td>0.000213</td>\n",
       "      <td>0.000076</td>\n",
       "      <td>0.001708</td>\n",
       "      <td>0.000290</td>\n",
       "      <td>0.000717</td>\n",
       "      <td>0.000778</td>\n",
       "      <td>8</td>\n",
       "      <td>8</td>\n",
       "    </tr>\n",
       "    <tr>\n",
       "      <th>3</th>\n",
       "      <td>0013fa17.jpg</td>\n",
       "      <td>[1458, 1756, 2304, 2602]</td>\n",
       "      <td>DisplayPort</td>\n",
       "      <td>NaN</td>\n",
       "      <td>0</td>\n",
       "      <td>14</td>\n",
       "      <td>14</td>\n",
       "      <td>0.000317</td>\n",
       "      <td>0.000320</td>\n",
       "      <td>0.000358</td>\n",
       "      <td>...</td>\n",
       "      <td>0.003200</td>\n",
       "      <td>0.001556</td>\n",
       "      <td>0.000212</td>\n",
       "      <td>0.000129</td>\n",
       "      <td>0.000234</td>\n",
       "      <td>0.000104</td>\n",
       "      <td>0.000359</td>\n",
       "      <td>0.989502</td>\n",
       "      <td>14</td>\n",
       "      <td>14</td>\n",
       "    </tr>\n",
       "    <tr>\n",
       "      <th>4</th>\n",
       "      <td>00150bc1.jpg</td>\n",
       "      <td>[1181, 1692, 1658, 1985]</td>\n",
       "      <td>USB_Type_C</td>\n",
       "      <td>NaN</td>\n",
       "      <td>2</td>\n",
       "      <td>8</td>\n",
       "      <td>8</td>\n",
       "      <td>0.000159</td>\n",
       "      <td>0.000261</td>\n",
       "      <td>0.000205</td>\n",
       "      <td>...</td>\n",
       "      <td>0.000346</td>\n",
       "      <td>0.994873</td>\n",
       "      <td>0.000062</td>\n",
       "      <td>0.000078</td>\n",
       "      <td>0.000154</td>\n",
       "      <td>0.000054</td>\n",
       "      <td>0.000153</td>\n",
       "      <td>0.000140</td>\n",
       "      <td>8</td>\n",
       "      <td>8</td>\n",
       "    </tr>\n",
       "  </tbody>\n",
       "</table>\n",
       "<p>5 rows × 24 columns</p>\n",
       "</div>"
      ],
      "text/plain": [
       "       filename       Xmin_Ymin_Xmax_Ymax        class      filename_trim  \\\n",
       "0  00037f39.jpg                       NaN    Lightning  00037f39_trim.jpg   \n",
       "1  000c15d0.jpg   [906, 1686, 1294, 1946]   USB_Type_C                NaN   \n",
       "2  000f21ac.jpg                       NaN   USB_Type_C  000f21ac_trim.jpg   \n",
       "3  0013fa17.jpg  [1458, 1756, 2304, 2602]  DisplayPort                NaN   \n",
       "4  00150bc1.jpg  [1181, 1692, 1658, 1985]   USB_Type_C                NaN   \n",
       "\n",
       "   fold  target  pred    conf_0    conf_1    conf_2  ...    conf_7    conf_8  \\\n",
       "0     1       3     3  0.000948  0.000957  0.000264  ...  0.000643  0.009613   \n",
       "1     2       8     8  0.000104  0.000172  0.000181  ...  0.000846  0.996338   \n",
       "2     3       8     8  0.000309  0.000263  0.000650  ...  0.000826  0.974365   \n",
       "3     0      14    14  0.000317  0.000320  0.000358  ...  0.003200  0.001556   \n",
       "4     2       8     8  0.000159  0.000261  0.000205  ...  0.000346  0.994873   \n",
       "\n",
       "     conf_9   conf_10   conf_11   conf_12   conf_13   conf_14  pred_0  pred_1  \n",
       "0  0.000388  0.000188  0.000740  0.000671  0.000176  0.000117       3       3  \n",
       "1  0.000126  0.000067  0.000153  0.000060  0.000063  0.000047       8       8  \n",
       "2  0.000213  0.000076  0.001708  0.000290  0.000717  0.000778       8       8  \n",
       "3  0.000212  0.000129  0.000234  0.000104  0.000359  0.989502      14      14  \n",
       "4  0.000062  0.000078  0.000154  0.000054  0.000153  0.000140       8       8  \n",
       "\n",
       "[5 rows x 24 columns]"
      ]
     },
     "execution_count": 9,
     "metadata": {},
     "output_type": "execute_result"
    }
   ],
   "source": [
    "oof.head()"
   ]
  },
  {
   "cell_type": "code",
   "execution_count": 10,
   "id": "0ea9df05",
   "metadata": {
    "hidden": true,
    "scrolled": false
   },
   "outputs": [
    {
     "data": {
      "text/html": [
       "<div>\n",
       "<style scoped>\n",
       "    .dataframe tbody tr th:only-of-type {\n",
       "        vertical-align: middle;\n",
       "    }\n",
       "\n",
       "    .dataframe tbody tr th {\n",
       "        vertical-align: top;\n",
       "    }\n",
       "\n",
       "    .dataframe thead th {\n",
       "        text-align: right;\n",
       "    }\n",
       "</style>\n",
       "<table border=\"1\" class=\"dataframe\">\n",
       "  <thead>\n",
       "    <tr style=\"text-align: right;\">\n",
       "      <th></th>\n",
       "      <th>target</th>\n",
       "      <th>conf_0</th>\n",
       "      <th>conf_1</th>\n",
       "      <th>conf_2</th>\n",
       "      <th>conf_3</th>\n",
       "      <th>conf_4</th>\n",
       "      <th>conf_5</th>\n",
       "      <th>conf_6</th>\n",
       "      <th>conf_7</th>\n",
       "      <th>conf_8</th>\n",
       "      <th>conf_9</th>\n",
       "      <th>conf_10</th>\n",
       "      <th>conf_11</th>\n",
       "      <th>conf_12</th>\n",
       "      <th>conf_13</th>\n",
       "      <th>conf_14</th>\n",
       "      <th>pred_0</th>\n",
       "      <th>pred_1</th>\n",
       "    </tr>\n",
       "  </thead>\n",
       "  <tbody>\n",
       "    <tr>\n",
       "      <th>0</th>\n",
       "      <td>8</td>\n",
       "      <td>0.001583</td>\n",
       "      <td>0.002254</td>\n",
       "      <td>0.001608</td>\n",
       "      <td>0.000973</td>\n",
       "      <td>0.007525</td>\n",
       "      <td>0.000442</td>\n",
       "      <td>0.000784</td>\n",
       "      <td>0.001472</td>\n",
       "      <td>0.977197</td>\n",
       "      <td>0.001047</td>\n",
       "      <td>0.000110</td>\n",
       "      <td>0.001534</td>\n",
       "      <td>0.000158</td>\n",
       "      <td>0.002414</td>\n",
       "      <td>0.000983</td>\n",
       "      <td>8</td>\n",
       "      <td>8</td>\n",
       "    </tr>\n",
       "    <tr>\n",
       "      <th>1</th>\n",
       "      <td>4</td>\n",
       "      <td>0.000167</td>\n",
       "      <td>0.003869</td>\n",
       "      <td>0.000085</td>\n",
       "      <td>0.001792</td>\n",
       "      <td>0.989258</td>\n",
       "      <td>0.000584</td>\n",
       "      <td>0.000192</td>\n",
       "      <td>0.000957</td>\n",
       "      <td>0.000861</td>\n",
       "      <td>0.000242</td>\n",
       "      <td>0.000552</td>\n",
       "      <td>0.000302</td>\n",
       "      <td>0.000546</td>\n",
       "      <td>0.000261</td>\n",
       "      <td>0.000296</td>\n",
       "      <td>4</td>\n",
       "      <td>4</td>\n",
       "    </tr>\n",
       "    <tr>\n",
       "      <th>2</th>\n",
       "      <td>8</td>\n",
       "      <td>0.000275</td>\n",
       "      <td>0.000685</td>\n",
       "      <td>0.000103</td>\n",
       "      <td>0.002518</td>\n",
       "      <td>0.012073</td>\n",
       "      <td>0.000149</td>\n",
       "      <td>0.000126</td>\n",
       "      <td>0.001634</td>\n",
       "      <td>0.981152</td>\n",
       "      <td>0.000066</td>\n",
       "      <td>0.000127</td>\n",
       "      <td>0.000228</td>\n",
       "      <td>0.000642</td>\n",
       "      <td>0.000171</td>\n",
       "      <td>0.000075</td>\n",
       "      <td>8</td>\n",
       "      <td>8</td>\n",
       "    </tr>\n",
       "    <tr>\n",
       "      <th>3</th>\n",
       "      <td>4</td>\n",
       "      <td>0.000951</td>\n",
       "      <td>0.000686</td>\n",
       "      <td>0.000363</td>\n",
       "      <td>0.006087</td>\n",
       "      <td>0.956152</td>\n",
       "      <td>0.000556</td>\n",
       "      <td>0.000292</td>\n",
       "      <td>0.001420</td>\n",
       "      <td>0.011992</td>\n",
       "      <td>0.000237</td>\n",
       "      <td>0.000339</td>\n",
       "      <td>0.000594</td>\n",
       "      <td>0.019616</td>\n",
       "      <td>0.000577</td>\n",
       "      <td>0.000216</td>\n",
       "      <td>4</td>\n",
       "      <td>4</td>\n",
       "    </tr>\n",
       "    <tr>\n",
       "      <th>4</th>\n",
       "      <td>1</td>\n",
       "      <td>0.000954</td>\n",
       "      <td>0.984180</td>\n",
       "      <td>0.000058</td>\n",
       "      <td>0.002063</td>\n",
       "      <td>0.006342</td>\n",
       "      <td>0.000847</td>\n",
       "      <td>0.000140</td>\n",
       "      <td>0.001433</td>\n",
       "      <td>0.003198</td>\n",
       "      <td>0.000064</td>\n",
       "      <td>0.000252</td>\n",
       "      <td>0.000188</td>\n",
       "      <td>0.000114</td>\n",
       "      <td>0.000140</td>\n",
       "      <td>0.000040</td>\n",
       "      <td>1</td>\n",
       "      <td>1</td>\n",
       "    </tr>\n",
       "  </tbody>\n",
       "</table>\n",
       "</div>"
      ],
      "text/plain": [
       "   target    conf_0    conf_1    conf_2    conf_3    conf_4    conf_5  \\\n",
       "0       8  0.001583  0.002254  0.001608  0.000973  0.007525  0.000442   \n",
       "1       4  0.000167  0.003869  0.000085  0.001792  0.989258  0.000584   \n",
       "2       8  0.000275  0.000685  0.000103  0.002518  0.012073  0.000149   \n",
       "3       4  0.000951  0.000686  0.000363  0.006087  0.956152  0.000556   \n",
       "4       1  0.000954  0.984180  0.000058  0.002063  0.006342  0.000847   \n",
       "\n",
       "     conf_6    conf_7    conf_8    conf_9   conf_10   conf_11   conf_12  \\\n",
       "0  0.000784  0.001472  0.977197  0.001047  0.000110  0.001534  0.000158   \n",
       "1  0.000192  0.000957  0.000861  0.000242  0.000552  0.000302  0.000546   \n",
       "2  0.000126  0.001634  0.981152  0.000066  0.000127  0.000228  0.000642   \n",
       "3  0.000292  0.001420  0.011992  0.000237  0.000339  0.000594  0.019616   \n",
       "4  0.000140  0.001433  0.003198  0.000064  0.000252  0.000188  0.000114   \n",
       "\n",
       "    conf_13   conf_14  pred_0  pred_1  \n",
       "0  0.002414  0.000983       8       8  \n",
       "1  0.000261  0.000296       4       4  \n",
       "2  0.000171  0.000075       8       8  \n",
       "3  0.000577  0.000216       4       4  \n",
       "4  0.000140  0.000040       1       1  "
      ]
     },
     "execution_count": 10,
     "metadata": {},
     "output_type": "execute_result"
    }
   ],
   "source": [
    "sub.head()"
   ]
  },
  {
   "cell_type": "code",
   "execution_count": 11,
   "id": "9d79ad98",
   "metadata": {
    "hidden": true,
    "scrolled": true
   },
   "outputs": [
    {
     "data": {
      "text/html": [
       "<div>\n",
       "<style scoped>\n",
       "    .dataframe tbody tr th:only-of-type {\n",
       "        vertical-align: middle;\n",
       "    }\n",
       "\n",
       "    .dataframe tbody tr th {\n",
       "        vertical-align: top;\n",
       "    }\n",
       "\n",
       "    .dataframe thead th {\n",
       "        text-align: right;\n",
       "    }\n",
       "</style>\n",
       "<table border=\"1\" class=\"dataframe\">\n",
       "  <thead>\n",
       "    <tr style=\"text-align: right;\">\n",
       "      <th></th>\n",
       "      <th>conf_0</th>\n",
       "      <th>conf_1</th>\n",
       "      <th>conf_2</th>\n",
       "      <th>conf_3</th>\n",
       "      <th>conf_4</th>\n",
       "      <th>conf_5</th>\n",
       "      <th>conf_6</th>\n",
       "      <th>conf_7</th>\n",
       "      <th>conf_8</th>\n",
       "      <th>conf_9</th>\n",
       "      <th>conf_10</th>\n",
       "      <th>conf_11</th>\n",
       "      <th>conf_12</th>\n",
       "      <th>conf_13</th>\n",
       "      <th>conf_14</th>\n",
       "    </tr>\n",
       "  </thead>\n",
       "  <tbody>\n",
       "    <tr>\n",
       "      <th>0</th>\n",
       "      <td>0.000948</td>\n",
       "      <td>0.000957</td>\n",
       "      <td>0.000264</td>\n",
       "      <td>0.957275</td>\n",
       "      <td>0.026875</td>\n",
       "      <td>0.000803</td>\n",
       "      <td>0.000382</td>\n",
       "      <td>0.000643</td>\n",
       "      <td>0.009613</td>\n",
       "      <td>0.000388</td>\n",
       "      <td>0.000188</td>\n",
       "      <td>0.000740</td>\n",
       "      <td>0.000671</td>\n",
       "      <td>0.000176</td>\n",
       "      <td>0.000117</td>\n",
       "    </tr>\n",
       "    <tr>\n",
       "      <th>1</th>\n",
       "      <td>0.000104</td>\n",
       "      <td>0.000172</td>\n",
       "      <td>0.000181</td>\n",
       "      <td>0.000471</td>\n",
       "      <td>0.001351</td>\n",
       "      <td>0.000065</td>\n",
       "      <td>0.000073</td>\n",
       "      <td>0.000846</td>\n",
       "      <td>0.996338</td>\n",
       "      <td>0.000126</td>\n",
       "      <td>0.000067</td>\n",
       "      <td>0.000153</td>\n",
       "      <td>0.000060</td>\n",
       "      <td>0.000063</td>\n",
       "      <td>0.000047</td>\n",
       "    </tr>\n",
       "    <tr>\n",
       "      <th>2</th>\n",
       "      <td>0.000309</td>\n",
       "      <td>0.000263</td>\n",
       "      <td>0.000650</td>\n",
       "      <td>0.014231</td>\n",
       "      <td>0.004378</td>\n",
       "      <td>0.001136</td>\n",
       "      <td>0.000227</td>\n",
       "      <td>0.000826</td>\n",
       "      <td>0.974365</td>\n",
       "      <td>0.000213</td>\n",
       "      <td>0.000076</td>\n",
       "      <td>0.001708</td>\n",
       "      <td>0.000290</td>\n",
       "      <td>0.000717</td>\n",
       "      <td>0.000778</td>\n",
       "    </tr>\n",
       "    <tr>\n",
       "      <th>3</th>\n",
       "      <td>0.000317</td>\n",
       "      <td>0.000320</td>\n",
       "      <td>0.000358</td>\n",
       "      <td>0.000429</td>\n",
       "      <td>0.002219</td>\n",
       "      <td>0.000153</td>\n",
       "      <td>0.000853</td>\n",
       "      <td>0.003200</td>\n",
       "      <td>0.001556</td>\n",
       "      <td>0.000212</td>\n",
       "      <td>0.000129</td>\n",
       "      <td>0.000234</td>\n",
       "      <td>0.000104</td>\n",
       "      <td>0.000359</td>\n",
       "      <td>0.989502</td>\n",
       "    </tr>\n",
       "    <tr>\n",
       "      <th>4</th>\n",
       "      <td>0.000159</td>\n",
       "      <td>0.000261</td>\n",
       "      <td>0.000205</td>\n",
       "      <td>0.000800</td>\n",
       "      <td>0.001563</td>\n",
       "      <td>0.000978</td>\n",
       "      <td>0.000142</td>\n",
       "      <td>0.000346</td>\n",
       "      <td>0.994873</td>\n",
       "      <td>0.000062</td>\n",
       "      <td>0.000078</td>\n",
       "      <td>0.000154</td>\n",
       "      <td>0.000054</td>\n",
       "      <td>0.000153</td>\n",
       "      <td>0.000140</td>\n",
       "    </tr>\n",
       "    <tr>\n",
       "      <th>...</th>\n",
       "      <td>...</td>\n",
       "      <td>...</td>\n",
       "      <td>...</td>\n",
       "      <td>...</td>\n",
       "      <td>...</td>\n",
       "      <td>...</td>\n",
       "      <td>...</td>\n",
       "      <td>...</td>\n",
       "      <td>...</td>\n",
       "      <td>...</td>\n",
       "      <td>...</td>\n",
       "      <td>...</td>\n",
       "      <td>...</td>\n",
       "      <td>...</td>\n",
       "      <td>...</td>\n",
       "    </tr>\n",
       "    <tr>\n",
       "      <th>4014</th>\n",
       "      <td>0.000417</td>\n",
       "      <td>0.001222</td>\n",
       "      <td>0.000212</td>\n",
       "      <td>0.011378</td>\n",
       "      <td>0.970703</td>\n",
       "      <td>0.000451</td>\n",
       "      <td>0.001281</td>\n",
       "      <td>0.006779</td>\n",
       "      <td>0.002911</td>\n",
       "      <td>0.000423</td>\n",
       "      <td>0.000382</td>\n",
       "      <td>0.000418</td>\n",
       "      <td>0.000498</td>\n",
       "      <td>0.002146</td>\n",
       "      <td>0.000822</td>\n",
       "    </tr>\n",
       "    <tr>\n",
       "      <th>4015</th>\n",
       "      <td>0.000039</td>\n",
       "      <td>0.000202</td>\n",
       "      <td>0.000051</td>\n",
       "      <td>0.996826</td>\n",
       "      <td>0.001033</td>\n",
       "      <td>0.000051</td>\n",
       "      <td>0.000042</td>\n",
       "      <td>0.000134</td>\n",
       "      <td>0.001335</td>\n",
       "      <td>0.000039</td>\n",
       "      <td>0.000026</td>\n",
       "      <td>0.000119</td>\n",
       "      <td>0.000036</td>\n",
       "      <td>0.000026</td>\n",
       "      <td>0.000025</td>\n",
       "    </tr>\n",
       "    <tr>\n",
       "      <th>4016</th>\n",
       "      <td>0.000738</td>\n",
       "      <td>0.001576</td>\n",
       "      <td>0.000959</td>\n",
       "      <td>0.003708</td>\n",
       "      <td>0.006906</td>\n",
       "      <td>0.001628</td>\n",
       "      <td>0.968018</td>\n",
       "      <td>0.001507</td>\n",
       "      <td>0.006347</td>\n",
       "      <td>0.002285</td>\n",
       "      <td>0.000361</td>\n",
       "      <td>0.000924</td>\n",
       "      <td>0.001000</td>\n",
       "      <td>0.001117</td>\n",
       "      <td>0.002901</td>\n",
       "    </tr>\n",
       "    <tr>\n",
       "      <th>4017</th>\n",
       "      <td>0.000429</td>\n",
       "      <td>0.001225</td>\n",
       "      <td>0.000151</td>\n",
       "      <td>0.977783</td>\n",
       "      <td>0.006881</td>\n",
       "      <td>0.000555</td>\n",
       "      <td>0.000484</td>\n",
       "      <td>0.003722</td>\n",
       "      <td>0.004078</td>\n",
       "      <td>0.000135</td>\n",
       "      <td>0.000071</td>\n",
       "      <td>0.000471</td>\n",
       "      <td>0.003755</td>\n",
       "      <td>0.000227</td>\n",
       "      <td>0.000139</td>\n",
       "    </tr>\n",
       "    <tr>\n",
       "      <th>4018</th>\n",
       "      <td>0.001641</td>\n",
       "      <td>0.004064</td>\n",
       "      <td>0.001446</td>\n",
       "      <td>0.139987</td>\n",
       "      <td>0.838623</td>\n",
       "      <td>0.000556</td>\n",
       "      <td>0.000964</td>\n",
       "      <td>0.000727</td>\n",
       "      <td>0.004486</td>\n",
       "      <td>0.000811</td>\n",
       "      <td>0.000618</td>\n",
       "      <td>0.003281</td>\n",
       "      <td>0.002114</td>\n",
       "      <td>0.000364</td>\n",
       "      <td>0.000245</td>\n",
       "    </tr>\n",
       "  </tbody>\n",
       "</table>\n",
       "<p>4019 rows × 15 columns</p>\n",
       "</div>"
      ],
      "text/plain": [
       "        conf_0    conf_1    conf_2    conf_3    conf_4    conf_5    conf_6  \\\n",
       "0     0.000948  0.000957  0.000264  0.957275  0.026875  0.000803  0.000382   \n",
       "1     0.000104  0.000172  0.000181  0.000471  0.001351  0.000065  0.000073   \n",
       "2     0.000309  0.000263  0.000650  0.014231  0.004378  0.001136  0.000227   \n",
       "3     0.000317  0.000320  0.000358  0.000429  0.002219  0.000153  0.000853   \n",
       "4     0.000159  0.000261  0.000205  0.000800  0.001563  0.000978  0.000142   \n",
       "...        ...       ...       ...       ...       ...       ...       ...   \n",
       "4014  0.000417  0.001222  0.000212  0.011378  0.970703  0.000451  0.001281   \n",
       "4015  0.000039  0.000202  0.000051  0.996826  0.001033  0.000051  0.000042   \n",
       "4016  0.000738  0.001576  0.000959  0.003708  0.006906  0.001628  0.968018   \n",
       "4017  0.000429  0.001225  0.000151  0.977783  0.006881  0.000555  0.000484   \n",
       "4018  0.001641  0.004064  0.001446  0.139987  0.838623  0.000556  0.000964   \n",
       "\n",
       "        conf_7    conf_8    conf_9   conf_10   conf_11   conf_12   conf_13  \\\n",
       "0     0.000643  0.009613  0.000388  0.000188  0.000740  0.000671  0.000176   \n",
       "1     0.000846  0.996338  0.000126  0.000067  0.000153  0.000060  0.000063   \n",
       "2     0.000826  0.974365  0.000213  0.000076  0.001708  0.000290  0.000717   \n",
       "3     0.003200  0.001556  0.000212  0.000129  0.000234  0.000104  0.000359   \n",
       "4     0.000346  0.994873  0.000062  0.000078  0.000154  0.000054  0.000153   \n",
       "...        ...       ...       ...       ...       ...       ...       ...   \n",
       "4014  0.006779  0.002911  0.000423  0.000382  0.000418  0.000498  0.002146   \n",
       "4015  0.000134  0.001335  0.000039  0.000026  0.000119  0.000036  0.000026   \n",
       "4016  0.001507  0.006347  0.002285  0.000361  0.000924  0.001000  0.001117   \n",
       "4017  0.003722  0.004078  0.000135  0.000071  0.000471  0.003755  0.000227   \n",
       "4018  0.000727  0.004486  0.000811  0.000618  0.003281  0.002114  0.000364   \n",
       "\n",
       "       conf_14  \n",
       "0     0.000117  \n",
       "1     0.000047  \n",
       "2     0.000778  \n",
       "3     0.989502  \n",
       "4     0.000140  \n",
       "...        ...  \n",
       "4014  0.000822  \n",
       "4015  0.000025  \n",
       "4016  0.002901  \n",
       "4017  0.000139  \n",
       "4018  0.000245  \n",
       "\n",
       "[4019 rows x 15 columns]"
      ]
     },
     "execution_count": 11,
     "metadata": {},
     "output_type": "execute_result"
    }
   ],
   "source": [
    "oof[['conf_0', 'conf_1', 'conf_2', 'conf_3', 'conf_4',\n",
    "     'conf_5', 'conf_6', 'conf_7', 'conf_8', 'conf_9',\n",
    "     'conf_10', 'conf_11', 'conf_12', 'conf_13', 'conf_14']]"
   ]
  },
  {
   "cell_type": "code",
   "execution_count": 12,
   "id": "4d953294",
   "metadata": {
    "hidden": true
   },
   "outputs": [
    {
     "name": "stdout",
     "output_type": "stream",
     "text": [
      "4019\n"
     ]
    }
   ],
   "source": [
    "results_oof = np.argmax(\n",
    "    oof[['conf_0', 'conf_1', 'conf_2', 'conf_3', 'conf_4',\n",
    "         'conf_5', 'conf_6', 'conf_7', 'conf_8', 'conf_9',\n",
    "         'conf_10', 'conf_11', 'conf_12', 'conf_13', 'conf_14']].values, \n",
    "    axis=1)\n",
    "print(len(results_oof))"
   ]
  },
  {
   "cell_type": "code",
   "execution_count": 13,
   "id": "26cc846f",
   "metadata": {
    "hidden": true
   },
   "outputs": [
    {
     "name": "stdout",
     "output_type": "stream",
     "text": [
      "0.9866\n"
     ]
    }
   ],
   "source": [
    "score = f1_score(oof.target.values, results_oof, average='micro')\n",
    "print(f'{score:.4f}')"
   ]
  },
  {
   "cell_type": "code",
   "execution_count": 14,
   "id": "24244477",
   "metadata": {
    "hidden": true
   },
   "outputs": [],
   "source": [
    "sub_name = '_'.join(versions)\n",
    "oof.to_csv(f'../output/ensemble/{pref}_oof_softvoting_{sub_name}_{score:.4f}.csv', index=False)"
   ]
  },
  {
   "cell_type": "code",
   "execution_count": 15,
   "id": "7b938b33",
   "metadata": {
    "hidden": true
   },
   "outputs": [
    {
     "name": "stdout",
     "output_type": "stream",
     "text": [
      "2200\n"
     ]
    }
   ],
   "source": [
    "results = np.argmax(\n",
    "    sub[['conf_0', 'conf_1', 'conf_2', 'conf_3', 'conf_4','conf_5', 'conf_6', 'conf_7', 'conf_8', 'conf_9','conf_10', 'conf_11', 'conf_12', 'conf_13', 'conf_14']].values, \n",
    "    axis=1)\n",
    "print(len(results))"
   ]
  },
  {
   "cell_type": "code",
   "execution_count": 16,
   "id": "48b07d28",
   "metadata": {
    "hidden": true
   },
   "outputs": [],
   "source": [
    "label_dict = {\n",
    "   0 : 'HDMI',\n",
    "   1 : 'USB_Mini',\n",
    "   2 : 'Dock',\n",
    "   3 : 'Lightning',\n",
    "   4 : 'USB_Micro_B',\n",
    "   5 : 'Mini_DisplayPort',\n",
    "   6 : 'RJ_45',\n",
    "   7 : 'USB_Type_A',\n",
    "   8 : 'USB_Type_C',\n",
    "   9 : 'USB_Micro_B_3.1',\n",
    "  10 : 'USB_Type_B',\n",
    "  11 : 'Lightning_T',\n",
    "  12 : 'USB_Micro_B_W',\n",
    "  13 : 'VGA',\n",
    "  14 : 'DisplayPort'\n",
    "}"
   ]
  },
  {
   "cell_type": "code",
   "execution_count": 17,
   "id": "9a44012f",
   "metadata": {
    "hidden": true
   },
   "outputs": [
    {
     "name": "stdout",
     "output_type": "stream",
     "text": [
      "2200\n"
     ]
    }
   ],
   "source": [
    "targets = []\n",
    "for i in range(len(results)):\n",
    "    targets.append(label_dict[results[i]])\n",
    "print(len(targets))"
   ]
  },
  {
   "cell_type": "code",
   "execution_count": 18,
   "id": "ad69a581",
   "metadata": {
    "hidden": true
   },
   "outputs": [],
   "source": [
    "sub['class'] = targets"
   ]
  },
  {
   "cell_type": "code",
   "execution_count": 19,
   "id": "ebbf7c4c",
   "metadata": {
    "hidden": true,
    "scrolled": true
   },
   "outputs": [
    {
     "data": {
      "text/html": [
       "<div>\n",
       "<style scoped>\n",
       "    .dataframe tbody tr th:only-of-type {\n",
       "        vertical-align: middle;\n",
       "    }\n",
       "\n",
       "    .dataframe tbody tr th {\n",
       "        vertical-align: top;\n",
       "    }\n",
       "\n",
       "    .dataframe thead th {\n",
       "        text-align: right;\n",
       "    }\n",
       "</style>\n",
       "<table border=\"1\" class=\"dataframe\">\n",
       "  <thead>\n",
       "    <tr style=\"text-align: right;\">\n",
       "      <th></th>\n",
       "      <th>target</th>\n",
       "      <th>conf_0</th>\n",
       "      <th>conf_1</th>\n",
       "      <th>conf_2</th>\n",
       "      <th>conf_3</th>\n",
       "      <th>conf_4</th>\n",
       "      <th>conf_5</th>\n",
       "      <th>conf_6</th>\n",
       "      <th>conf_7</th>\n",
       "      <th>conf_8</th>\n",
       "      <th>conf_9</th>\n",
       "      <th>conf_10</th>\n",
       "      <th>conf_11</th>\n",
       "      <th>conf_12</th>\n",
       "      <th>conf_13</th>\n",
       "      <th>conf_14</th>\n",
       "      <th>pred_0</th>\n",
       "      <th>pred_1</th>\n",
       "      <th>class</th>\n",
       "    </tr>\n",
       "  </thead>\n",
       "  <tbody>\n",
       "    <tr>\n",
       "      <th>0</th>\n",
       "      <td>8</td>\n",
       "      <td>0.001583</td>\n",
       "      <td>0.002254</td>\n",
       "      <td>0.001608</td>\n",
       "      <td>0.000973</td>\n",
       "      <td>0.007525</td>\n",
       "      <td>0.000442</td>\n",
       "      <td>0.000784</td>\n",
       "      <td>0.001472</td>\n",
       "      <td>0.977197</td>\n",
       "      <td>0.001047</td>\n",
       "      <td>0.000110</td>\n",
       "      <td>0.001534</td>\n",
       "      <td>0.000158</td>\n",
       "      <td>0.002414</td>\n",
       "      <td>0.000983</td>\n",
       "      <td>8</td>\n",
       "      <td>8</td>\n",
       "      <td>USB_Type_C</td>\n",
       "    </tr>\n",
       "    <tr>\n",
       "      <th>1</th>\n",
       "      <td>4</td>\n",
       "      <td>0.000167</td>\n",
       "      <td>0.003869</td>\n",
       "      <td>0.000085</td>\n",
       "      <td>0.001792</td>\n",
       "      <td>0.989258</td>\n",
       "      <td>0.000584</td>\n",
       "      <td>0.000192</td>\n",
       "      <td>0.000957</td>\n",
       "      <td>0.000861</td>\n",
       "      <td>0.000242</td>\n",
       "      <td>0.000552</td>\n",
       "      <td>0.000302</td>\n",
       "      <td>0.000546</td>\n",
       "      <td>0.000261</td>\n",
       "      <td>0.000296</td>\n",
       "      <td>4</td>\n",
       "      <td>4</td>\n",
       "      <td>USB_Micro_B</td>\n",
       "    </tr>\n",
       "    <tr>\n",
       "      <th>2</th>\n",
       "      <td>8</td>\n",
       "      <td>0.000275</td>\n",
       "      <td>0.000685</td>\n",
       "      <td>0.000103</td>\n",
       "      <td>0.002518</td>\n",
       "      <td>0.012073</td>\n",
       "      <td>0.000149</td>\n",
       "      <td>0.000126</td>\n",
       "      <td>0.001634</td>\n",
       "      <td>0.981152</td>\n",
       "      <td>0.000066</td>\n",
       "      <td>0.000127</td>\n",
       "      <td>0.000228</td>\n",
       "      <td>0.000642</td>\n",
       "      <td>0.000171</td>\n",
       "      <td>0.000075</td>\n",
       "      <td>8</td>\n",
       "      <td>8</td>\n",
       "      <td>USB_Type_C</td>\n",
       "    </tr>\n",
       "    <tr>\n",
       "      <th>3</th>\n",
       "      <td>4</td>\n",
       "      <td>0.000951</td>\n",
       "      <td>0.000686</td>\n",
       "      <td>0.000363</td>\n",
       "      <td>0.006087</td>\n",
       "      <td>0.956152</td>\n",
       "      <td>0.000556</td>\n",
       "      <td>0.000292</td>\n",
       "      <td>0.001420</td>\n",
       "      <td>0.011992</td>\n",
       "      <td>0.000237</td>\n",
       "      <td>0.000339</td>\n",
       "      <td>0.000594</td>\n",
       "      <td>0.019616</td>\n",
       "      <td>0.000577</td>\n",
       "      <td>0.000216</td>\n",
       "      <td>4</td>\n",
       "      <td>4</td>\n",
       "      <td>USB_Micro_B</td>\n",
       "    </tr>\n",
       "    <tr>\n",
       "      <th>4</th>\n",
       "      <td>1</td>\n",
       "      <td>0.000954</td>\n",
       "      <td>0.984180</td>\n",
       "      <td>0.000058</td>\n",
       "      <td>0.002063</td>\n",
       "      <td>0.006342</td>\n",
       "      <td>0.000847</td>\n",
       "      <td>0.000140</td>\n",
       "      <td>0.001433</td>\n",
       "      <td>0.003198</td>\n",
       "      <td>0.000064</td>\n",
       "      <td>0.000252</td>\n",
       "      <td>0.000188</td>\n",
       "      <td>0.000114</td>\n",
       "      <td>0.000140</td>\n",
       "      <td>0.000040</td>\n",
       "      <td>1</td>\n",
       "      <td>1</td>\n",
       "      <td>USB_Mini</td>\n",
       "    </tr>\n",
       "    <tr>\n",
       "      <th>...</th>\n",
       "      <td>...</td>\n",
       "      <td>...</td>\n",
       "      <td>...</td>\n",
       "      <td>...</td>\n",
       "      <td>...</td>\n",
       "      <td>...</td>\n",
       "      <td>...</td>\n",
       "      <td>...</td>\n",
       "      <td>...</td>\n",
       "      <td>...</td>\n",
       "      <td>...</td>\n",
       "      <td>...</td>\n",
       "      <td>...</td>\n",
       "      <td>...</td>\n",
       "      <td>...</td>\n",
       "      <td>...</td>\n",
       "      <td>...</td>\n",
       "      <td>...</td>\n",
       "      <td>...</td>\n",
       "    </tr>\n",
       "    <tr>\n",
       "      <th>2195</th>\n",
       "      <td>4</td>\n",
       "      <td>0.000098</td>\n",
       "      <td>0.001891</td>\n",
       "      <td>0.000076</td>\n",
       "      <td>0.000683</td>\n",
       "      <td>0.993604</td>\n",
       "      <td>0.000251</td>\n",
       "      <td>0.000210</td>\n",
       "      <td>0.000348</td>\n",
       "      <td>0.000701</td>\n",
       "      <td>0.000444</td>\n",
       "      <td>0.000173</td>\n",
       "      <td>0.000330</td>\n",
       "      <td>0.000475</td>\n",
       "      <td>0.000595</td>\n",
       "      <td>0.000102</td>\n",
       "      <td>4</td>\n",
       "      <td>4</td>\n",
       "      <td>USB_Micro_B</td>\n",
       "    </tr>\n",
       "    <tr>\n",
       "      <th>2196</th>\n",
       "      <td>1</td>\n",
       "      <td>0.000377</td>\n",
       "      <td>0.964355</td>\n",
       "      <td>0.000136</td>\n",
       "      <td>0.004443</td>\n",
       "      <td>0.016893</td>\n",
       "      <td>0.000481</td>\n",
       "      <td>0.000417</td>\n",
       "      <td>0.002577</td>\n",
       "      <td>0.007433</td>\n",
       "      <td>0.000237</td>\n",
       "      <td>0.001649</td>\n",
       "      <td>0.000390</td>\n",
       "      <td>0.000316</td>\n",
       "      <td>0.000215</td>\n",
       "      <td>0.000082</td>\n",
       "      <td>1</td>\n",
       "      <td>1</td>\n",
       "      <td>USB_Mini</td>\n",
       "    </tr>\n",
       "    <tr>\n",
       "      <th>2197</th>\n",
       "      <td>7</td>\n",
       "      <td>0.000376</td>\n",
       "      <td>0.000399</td>\n",
       "      <td>0.000102</td>\n",
       "      <td>0.000561</td>\n",
       "      <td>0.001076</td>\n",
       "      <td>0.000257</td>\n",
       "      <td>0.000154</td>\n",
       "      <td>0.995313</td>\n",
       "      <td>0.000764</td>\n",
       "      <td>0.000074</td>\n",
       "      <td>0.000102</td>\n",
       "      <td>0.000286</td>\n",
       "      <td>0.000091</td>\n",
       "      <td>0.000061</td>\n",
       "      <td>0.000359</td>\n",
       "      <td>7</td>\n",
       "      <td>7</td>\n",
       "      <td>USB_Type_A</td>\n",
       "    </tr>\n",
       "    <tr>\n",
       "      <th>2198</th>\n",
       "      <td>6</td>\n",
       "      <td>0.004042</td>\n",
       "      <td>0.002734</td>\n",
       "      <td>0.001274</td>\n",
       "      <td>0.015396</td>\n",
       "      <td>0.031628</td>\n",
       "      <td>0.001876</td>\n",
       "      <td>0.890869</td>\n",
       "      <td>0.008803</td>\n",
       "      <td>0.005108</td>\n",
       "      <td>0.011787</td>\n",
       "      <td>0.001486</td>\n",
       "      <td>0.017214</td>\n",
       "      <td>0.001465</td>\n",
       "      <td>0.002575</td>\n",
       "      <td>0.003734</td>\n",
       "      <td>6</td>\n",
       "      <td>6</td>\n",
       "      <td>RJ_45</td>\n",
       "    </tr>\n",
       "    <tr>\n",
       "      <th>2199</th>\n",
       "      <td>8</td>\n",
       "      <td>0.000358</td>\n",
       "      <td>0.000684</td>\n",
       "      <td>0.000161</td>\n",
       "      <td>0.002498</td>\n",
       "      <td>0.005045</td>\n",
       "      <td>0.001660</td>\n",
       "      <td>0.000323</td>\n",
       "      <td>0.000423</td>\n",
       "      <td>0.983838</td>\n",
       "      <td>0.000304</td>\n",
       "      <td>0.000203</td>\n",
       "      <td>0.003603</td>\n",
       "      <td>0.000171</td>\n",
       "      <td>0.000389</td>\n",
       "      <td>0.000345</td>\n",
       "      <td>8</td>\n",
       "      <td>8</td>\n",
       "      <td>USB_Type_C</td>\n",
       "    </tr>\n",
       "  </tbody>\n",
       "</table>\n",
       "<p>2200 rows × 19 columns</p>\n",
       "</div>"
      ],
      "text/plain": [
       "      target    conf_0    conf_1    conf_2    conf_3    conf_4    conf_5  \\\n",
       "0          8  0.001583  0.002254  0.001608  0.000973  0.007525  0.000442   \n",
       "1          4  0.000167  0.003869  0.000085  0.001792  0.989258  0.000584   \n",
       "2          8  0.000275  0.000685  0.000103  0.002518  0.012073  0.000149   \n",
       "3          4  0.000951  0.000686  0.000363  0.006087  0.956152  0.000556   \n",
       "4          1  0.000954  0.984180  0.000058  0.002063  0.006342  0.000847   \n",
       "...      ...       ...       ...       ...       ...       ...       ...   \n",
       "2195       4  0.000098  0.001891  0.000076  0.000683  0.993604  0.000251   \n",
       "2196       1  0.000377  0.964355  0.000136  0.004443  0.016893  0.000481   \n",
       "2197       7  0.000376  0.000399  0.000102  0.000561  0.001076  0.000257   \n",
       "2198       6  0.004042  0.002734  0.001274  0.015396  0.031628  0.001876   \n",
       "2199       8  0.000358  0.000684  0.000161  0.002498  0.005045  0.001660   \n",
       "\n",
       "        conf_6    conf_7    conf_8    conf_9   conf_10   conf_11   conf_12  \\\n",
       "0     0.000784  0.001472  0.977197  0.001047  0.000110  0.001534  0.000158   \n",
       "1     0.000192  0.000957  0.000861  0.000242  0.000552  0.000302  0.000546   \n",
       "2     0.000126  0.001634  0.981152  0.000066  0.000127  0.000228  0.000642   \n",
       "3     0.000292  0.001420  0.011992  0.000237  0.000339  0.000594  0.019616   \n",
       "4     0.000140  0.001433  0.003198  0.000064  0.000252  0.000188  0.000114   \n",
       "...        ...       ...       ...       ...       ...       ...       ...   \n",
       "2195  0.000210  0.000348  0.000701  0.000444  0.000173  0.000330  0.000475   \n",
       "2196  0.000417  0.002577  0.007433  0.000237  0.001649  0.000390  0.000316   \n",
       "2197  0.000154  0.995313  0.000764  0.000074  0.000102  0.000286  0.000091   \n",
       "2198  0.890869  0.008803  0.005108  0.011787  0.001486  0.017214  0.001465   \n",
       "2199  0.000323  0.000423  0.983838  0.000304  0.000203  0.003603  0.000171   \n",
       "\n",
       "       conf_13   conf_14  pred_0  pred_1        class  \n",
       "0     0.002414  0.000983       8       8   USB_Type_C  \n",
       "1     0.000261  0.000296       4       4  USB_Micro_B  \n",
       "2     0.000171  0.000075       8       8   USB_Type_C  \n",
       "3     0.000577  0.000216       4       4  USB_Micro_B  \n",
       "4     0.000140  0.000040       1       1     USB_Mini  \n",
       "...        ...       ...     ...     ...          ...  \n",
       "2195  0.000595  0.000102       4       4  USB_Micro_B  \n",
       "2196  0.000215  0.000082       1       1     USB_Mini  \n",
       "2197  0.000061  0.000359       7       7   USB_Type_A  \n",
       "2198  0.002575  0.003734       6       6        RJ_45  \n",
       "2199  0.000389  0.000345       8       8   USB_Type_C  \n",
       "\n",
       "[2200 rows x 19 columns]"
      ]
     },
     "execution_count": 19,
     "metadata": {},
     "output_type": "execute_result"
    }
   ],
   "source": [
    "sub"
   ]
  },
  {
   "cell_type": "code",
   "execution_count": 20,
   "id": "29389348",
   "metadata": {
    "hidden": true
   },
   "outputs": [],
   "source": [
    "test = pd.read_csv('../input/test_with_fold.csv')"
   ]
  },
  {
   "cell_type": "code",
   "execution_count": 21,
   "id": "52ed9137",
   "metadata": {
    "hidden": true
   },
   "outputs": [],
   "source": [
    "sub['filename'] = test['filename']"
   ]
  },
  {
   "cell_type": "code",
   "execution_count": 22,
   "id": "651c7b00",
   "metadata": {
    "hidden": true
   },
   "outputs": [
    {
     "data": {
      "text/html": [
       "<div>\n",
       "<style scoped>\n",
       "    .dataframe tbody tr th:only-of-type {\n",
       "        vertical-align: middle;\n",
       "    }\n",
       "\n",
       "    .dataframe tbody tr th {\n",
       "        vertical-align: top;\n",
       "    }\n",
       "\n",
       "    .dataframe thead th {\n",
       "        text-align: right;\n",
       "    }\n",
       "</style>\n",
       "<table border=\"1\" class=\"dataframe\">\n",
       "  <thead>\n",
       "    <tr style=\"text-align: right;\">\n",
       "      <th></th>\n",
       "      <th>filename</th>\n",
       "      <th>class</th>\n",
       "    </tr>\n",
       "  </thead>\n",
       "  <tbody>\n",
       "    <tr>\n",
       "      <th>0</th>\n",
       "      <td>997195ba.jpg</td>\n",
       "      <td>USB_Type_C</td>\n",
       "    </tr>\n",
       "    <tr>\n",
       "      <th>1</th>\n",
       "      <td>9f3f263d.jpg</td>\n",
       "      <td>USB_Micro_B</td>\n",
       "    </tr>\n",
       "    <tr>\n",
       "      <th>2</th>\n",
       "      <td>1072aa7d.jpg</td>\n",
       "      <td>USB_Type_C</td>\n",
       "    </tr>\n",
       "    <tr>\n",
       "      <th>3</th>\n",
       "      <td>f8047293.jpg</td>\n",
       "      <td>USB_Micro_B</td>\n",
       "    </tr>\n",
       "    <tr>\n",
       "      <th>4</th>\n",
       "      <td>3dccb562.jpg</td>\n",
       "      <td>USB_Mini</td>\n",
       "    </tr>\n",
       "    <tr>\n",
       "      <th>...</th>\n",
       "      <td>...</td>\n",
       "      <td>...</td>\n",
       "    </tr>\n",
       "    <tr>\n",
       "      <th>2195</th>\n",
       "      <td>4eae2d46.jpg</td>\n",
       "      <td>USB_Micro_B</td>\n",
       "    </tr>\n",
       "    <tr>\n",
       "      <th>2196</th>\n",
       "      <td>ceadcae4.jpg</td>\n",
       "      <td>USB_Mini</td>\n",
       "    </tr>\n",
       "    <tr>\n",
       "      <th>2197</th>\n",
       "      <td>4a5a3544.jpg</td>\n",
       "      <td>USB_Type_A</td>\n",
       "    </tr>\n",
       "    <tr>\n",
       "      <th>2198</th>\n",
       "      <td>bbc3c7b6.jpg</td>\n",
       "      <td>RJ_45</td>\n",
       "    </tr>\n",
       "    <tr>\n",
       "      <th>2199</th>\n",
       "      <td>8b13945f.jpg</td>\n",
       "      <td>USB_Type_C</td>\n",
       "    </tr>\n",
       "  </tbody>\n",
       "</table>\n",
       "<p>2200 rows × 2 columns</p>\n",
       "</div>"
      ],
      "text/plain": [
       "          filename        class\n",
       "0     997195ba.jpg   USB_Type_C\n",
       "1     9f3f263d.jpg  USB_Micro_B\n",
       "2     1072aa7d.jpg   USB_Type_C\n",
       "3     f8047293.jpg  USB_Micro_B\n",
       "4     3dccb562.jpg     USB_Mini\n",
       "...            ...          ...\n",
       "2195  4eae2d46.jpg  USB_Micro_B\n",
       "2196  ceadcae4.jpg     USB_Mini\n",
       "2197  4a5a3544.jpg   USB_Type_A\n",
       "2198  bbc3c7b6.jpg        RJ_45\n",
       "2199  8b13945f.jpg   USB_Type_C\n",
       "\n",
       "[2200 rows x 2 columns]"
      ]
     },
     "execution_count": 22,
     "metadata": {},
     "output_type": "execute_result"
    }
   ],
   "source": [
    "sub[['filename', 'class']]"
   ]
  },
  {
   "cell_type": "code",
   "execution_count": 23,
   "id": "c8c7fa30",
   "metadata": {
    "hidden": true
   },
   "outputs": [],
   "source": [
    "sub_name = '_'.join(versions)\n",
    "sub[['filename', 'class']].to_csv(f'../output/ensemble/{pref}_softvoting_{sub_name}.csv', index=False)"
   ]
  },
  {
   "cell_type": "code",
   "execution_count": null,
   "id": "65813b06",
   "metadata": {
    "hidden": true
   },
   "outputs": [],
   "source": []
  }
 ],
 "metadata": {
  "kernelspec": {
   "display_name": "Python 3",
   "language": "python",
   "name": "python3"
  },
  "language_info": {
   "codemirror_mode": {
    "name": "ipython",
    "version": 3
   },
   "file_extension": ".py",
   "mimetype": "text/x-python",
   "name": "python",
   "nbconvert_exporter": "python",
   "pygments_lexer": "ipython3",
   "version": "3.8.11"
  },
  "toc": {
   "base_numbering": 1,
   "nav_menu": {},
   "number_sections": true,
   "sideBar": true,
   "skip_h1_title": false,
   "title_cell": "Table of Contents",
   "title_sidebar": "Contents",
   "toc_cell": true,
   "toc_position": {},
   "toc_section_display": true,
   "toc_window_display": false
  }
 },
 "nbformat": 4,
 "nbformat_minor": 5
}
